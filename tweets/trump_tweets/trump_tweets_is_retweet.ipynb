{
 "cells": [
  {
   "cell_type": "code",
   "execution_count": 5,
   "metadata": {},
   "outputs": [],
   "source": [
    "import pandas as pd\n",
    "import numpy as np\n",
    "import datetime as dt\n",
    "import matplotlib.pyplot as plt\n",
    "import seaborn as sns\n",
    "import sys\n",
    "import re\n",
    "from fastai.text import *\n",
    "\n",
    "pd.set_option('display.max_colwidth', 500)\n"
   ]
  },
  {
   "cell_type": "code",
   "execution_count": 6,
   "metadata": {},
   "outputs": [],
   "source": [
    "df09 = pd.read_json('condensed_2009.json')\n",
    "df10 = pd.read_json('condensed_2010.json')\n",
    "df11 = pd.read_json('condensed_2011.json')\n",
    "df12 = pd.read_json('condensed_2012.json')\n",
    "df13 = pd.read_json('condensed_2013.json')\n",
    "df14 = pd.read_json('condensed_2014.json')\n",
    "df15 = pd.read_json('condensed_2015.json')\n",
    "df16 = pd.read_json('condensed_2016.json')\n",
    "df17 = pd.read_json('condensed_2017.json')\n",
    "df18 = pd.read_json('condensed_2018.json')\n",
    "df19 = pd.read_json('2019.json')\n",
    "df20 = pd.read_json('2020.json')\n",
    "\n",
    "years = [df09, df10, df11, df12, df13, df14, \n",
    "         df14, df15, df16, df17, df18, df19, df20]\n",
    "\n",
    "df = pd.concat(years)\n",
    "df = df.sort_values('created_at').reset_index(drop=True)\n",
    "\n",
    "df['created_date'] = [d.date() for d in df['created_at']]\n",
    "df['created_time'] = [d.time() for d in df['created_at']]\n",
    "\n",
    "# takes a retweet as a string and removes the 'RT @name: '\n",
    "def remove_rt_signature(tweet):\n",
    "    split_tweet = tweet.split(':', 1)\n",
    "    return split_tweet[1][1:]\n",
    "\n",
    "# make a new column of all the tweets with the retweets cleaned up\n",
    "df['text_cleaned'] = df.apply(lambda row: row['text'] if row['is_retweet'] == False \n",
    "                                    else remove_rt_signature(row['text']), axis=1)\n",
    "\n",
    "# add a validation column to indicate the testing data. Use the most recent 20%\n",
    "df['is_valid'] = False\n",
    "\n",
    "# Validation data will be most recent 10% of the tweets\n",
    "\n",
    "# test_size = len(df['is_valid']) // 10 \n",
    "\n",
    "# df['is_valid'].iloc[-test_size:] = True    \n",
    "\n"
   ]
  },
  {
   "cell_type": "code",
   "execution_count": 7,
   "metadata": {},
   "outputs": [
    {
     "data": {
      "text/html": [
       "<div>\n",
       "<style scoped>\n",
       "    .dataframe tbody tr th:only-of-type {\n",
       "        vertical-align: middle;\n",
       "    }\n",
       "\n",
       "    .dataframe tbody tr th {\n",
       "        vertical-align: top;\n",
       "    }\n",
       "\n",
       "    .dataframe thead th {\n",
       "        text-align: right;\n",
       "    }\n",
       "</style>\n",
       "<table border=\"1\" class=\"dataframe\">\n",
       "  <thead>\n",
       "    <tr style=\"text-align: right;\">\n",
       "      <th></th>\n",
       "      <th>source</th>\n",
       "      <th>id_str</th>\n",
       "      <th>text</th>\n",
       "      <th>created_at</th>\n",
       "      <th>retweet_count</th>\n",
       "      <th>in_reply_to_user_id_str</th>\n",
       "      <th>favorite_count</th>\n",
       "      <th>is_retweet</th>\n",
       "      <th>created_date</th>\n",
       "      <th>created_time</th>\n",
       "      <th>text_cleaned</th>\n",
       "      <th>is_valid</th>\n",
       "    </tr>\n",
       "  </thead>\n",
       "  <tbody>\n",
       "    <tr>\n",
       "      <th>53223</th>\n",
       "      <td>Twitter for iPhone</td>\n",
       "      <td>1251670585165459456</td>\n",
       "      <td>Great new book out by @realKTMcFarland, “Revolution: Trump, Washington, and We the People”. Get your copy today! https://t.co/KBkladnmPQ</td>\n",
       "      <td>2020-04-19 00:34:57+00:00</td>\n",
       "      <td>7029</td>\n",
       "      <td>NaN</td>\n",
       "      <td>25678</td>\n",
       "      <td>False</td>\n",
       "      <td>2020-04-19</td>\n",
       "      <td>00:34:57</td>\n",
       "      <td>Great new book out by @realKTMcFarland, “Revolution: Trump, Washington, and We the People”. Get your copy today! https://t.co/KBkladnmPQ</td>\n",
       "      <td>False</td>\n",
       "    </tr>\n",
       "    <tr>\n",
       "      <th>53224</th>\n",
       "      <td>Twitter for iPhone</td>\n",
       "      <td>1251670667965104128</td>\n",
       "      <td>RT @realDonaldTrump: Our GREAT Senator from South Carolina, @SenatorTimScott just released a fantastic new book, “OPPORTUNITY KNOCKS: How H…</td>\n",
       "      <td>2020-04-19 00:35:16+00:00</td>\n",
       "      <td>13202</td>\n",
       "      <td>NaN</td>\n",
       "      <td>0</td>\n",
       "      <td>True</td>\n",
       "      <td>2020-04-19</td>\n",
       "      <td>00:35:16</td>\n",
       "      <td>Our GREAT Senator from South Carolina, @SenatorTimScott just released a fantastic new book, “OPPORTUNITY KNOCKS: How H…</td>\n",
       "      <td>False</td>\n",
       "    </tr>\n",
       "    <tr>\n",
       "      <th>53225</th>\n",
       "      <td>Twitter for iPhone</td>\n",
       "      <td>1251703696385290240</td>\n",
       "      <td>RT @realDonaldTrump: Great news, thank you!</td>\n",
       "      <td>2020-04-19 02:46:31+00:00</td>\n",
       "      <td>11778</td>\n",
       "      <td>NaN</td>\n",
       "      <td>0</td>\n",
       "      <td>True</td>\n",
       "      <td>2020-04-19</td>\n",
       "      <td>02:46:31</td>\n",
       "      <td>Great news, thank you!</td>\n",
       "      <td>False</td>\n",
       "    </tr>\n",
       "    <tr>\n",
       "      <th>53226</th>\n",
       "      <td>Twitter for iPhone</td>\n",
       "      <td>1251703767067754496</td>\n",
       "      <td>RT @realDonaldTrump: Thank you @Honeywell, great job!</td>\n",
       "      <td>2020-04-19 02:46:48+00:00</td>\n",
       "      <td>10597</td>\n",
       "      <td>NaN</td>\n",
       "      <td>0</td>\n",
       "      <td>True</td>\n",
       "      <td>2020-04-19</td>\n",
       "      <td>02:46:48</td>\n",
       "      <td>Thank you @Honeywell, great job!</td>\n",
       "      <td>False</td>\n",
       "    </tr>\n",
       "    <tr>\n",
       "      <th>53227</th>\n",
       "      <td>Twitter for iPhone</td>\n",
       "      <td>1251713028246122496</td>\n",
       "      <td>CONGRATULATIONS @AF_Academy! https://t.co/27HxXLNbd8</td>\n",
       "      <td>2020-04-19 03:23:36+00:00</td>\n",
       "      <td>640</td>\n",
       "      <td>NaN</td>\n",
       "      <td>2536</td>\n",
       "      <td>False</td>\n",
       "      <td>2020-04-19</td>\n",
       "      <td>03:23:36</td>\n",
       "      <td>CONGRATULATIONS @AF_Academy! https://t.co/27HxXLNbd8</td>\n",
       "      <td>False</td>\n",
       "    </tr>\n",
       "  </tbody>\n",
       "</table>\n",
       "</div>"
      ],
      "text/plain": [
       "                   source               id_str  \\\n",
       "53223  Twitter for iPhone  1251670585165459456   \n",
       "53224  Twitter for iPhone  1251670667965104128   \n",
       "53225  Twitter for iPhone  1251703696385290240   \n",
       "53226  Twitter for iPhone  1251703767067754496   \n",
       "53227  Twitter for iPhone  1251713028246122496   \n",
       "\n",
       "                                                                                                                                               text  \\\n",
       "53223      Great new book out by @realKTMcFarland, “Revolution: Trump, Washington, and We the People”. Get your copy today! https://t.co/KBkladnmPQ   \n",
       "53224  RT @realDonaldTrump: Our GREAT Senator from South Carolina, @SenatorTimScott just released a fantastic new book, “OPPORTUNITY KNOCKS: How H…   \n",
       "53225                                                                                                   RT @realDonaldTrump: Great news, thank you!   \n",
       "53226                                                                                         RT @realDonaldTrump: Thank you @Honeywell, great job!   \n",
       "53227                                                                                          CONGRATULATIONS @AF_Academy! https://t.co/27HxXLNbd8   \n",
       "\n",
       "                     created_at  retweet_count  in_reply_to_user_id_str  \\\n",
       "53223 2020-04-19 00:34:57+00:00           7029                      NaN   \n",
       "53224 2020-04-19 00:35:16+00:00          13202                      NaN   \n",
       "53225 2020-04-19 02:46:31+00:00          11778                      NaN   \n",
       "53226 2020-04-19 02:46:48+00:00          10597                      NaN   \n",
       "53227 2020-04-19 03:23:36+00:00            640                      NaN   \n",
       "\n",
       "       favorite_count  is_retweet created_date created_time  \\\n",
       "53223           25678       False   2020-04-19     00:34:57   \n",
       "53224               0        True   2020-04-19     00:35:16   \n",
       "53225               0        True   2020-04-19     02:46:31   \n",
       "53226               0        True   2020-04-19     02:46:48   \n",
       "53227            2536       False   2020-04-19     03:23:36   \n",
       "\n",
       "                                                                                                                                   text_cleaned  \\\n",
       "53223  Great new book out by @realKTMcFarland, “Revolution: Trump, Washington, and We the People”. Get your copy today! https://t.co/KBkladnmPQ   \n",
       "53224                   Our GREAT Senator from South Carolina, @SenatorTimScott just released a fantastic new book, “OPPORTUNITY KNOCKS: How H…   \n",
       "53225                                                                                                                    Great news, thank you!   \n",
       "53226                                                                                                          Thank you @Honeywell, great job!   \n",
       "53227                                                                                      CONGRATULATIONS @AF_Academy! https://t.co/27HxXLNbd8   \n",
       "\n",
       "       is_valid  \n",
       "53223     False  \n",
       "53224     False  \n",
       "53225     False  \n",
       "53226     False  \n",
       "53227     False  "
      ]
     },
     "execution_count": 7,
     "metadata": {},
     "output_type": "execute_result"
    }
   ],
   "source": [
    "df.tail()"
   ]
  },
  {
   "cell_type": "code",
   "execution_count": 4,
   "metadata": {},
   "outputs": [],
   "source": [
    "df.to_csv('tweet_df.csv')"
   ]
  },
  {
   "cell_type": "code",
   "execution_count": 23,
   "metadata": {},
   "outputs": [],
   "source": [
    "# make df of label, text, is_valid \n",
    "\n",
    "# label will be 'is_retweet'\n",
    "\n",
    "\n",
    "texts = df[['is_retweet', 'text_cleaned', 'is_valid']]"
   ]
  },
  {
   "cell_type": "code",
   "execution_count": null,
   "metadata": {},
   "outputs": [],
   "source": []
  },
  {
   "cell_type": "code",
   "execution_count": 24,
   "metadata": {
    "scrolled": false
   },
   "outputs": [],
   "source": [
    "texts = texts.rename(columns={'is_retweet':'label', 'text_cleaned':'text'})"
   ]
  },
  {
   "cell_type": "code",
   "execution_count": null,
   "metadata": {},
   "outputs": [],
   "source": []
  },
  {
   "cell_type": "code",
   "execution_count": 25,
   "metadata": {},
   "outputs": [
    {
     "data": {
      "text/html": [
       "<div>\n",
       "<style scoped>\n",
       "    .dataframe tbody tr th:only-of-type {\n",
       "        vertical-align: middle;\n",
       "    }\n",
       "\n",
       "    .dataframe tbody tr th {\n",
       "        vertical-align: top;\n",
       "    }\n",
       "\n",
       "    .dataframe thead th {\n",
       "        text-align: right;\n",
       "    }\n",
       "</style>\n",
       "<table border=\"1\" class=\"dataframe\">\n",
       "  <thead>\n",
       "    <tr style=\"text-align: right;\">\n",
       "      <th></th>\n",
       "      <th>label</th>\n",
       "      <th>text</th>\n",
       "      <th>is_valid</th>\n",
       "    </tr>\n",
       "  </thead>\n",
       "  <tbody>\n",
       "    <tr>\n",
       "      <th>0</th>\n",
       "      <td>False</td>\n",
       "      <td>Be sure to tune in and watch Donald Trump on Late Night with David Letterman as he presents the Top Ten List tonight!</td>\n",
       "      <td>False</td>\n",
       "    </tr>\n",
       "    <tr>\n",
       "      <th>1</th>\n",
       "      <td>False</td>\n",
       "      <td>Donald Trump will be appearing on The View tomorrow morning to discuss Celebrity Apprentice and his new book Think Like A Champion!</td>\n",
       "      <td>False</td>\n",
       "    </tr>\n",
       "    <tr>\n",
       "      <th>2</th>\n",
       "      <td>False</td>\n",
       "      <td>Donald Trump reads Top Ten Financial Tips on Late Show with David Letterman: http://tinyurl.com/ooafwn - Very funny!</td>\n",
       "      <td>False</td>\n",
       "    </tr>\n",
       "    <tr>\n",
       "      <th>3</th>\n",
       "      <td>False</td>\n",
       "      <td>New Blog Post: Celebrity Apprentice Finale and Lessons Learned Along the Way: http://tinyurl.com/qlux5e</td>\n",
       "      <td>False</td>\n",
       "    </tr>\n",
       "    <tr>\n",
       "      <th>4</th>\n",
       "      <td>False</td>\n",
       "      <td>\"My persona will never be that of a wallflower - I’d rather build walls than cling to them\" --Donald J. Trump</td>\n",
       "      <td>False</td>\n",
       "    </tr>\n",
       "    <tr>\n",
       "      <th>...</th>\n",
       "      <td>...</td>\n",
       "      <td>...</td>\n",
       "      <td>...</td>\n",
       "    </tr>\n",
       "    <tr>\n",
       "      <th>53223</th>\n",
       "      <td>False</td>\n",
       "      <td>Great new book out by @realKTMcFarland, “Revolution: Trump, Washington, and We the People”. Get your copy today! https://t.co/KBkladnmPQ</td>\n",
       "      <td>True</td>\n",
       "    </tr>\n",
       "    <tr>\n",
       "      <th>53224</th>\n",
       "      <td>True</td>\n",
       "      <td>Our GREAT Senator from South Carolina, @SenatorTimScott just released a fantastic new book, “OPPORTUNITY KNOCKS: How H…</td>\n",
       "      <td>True</td>\n",
       "    </tr>\n",
       "    <tr>\n",
       "      <th>53225</th>\n",
       "      <td>True</td>\n",
       "      <td>Great news, thank you!</td>\n",
       "      <td>True</td>\n",
       "    </tr>\n",
       "    <tr>\n",
       "      <th>53226</th>\n",
       "      <td>True</td>\n",
       "      <td>Thank you @Honeywell, great job!</td>\n",
       "      <td>True</td>\n",
       "    </tr>\n",
       "    <tr>\n",
       "      <th>53227</th>\n",
       "      <td>False</td>\n",
       "      <td>CONGRATULATIONS @AF_Academy! https://t.co/27HxXLNbd8</td>\n",
       "      <td>True</td>\n",
       "    </tr>\n",
       "  </tbody>\n",
       "</table>\n",
       "<p>53228 rows × 3 columns</p>\n",
       "</div>"
      ],
      "text/plain": [
       "       label  \\\n",
       "0      False   \n",
       "1      False   \n",
       "2      False   \n",
       "3      False   \n",
       "4      False   \n",
       "...      ...   \n",
       "53223  False   \n",
       "53224   True   \n",
       "53225   True   \n",
       "53226   True   \n",
       "53227  False   \n",
       "\n",
       "                                                                                                                                           text  \\\n",
       "0                         Be sure to tune in and watch Donald Trump on Late Night with David Letterman as he presents the Top Ten List tonight!   \n",
       "1           Donald Trump will be appearing on The View tomorrow morning to discuss Celebrity Apprentice and his new book Think Like A Champion!   \n",
       "2                          Donald Trump reads Top Ten Financial Tips on Late Show with David Letterman: http://tinyurl.com/ooafwn - Very funny!   \n",
       "3                                       New Blog Post: Celebrity Apprentice Finale and Lessons Learned Along the Way: http://tinyurl.com/qlux5e   \n",
       "4                                 \"My persona will never be that of a wallflower - I’d rather build walls than cling to them\" --Donald J. Trump   \n",
       "...                                                                                                                                         ...   \n",
       "53223  Great new book out by @realKTMcFarland, “Revolution: Trump, Washington, and We the People”. Get your copy today! https://t.co/KBkladnmPQ   \n",
       "53224                   Our GREAT Senator from South Carolina, @SenatorTimScott just released a fantastic new book, “OPPORTUNITY KNOCKS: How H…   \n",
       "53225                                                                                                                    Great news, thank you!   \n",
       "53226                                                                                                          Thank you @Honeywell, great job!   \n",
       "53227                                                                                      CONGRATULATIONS @AF_Academy! https://t.co/27HxXLNbd8   \n",
       "\n",
       "       is_valid  \n",
       "0         False  \n",
       "1         False  \n",
       "2         False  \n",
       "3         False  \n",
       "4         False  \n",
       "...         ...  \n",
       "53223      True  \n",
       "53224      True  \n",
       "53225      True  \n",
       "53226      True  \n",
       "53227      True  \n",
       "\n",
       "[53228 rows x 3 columns]"
      ]
     },
     "execution_count": 25,
     "metadata": {},
     "output_type": "execute_result"
    }
   ],
   "source": [
    "texts"
   ]
  },
  {
   "cell_type": "code",
   "execution_count": 26,
   "metadata": {},
   "outputs": [
    {
     "name": "stdout",
     "output_type": "stream",
     "text": [
      "/Users/cooper/Desktop/springboard/tweets/trump_tweets\r\n"
     ]
    }
   ],
   "source": [
    "!pwd"
   ]
  },
  {
   "cell_type": "code",
   "execution_count": 27,
   "metadata": {},
   "outputs": [],
   "source": [
    "# Define path, training data, and test data\n",
    "\n",
    "path = Path('/Users/cooper/Desktop/springboard/tweets/trump_tweets')\n",
    "\n",
    "train_df, valid_df = texts[texts['is_valid'] == True], texts[texts['is_valid'] == False]\n",
    "\n"
   ]
  },
  {
   "cell_type": "code",
   "execution_count": null,
   "metadata": {},
   "outputs": [],
   "source": []
  },
  {
   "cell_type": "code",
   "execution_count": null,
   "metadata": {},
   "outputs": [],
   "source": []
  },
  {
   "cell_type": "code",
   "execution_count": 29,
   "metadata": {},
   "outputs": [
    {
     "data": {
      "text/html": [],
      "text/plain": [
       "<IPython.core.display.HTML object>"
      ]
     },
     "metadata": {},
     "output_type": "display_data"
    },
    {
     "data": {
      "text/html": [],
      "text/plain": [
       "<IPython.core.display.HTML object>"
      ]
     },
     "metadata": {},
     "output_type": "display_data"
    },
    {
     "data": {
      "text/html": [],
      "text/plain": [
       "<IPython.core.display.HTML object>"
      ]
     },
     "metadata": {},
     "output_type": "display_data"
    },
    {
     "data": {
      "text/html": [],
      "text/plain": [
       "<IPython.core.display.HTML object>"
      ]
     },
     "metadata": {},
     "output_type": "display_data"
    }
   ],
   "source": [
    "# create data bunches\n",
    "\n",
    "data_lm = TextLMDataBunch.from_df(path, train_df, valid_df, text_cols=1, bs=32)\n",
    "\n",
    "data_clas = TextClasDataBunch.from_df(path, train_df, valid_df, text_cols=1, label_cols=0, bs=32)"
   ]
  },
  {
   "cell_type": "code",
   "execution_count": null,
   "metadata": {},
   "outputs": [],
   "source": []
  },
  {
   "cell_type": "code",
   "execution_count": 30,
   "metadata": {},
   "outputs": [
    {
     "data": {
      "text/html": [
       "<table border=\"1\" class=\"dataframe\">\n",
       "  <thead>\n",
       "    <tr style=\"text-align: right;\">\n",
       "      <th>idx</th>\n",
       "      <th>text</th>\n",
       "    </tr>\n",
       "  </thead>\n",
       "  <tbody>\n",
       "    <tr>\n",
       "      <td>0</td>\n",
       "      <td>’s inquiry is officially the first presidential impeachment inquiry in modern history authorized by members … xxbos xxup rt xxunk : xxmaj today ’s vote on the impeachment resolution is a continuation of the farce that xxmaj speaker xxmaj pelosi and xxmaj chairman xxmaj schiff are trying … xxbos xxup rt xxunk : xxmaj voted xxup against xxmaj impeachment xxmaj resolution . xxmaj voted xxup for xxmaj constitution and xxmaj</td>\n",
       "    </tr>\n",
       "    <tr>\n",
       "      <td>1</td>\n",
       "      <td>xxmaj spend your money well ! xxbos xxmaj many people say they know me , claiming to be “ best friends ” and really close etc . , when i do n’t know these people at all . xxmaj this happens , i xxunk , to all who become xxmaj president . xxmaj with that being stated , i do n’t know , to the best of my knowledge ,</td>\n",
       "    </tr>\n",
       "    <tr>\n",
       "      <td>2</td>\n",
       "      <td>xxmaj totally ! https : / / t.co / xxunk xxbos xxmaj thank you to xxup lsu and xxmaj alabama for a great game ! xxbos xxup rt xxunk : xxmaj alabama loves xxmaj president @realdonaldtrump . xxmaj this is what the fake news media wo n’t show you . # xxup maga 🇺 🇸 https : / / t.co / xxunk … xxbos xxmaj but the xxmaj fake xxmaj</td>\n",
       "    </tr>\n",
       "    <tr>\n",
       "      <td>3</td>\n",
       "      <td>answer the question . xxmaj that would be the end of a case run by normal people ! - but not xxmaj shifty ! xxbos xxmaj hit xxmaj new xxmaj stock xxmaj market record again yesterday , the 20th time this year , with xxup great potential for the future . xxup usa is where the action is . xxmaj companies and jobs are coming back like never before !</td>\n",
       "    </tr>\n",
       "    <tr>\n",
       "      <td>4</td>\n",
       "      <td>xxmaj lt . xxmaj col . xxmaj vindman was offered the position of xxmaj defense xxmaj minister for the xxmaj ukrainian xxmaj government xxup three times ! # xxmaj impeachmen … xxbos xxmaj in the 3,500 pages of transcripts released so far , there was only one reference to bribery . xxmaj xxunk to describe xxmaj vice p … xxbos .@repratcliffe nails it . \\n \\n  xxmaj democrats poll</td>\n",
       "    </tr>\n",
       "  </tbody>\n",
       "</table>"
      ],
      "text/plain": [
       "<IPython.core.display.HTML object>"
      ]
     },
     "metadata": {},
     "output_type": "display_data"
    }
   ],
   "source": [
    "data_lm.show_batch()"
   ]
  },
  {
   "cell_type": "code",
   "execution_count": 31,
   "metadata": {},
   "outputs": [
    {
     "data": {
      "text/html": [
       "<table border=\"1\" class=\"dataframe\">\n",
       "  <thead>\n",
       "    <tr style=\"text-align: right;\">\n",
       "      <th>text</th>\n",
       "      <th>target</th>\n",
       "    </tr>\n",
       "  </thead>\n",
       "  <tbody>\n",
       "    <tr>\n",
       "      <td>xxbos xxrep 4 . xxmaj this is the biggest political crime in xxmaj american xxmaj history , by far . xxup simply xxup put , xxup the xxup party xxup in xxup power xxup illegally xxup spied xxup on xxup my xxup campaign , xxup both xxup before xxup and xxup after xxup the xxup election , xxup in xxup order xxup to xxup change xxup or xxup xxunk xxup</td>\n",
       "      <td>False</td>\n",
       "    </tr>\n",
       "    <tr>\n",
       "      <td>xxbos xxmaj our case against xxunk ’ , xxunk ’ , xxunk ’ xxmaj adam “ xxmaj shifty ” xxmaj schiff , xxmaj cryin ’ xxmaj chuck xxmaj schumer , xxmaj nervous xxmaj nancy xxmaj pelosi , their leader , dumb as a rock xxup aoc , &amp; &amp; the entire xxmaj radical xxmaj left , xxmaj do xxmaj nothing xxmaj democrat xxmaj party , starts today at 10:00 xxup</td>\n",
       "      <td>False</td>\n",
       "    </tr>\n",
       "    <tr>\n",
       "      <td>xxbos xxmaj more than anything else , the xxmaj radical xxmaj left , xxmaj do xxmaj nothing xxmaj democrats , like xxup aoc , xxmaj omar , xxmaj cryin ’ xxmaj chuck , xxmaj nervous xxmaj nancy &amp; &amp; xxmaj shifty xxmaj schiff , are angry &amp; &amp; “ deranged ” over the fact that xxmaj republicans are up to 191 xxmaj federal xxmaj judges &amp; &amp; xxmaj two xxmaj</td>\n",
       "      <td>False</td>\n",
       "    </tr>\n",
       "    <tr>\n",
       "      <td>xxbos xxrep 4 . ” i xxup want xxup nothing ! i xxup want xxup nothing ! i xxup want xxup no xxup quid xxup pro xxup quo ! xxup tell xxup president xxup zelensky xxup to xxup do xxup the xxup right xxup thing ! ” xxmaj later , xxmaj ambassador xxmaj sondland said that i told him , “ xxmaj good , go tell the truth ! ”</td>\n",
       "      <td>False</td>\n",
       "    </tr>\n",
       "    <tr>\n",
       "      <td>xxbos .@repkevinbrady ( r ) of xxmaj texas-08 loves xxmaj texas &amp; &amp; our xxmaj country . xxmaj he has been a xxup great xxmaj congressman &amp; &amp; supporter of # xxup maga . xxmaj strong on xxmaj crime , xxmaj border , xxmaj military , xxmaj vets and your xxup 2a , he is the best xxmaj tax xxmaj xxunk in xxup d.c. xxmaj kevin has my xxmaj complete</td>\n",
       "      <td>False</td>\n",
       "    </tr>\n",
       "  </tbody>\n",
       "</table>"
      ],
      "text/plain": [
       "<IPython.core.display.HTML object>"
      ]
     },
     "metadata": {},
     "output_type": "display_data"
    }
   ],
   "source": [
    "data_clas.show_batch()"
   ]
  },
  {
   "cell_type": "code",
   "execution_count": 32,
   "metadata": {},
   "outputs": [],
   "source": [
    "data_lm.save('data_lm_export.pkl')\n",
    "data_clas.save('data_clas_export.pkl')"
   ]
  },
  {
   "cell_type": "code",
   "execution_count": 33,
   "metadata": {},
   "outputs": [],
   "source": [
    "data_lm = load_data(path, 'data_lm_export.pkl')\n",
    "data_clas = load_data(path, 'data_clas_export.pkl', bs=16)"
   ]
  },
  {
   "cell_type": "code",
   "execution_count": 34,
   "metadata": {},
   "outputs": [
    {
     "data": {
      "text/html": [
       "<table border=\"1\" class=\"dataframe\">\n",
       "  <thead>\n",
       "    <tr style=\"text-align: left;\">\n",
       "      <th>epoch</th>\n",
       "      <th>train_loss</th>\n",
       "      <th>valid_loss</th>\n",
       "      <th>accuracy</th>\n",
       "      <th>time</th>\n",
       "    </tr>\n",
       "  </thead>\n",
       "  <tbody>\n",
       "    <tr>\n",
       "      <td>0</td>\n",
       "      <td>4.420157</td>\n",
       "      <td>3.919139</td>\n",
       "      <td>0.279094</td>\n",
       "      <td>07:20</td>\n",
       "    </tr>\n",
       "  </tbody>\n",
       "</table>"
      ],
      "text/plain": [
       "<IPython.core.display.HTML object>"
      ]
     },
     "metadata": {},
     "output_type": "display_data"
    }
   ],
   "source": [
    "learn = language_model_learner(data_lm, AWD_LSTM, drop_mult=0.5)\n",
    "learn.fit_one_cycle(1, 1e-2) # one time through without last layer"
   ]
  },
  {
   "cell_type": "code",
   "execution_count": 35,
   "metadata": {},
   "outputs": [
    {
     "data": {
      "text/html": [
       "<table border=\"1\" class=\"dataframe\">\n",
       "  <thead>\n",
       "    <tr style=\"text-align: left;\">\n",
       "      <th>epoch</th>\n",
       "      <th>train_loss</th>\n",
       "      <th>valid_loss</th>\n",
       "      <th>accuracy</th>\n",
       "      <th>time</th>\n",
       "    </tr>\n",
       "  </thead>\n",
       "  <tbody>\n",
       "    <tr>\n",
       "      <td>0</td>\n",
       "      <td>3.572575</td>\n",
       "      <td>3.726149</td>\n",
       "      <td>0.309210</td>\n",
       "      <td>07:45</td>\n",
       "    </tr>\n",
       "  </tbody>\n",
       "</table>"
      ],
      "text/plain": [
       "<IPython.core.display.HTML object>"
      ]
     },
     "metadata": {},
     "output_type": "display_data"
    }
   ],
   "source": [
    "learn.unfreeze() # train full network\n",
    "learn.fit_one_cycle(1, 1e-3) # low learning rate stops weights from changing too much"
   ]
  },
  {
   "cell_type": "code",
   "execution_count": 36,
   "metadata": {},
   "outputs": [
    {
     "data": {
      "text/plain": [
       "'can you imagine the Continuing Media again grievances how the Ukrainian Congress has signed'"
      ]
     },
     "execution_count": 36,
     "metadata": {},
     "output_type": "execute_result"
    }
   ],
   "source": [
    "learn.predict(\"can you imagine\", n_words=15)"
   ]
  },
  {
   "cell_type": "code",
   "execution_count": 37,
   "metadata": {},
   "outputs": [],
   "source": [
    "learn.save_encoder('ft_enc')"
   ]
  },
  {
   "cell_type": "code",
   "execution_count": 38,
   "metadata": {},
   "outputs": [
    {
     "data": {
      "text/plain": [
       "RNNLearner(data=TextClasDataBunch;\n",
       "\n",
       "Train: LabelList (5322 items)\n",
       "x: TextList\n",
       "xxbos xxup rt xxup @flotus : xxmaj trick - or - xxmaj treat @whitehouse # xxmaj xxunk https : / / t.co / xxunk,xxbos xxup rt @stevescalise : 🚨 xxup breaking : xxmaj dems are voting to continue their xxmaj soviet - style impeachment scheme . \n",
       " \n",
       "  xxmaj they 're not interested in due process . \n",
       " \n",
       "  t …,xxbos xxup rt @repdougcollins : xxmaj fact : xxmaj pelosi ’s inquiry is officially the first presidential impeachment inquiry in modern history authorized by members …,xxbos xxup rt xxunk : xxmaj today ’s vote on the impeachment resolution is a continuation of the farce that xxmaj speaker xxmaj pelosi and xxmaj chairman xxmaj schiff are trying …,xxbos xxup rt xxunk : xxmaj voted xxup against xxmaj impeachment xxmaj resolution . xxmaj voted xxup for xxmaj constitution and xxmaj america . xxmaj the fight goes on . xxmaj god xxmaj bless xxmaj america !\n",
       "y: CategoryList\n",
       "False,False,False,False,False\n",
       "Path: /Users/cooper/Desktop/springboard/tweets/trump_tweets;\n",
       "\n",
       "Valid: LabelList (47906 items)\n",
       "x: TextList\n",
       "xxbos xxmaj be sure to xxunk in and watch xxmaj donald xxmaj trump on xxmaj late xxmaj night with xxmaj david xxmaj xxunk as he presents the xxmaj top xxmaj xxunk xxmaj list tonight !,xxbos xxmaj donald xxmaj trump will be xxunk on xxmaj the xxmaj view tomorrow morning to discuss xxmaj xxunk xxmaj xxunk and his new book xxmaj think xxmaj like a xxmaj champion !,xxbos xxmaj donald xxmaj trump xxunk xxmaj top xxmaj xxunk xxmaj financial xxmaj xxunk on xxmaj late xxmaj show with xxmaj david xxmaj xxunk : http : / / xxunk / xxunk - xxmaj very xxunk !,xxbos xxmaj new xxmaj xxunk xxmaj post : xxmaj xxunk xxmaj xxunk xxmaj finale and xxmaj xxunk xxmaj learned xxmaj along the xxmaj way : http : / / xxunk / xxunk,xxbos \" xxmaj my xxunk will never be that of a xxunk - i ’d rather build xxunk than xxunk to them \" xxunk xxup j. xxmaj trump\n",
       "y: CategoryList\n",
       "False,False,False,False,False\n",
       "Path: /Users/cooper/Desktop/springboard/tweets/trump_tweets;\n",
       "\n",
       "Test: None, model=SequentialRNN(\n",
       "  (0): MultiBatchEncoder(\n",
       "    (module): AWD_LSTM(\n",
       "      (encoder): Embedding(5368, 400, padding_idx=1)\n",
       "      (encoder_dp): EmbeddingDropout(\n",
       "        (emb): Embedding(5368, 400, padding_idx=1)\n",
       "      )\n",
       "      (rnns): ModuleList(\n",
       "        (0): WeightDropout(\n",
       "          (module): LSTM(400, 1152, batch_first=True)\n",
       "        )\n",
       "        (1): WeightDropout(\n",
       "          (module): LSTM(1152, 1152, batch_first=True)\n",
       "        )\n",
       "        (2): WeightDropout(\n",
       "          (module): LSTM(1152, 400, batch_first=True)\n",
       "        )\n",
       "      )\n",
       "      (input_dp): RNNDropout()\n",
       "      (hidden_dps): ModuleList(\n",
       "        (0): RNNDropout()\n",
       "        (1): RNNDropout()\n",
       "        (2): RNNDropout()\n",
       "      )\n",
       "    )\n",
       "  )\n",
       "  (1): PoolingLinearClassifier(\n",
       "    (layers): Sequential(\n",
       "      (0): BatchNorm1d(1200, eps=1e-05, momentum=0.1, affine=True, track_running_stats=True)\n",
       "      (1): Dropout(p=0.2, inplace=False)\n",
       "      (2): Linear(in_features=1200, out_features=50, bias=True)\n",
       "      (3): ReLU(inplace=True)\n",
       "      (4): BatchNorm1d(50, eps=1e-05, momentum=0.1, affine=True, track_running_stats=True)\n",
       "      (5): Dropout(p=0.1, inplace=False)\n",
       "      (6): Linear(in_features=50, out_features=2, bias=True)\n",
       "    )\n",
       "  )\n",
       "), opt_func=functools.partial(<class 'torch.optim.adam.Adam'>, betas=(0.9, 0.99)), loss_func=FlattenedLoss of CrossEntropyLoss(), metrics=[<function accuracy at 0x142412950>], true_wd=True, bn_wd=True, wd=0.01, train_bn=True, path=PosixPath('/Users/cooper/Desktop/springboard/tweets/trump_tweets'), model_dir='models', callback_fns=[functools.partial(<class 'fastai.basic_train.Recorder'>, add_time=True, silent=False)], callbacks=[RNNTrainer\n",
       "learn: ...\n",
       "alpha: 2.0\n",
       "beta: 1.0], layer_groups=[Sequential(\n",
       "  (0): Embedding(5368, 400, padding_idx=1)\n",
       "  (1): EmbeddingDropout(\n",
       "    (emb): Embedding(5368, 400, padding_idx=1)\n",
       "  )\n",
       "), Sequential(\n",
       "  (0): WeightDropout(\n",
       "    (module): LSTM(400, 1152, batch_first=True)\n",
       "  )\n",
       "  (1): RNNDropout()\n",
       "), Sequential(\n",
       "  (0): WeightDropout(\n",
       "    (module): LSTM(1152, 1152, batch_first=True)\n",
       "  )\n",
       "  (1): RNNDropout()\n",
       "), Sequential(\n",
       "  (0): WeightDropout(\n",
       "    (module): LSTM(1152, 400, batch_first=True)\n",
       "  )\n",
       "  (1): RNNDropout()\n",
       "), Sequential(\n",
       "  (0): PoolingLinearClassifier(\n",
       "    (layers): Sequential(\n",
       "      (0): BatchNorm1d(1200, eps=1e-05, momentum=0.1, affine=True, track_running_stats=True)\n",
       "      (1): Dropout(p=0.2, inplace=False)\n",
       "      (2): Linear(in_features=1200, out_features=50, bias=True)\n",
       "      (3): ReLU(inplace=True)\n",
       "      (4): BatchNorm1d(50, eps=1e-05, momentum=0.1, affine=True, track_running_stats=True)\n",
       "      (5): Dropout(p=0.1, inplace=False)\n",
       "      (6): Linear(in_features=50, out_features=2, bias=True)\n",
       "    )\n",
       "  )\n",
       ")], add_time=True, silent=False)"
      ]
     },
     "execution_count": 38,
     "metadata": {},
     "output_type": "execute_result"
    }
   ],
   "source": [
    "learn = text_classifier_learner(data_clas, AWD_LSTM, drop_mult=0.5)\n",
    "learn.load_encoder('ft_enc')"
   ]
  },
  {
   "cell_type": "code",
   "execution_count": null,
   "metadata": {},
   "outputs": [],
   "source": []
  },
  {
   "cell_type": "code",
   "execution_count": 39,
   "metadata": {},
   "outputs": [
    {
     "data": {
      "text/html": [
       "<table border=\"1\" class=\"dataframe\">\n",
       "  <thead>\n",
       "    <tr style=\"text-align: left;\">\n",
       "      <th>epoch</th>\n",
       "      <th>train_loss</th>\n",
       "      <th>valid_loss</th>\n",
       "      <th>accuracy</th>\n",
       "      <th>time</th>\n",
       "    </tr>\n",
       "  </thead>\n",
       "  <tbody>\n",
       "    <tr>\n",
       "      <td>0</td>\n",
       "      <td>0.492556</td>\n",
       "      <td>0.296251</td>\n",
       "      <td>0.896527</td>\n",
       "      <td>13:50</td>\n",
       "    </tr>\n",
       "  </tbody>\n",
       "</table>"
      ],
      "text/plain": [
       "<IPython.core.display.HTML object>"
      ]
     },
     "metadata": {},
     "output_type": "display_data"
    }
   ],
   "source": [
    "learn.fit_one_cycle(1, 1e-2)"
   ]
  },
  {
   "cell_type": "code",
   "execution_count": 74,
   "metadata": {},
   "outputs": [
    {
     "data": {
      "text/html": [
       "<table border=\"1\" class=\"dataframe\">\n",
       "  <thead>\n",
       "    <tr style=\"text-align: left;\">\n",
       "      <th>epoch</th>\n",
       "      <th>train_loss</th>\n",
       "      <th>valid_loss</th>\n",
       "      <th>accuracy</th>\n",
       "      <th>time</th>\n",
       "    </tr>\n",
       "  </thead>\n",
       "  <tbody>\n",
       "    <tr>\n",
       "      <td>0</td>\n",
       "      <td>0.236674</td>\n",
       "      <td>0.228476</td>\n",
       "      <td>0.946598</td>\n",
       "      <td>21:06</td>\n",
       "    </tr>\n",
       "  </tbody>\n",
       "</table>"
      ],
      "text/plain": [
       "<IPython.core.display.HTML object>"
      ]
     },
     "metadata": {},
     "output_type": "display_data"
    }
   ],
   "source": [
    "# unfreeze and fine-tune\n",
    "\n",
    "learn.freeze_to(-2)\n",
    "learn.fit_one_cycle(1, slice(5e-3/2., 5e-3)) # train the first layers at ... and the last layers at .. and the rest in between"
   ]
  },
  {
   "cell_type": "code",
   "execution_count": 40,
   "metadata": {},
   "outputs": [
    {
     "data": {
      "text/html": [
       "<table border=\"1\" class=\"dataframe\">\n",
       "  <thead>\n",
       "    <tr style=\"text-align: left;\">\n",
       "      <th>epoch</th>\n",
       "      <th>train_loss</th>\n",
       "      <th>valid_loss</th>\n",
       "      <th>accuracy</th>\n",
       "      <th>time</th>\n",
       "    </tr>\n",
       "  </thead>\n",
       "  <tbody>\n",
       "    <tr>\n",
       "      <td>0</td>\n",
       "      <td>0.412687</td>\n",
       "      <td>0.247538</td>\n",
       "      <td>0.939193</td>\n",
       "      <td>13:17</td>\n",
       "    </tr>\n",
       "  </tbody>\n",
       "</table>"
      ],
      "text/plain": [
       "<IPython.core.display.HTML object>"
      ]
     },
     "metadata": {},
     "output_type": "display_data"
    }
   ],
   "source": [
    "learn.unfreeze() # fine tune all the layers \n",
    "learn.fit_one_cycle(1, slice(2e-3/100, 2e-3))"
   ]
  },
  {
   "cell_type": "code",
   "execution_count": 41,
   "metadata": {},
   "outputs": [
    {
     "data": {
      "text/plain": [
       "(Category False, tensor(0), tensor([0.9478, 0.0522]))"
      ]
     },
     "execution_count": 41,
     "metadata": {},
     "output_type": "execute_result"
    }
   ],
   "source": [
    "# is_retweet = False\n",
    "learn.predict(\"States are safely coming back. Our Country is starting to OPEN FOR BUSINESS again. Special care is, and always will be, given to our beloved seniors (except me!). Their lives will be better than ever...WE LOVE YOU ALL!\")"
   ]
  },
  {
   "cell_type": "code",
   "execution_count": 42,
   "metadata": {},
   "outputs": [
    {
     "data": {
      "text/plain": [
       "(Category False, tensor(0), tensor([0.9129, 0.0871]))"
      ]
     },
     "execution_count": 42,
     "metadata": {},
     "output_type": "execute_result"
    }
   ],
   "source": [
    "# is_retweet = True \n",
    "learn.predict(\"The States need to step up their own testing and take responsibility and if they can't, perhaps the politicians in those States needs to be replaced?\")"
   ]
  },
  {
   "cell_type": "code",
   "execution_count": null,
   "metadata": {},
   "outputs": [],
   "source": []
  },
  {
   "cell_type": "code",
   "execution_count": null,
   "metadata": {},
   "outputs": [],
   "source": []
  },
  {
   "cell_type": "code",
   "execution_count": null,
   "metadata": {},
   "outputs": [],
   "source": []
  },
  {
   "cell_type": "code",
   "execution_count": 43,
   "metadata": {},
   "outputs": [
    {
     "data": {
      "text/html": [
       "<div>\n",
       "<style scoped>\n",
       "    .dataframe tbody tr th:only-of-type {\n",
       "        vertical-align: middle;\n",
       "    }\n",
       "\n",
       "    .dataframe tbody tr th {\n",
       "        vertical-align: top;\n",
       "    }\n",
       "\n",
       "    .dataframe thead th {\n",
       "        text-align: right;\n",
       "    }\n",
       "</style>\n",
       "<table border=\"1\" class=\"dataframe\">\n",
       "  <thead>\n",
       "    <tr style=\"text-align: right;\">\n",
       "      <th></th>\n",
       "      <th>label</th>\n",
       "      <th>text</th>\n",
       "      <th>is_valid</th>\n",
       "    </tr>\n",
       "  </thead>\n",
       "  <tbody>\n",
       "    <tr>\n",
       "      <th>0</th>\n",
       "      <td>False</td>\n",
       "      <td>Be sure to tune in and watch Donald Trump on Late Night with David Letterman as he presents the Top Ten List tonight!</td>\n",
       "      <td>False</td>\n",
       "    </tr>\n",
       "    <tr>\n",
       "      <th>1</th>\n",
       "      <td>False</td>\n",
       "      <td>Donald Trump will be appearing on The View tomorrow morning to discuss Celebrity Apprentice and his new book Think Like A Champion!</td>\n",
       "      <td>False</td>\n",
       "    </tr>\n",
       "    <tr>\n",
       "      <th>2</th>\n",
       "      <td>False</td>\n",
       "      <td>Donald Trump reads Top Ten Financial Tips on Late Show with David Letterman: http://tinyurl.com/ooafwn - Very funny!</td>\n",
       "      <td>False</td>\n",
       "    </tr>\n",
       "    <tr>\n",
       "      <th>3</th>\n",
       "      <td>False</td>\n",
       "      <td>New Blog Post: Celebrity Apprentice Finale and Lessons Learned Along the Way: http://tinyurl.com/qlux5e</td>\n",
       "      <td>False</td>\n",
       "    </tr>\n",
       "    <tr>\n",
       "      <th>4</th>\n",
       "      <td>False</td>\n",
       "      <td>\"My persona will never be that of a wallflower - I’d rather build walls than cling to them\" --Donald J. Trump</td>\n",
       "      <td>False</td>\n",
       "    </tr>\n",
       "    <tr>\n",
       "      <th>...</th>\n",
       "      <td>...</td>\n",
       "      <td>...</td>\n",
       "      <td>...</td>\n",
       "    </tr>\n",
       "    <tr>\n",
       "      <th>53223</th>\n",
       "      <td>False</td>\n",
       "      <td>Great new book out by @realKTMcFarland, “Revolution: Trump, Washington, and We the People”. Get your copy today! https://t.co/KBkladnmPQ</td>\n",
       "      <td>True</td>\n",
       "    </tr>\n",
       "    <tr>\n",
       "      <th>53224</th>\n",
       "      <td>True</td>\n",
       "      <td>Our GREAT Senator from South Carolina, @SenatorTimScott just released a fantastic new book, “OPPORTUNITY KNOCKS: How H…</td>\n",
       "      <td>True</td>\n",
       "    </tr>\n",
       "    <tr>\n",
       "      <th>53225</th>\n",
       "      <td>True</td>\n",
       "      <td>Great news, thank you!</td>\n",
       "      <td>True</td>\n",
       "    </tr>\n",
       "    <tr>\n",
       "      <th>53226</th>\n",
       "      <td>True</td>\n",
       "      <td>Thank you @Honeywell, great job!</td>\n",
       "      <td>True</td>\n",
       "    </tr>\n",
       "    <tr>\n",
       "      <th>53227</th>\n",
       "      <td>False</td>\n",
       "      <td>CONGRATULATIONS @AF_Academy! https://t.co/27HxXLNbd8</td>\n",
       "      <td>True</td>\n",
       "    </tr>\n",
       "  </tbody>\n",
       "</table>\n",
       "<p>53228 rows × 3 columns</p>\n",
       "</div>"
      ],
      "text/plain": [
       "       label  \\\n",
       "0      False   \n",
       "1      False   \n",
       "2      False   \n",
       "3      False   \n",
       "4      False   \n",
       "...      ...   \n",
       "53223  False   \n",
       "53224   True   \n",
       "53225   True   \n",
       "53226   True   \n",
       "53227  False   \n",
       "\n",
       "                                                                                                                                           text  \\\n",
       "0                         Be sure to tune in and watch Donald Trump on Late Night with David Letterman as he presents the Top Ten List tonight!   \n",
       "1           Donald Trump will be appearing on The View tomorrow morning to discuss Celebrity Apprentice and his new book Think Like A Champion!   \n",
       "2                          Donald Trump reads Top Ten Financial Tips on Late Show with David Letterman: http://tinyurl.com/ooafwn - Very funny!   \n",
       "3                                       New Blog Post: Celebrity Apprentice Finale and Lessons Learned Along the Way: http://tinyurl.com/qlux5e   \n",
       "4                                 \"My persona will never be that of a wallflower - I’d rather build walls than cling to them\" --Donald J. Trump   \n",
       "...                                                                                                                                         ...   \n",
       "53223  Great new book out by @realKTMcFarland, “Revolution: Trump, Washington, and We the People”. Get your copy today! https://t.co/KBkladnmPQ   \n",
       "53224                   Our GREAT Senator from South Carolina, @SenatorTimScott just released a fantastic new book, “OPPORTUNITY KNOCKS: How H…   \n",
       "53225                                                                                                                    Great news, thank you!   \n",
       "53226                                                                                                          Thank you @Honeywell, great job!   \n",
       "53227                                                                                      CONGRATULATIONS @AF_Academy! https://t.co/27HxXLNbd8   \n",
       "\n",
       "       is_valid  \n",
       "0         False  \n",
       "1         False  \n",
       "2         False  \n",
       "3         False  \n",
       "4         False  \n",
       "...         ...  \n",
       "53223      True  \n",
       "53224      True  \n",
       "53225      True  \n",
       "53226      True  \n",
       "53227      True  \n",
       "\n",
       "[53228 rows x 3 columns]"
      ]
     },
     "execution_count": 43,
     "metadata": {},
     "output_type": "execute_result"
    }
   ],
   "source": [
    "texts"
   ]
  },
  {
   "cell_type": "code",
   "execution_count": 46,
   "metadata": {},
   "outputs": [
    {
     "name": "stdout",
     "output_type": "stream",
     "text": [
      "2019.json            condensed_2013.json  data_clas_export.pkl\r\n",
      "2020.json            condensed_2014.json  data_lm_export.pkl\r\n",
      "condensed_2009.json  condensed_2015.json  \u001b[34mmodels\u001b[m\u001b[m\r\n",
      "condensed_2010.json  condensed_2016.json  texts.csv\r\n",
      "condensed_2011.json  condensed_2017.json  trump_tweets.ipynb\r\n",
      "condensed_2012.json  condensed_2018.json  tweet_df.csv\r\n"
     ]
    }
   ],
   "source": [
    "!ls"
   ]
  },
  {
   "cell_type": "code",
   "execution_count": 51,
   "metadata": {},
   "outputs": [],
   "source": []
  },
  {
   "cell_type": "code",
   "execution_count": null,
   "metadata": {},
   "outputs": [],
   "source": []
  },
  {
   "cell_type": "code",
   "execution_count": null,
   "metadata": {},
   "outputs": [],
   "source": []
  },
  {
   "cell_type": "code",
   "execution_count": null,
   "metadata": {},
   "outputs": [],
   "source": []
  },
  {
   "cell_type": "code",
   "execution_count": null,
   "metadata": {},
   "outputs": [],
   "source": []
  },
  {
   "cell_type": "code",
   "execution_count": null,
   "metadata": {},
   "outputs": [],
   "source": []
  },
  {
   "cell_type": "code",
   "execution_count": null,
   "metadata": {},
   "outputs": [],
   "source": []
  },
  {
   "cell_type": "code",
   "execution_count": null,
   "metadata": {},
   "outputs": [],
   "source": []
  },
  {
   "cell_type": "code",
   "execution_count": null,
   "metadata": {},
   "outputs": [],
   "source": []
  },
  {
   "cell_type": "code",
   "execution_count": null,
   "metadata": {},
   "outputs": [],
   "source": []
  },
  {
   "cell_type": "code",
   "execution_count": null,
   "metadata": {},
   "outputs": [],
   "source": []
  },
  {
   "cell_type": "code",
   "execution_count": null,
   "metadata": {},
   "outputs": [],
   "source": []
  },
  {
   "cell_type": "code",
   "execution_count": null,
   "metadata": {},
   "outputs": [],
   "source": []
  },
  {
   "cell_type": "code",
   "execution_count": null,
   "metadata": {},
   "outputs": [],
   "source": []
  },
  {
   "cell_type": "code",
   "execution_count": null,
   "metadata": {},
   "outputs": [],
   "source": []
  },
  {
   "cell_type": "code",
   "execution_count": null,
   "metadata": {},
   "outputs": [],
   "source": []
  },
  {
   "cell_type": "code",
   "execution_count": null,
   "metadata": {},
   "outputs": [],
   "source": []
  },
  {
   "cell_type": "code",
   "execution_count": null,
   "metadata": {},
   "outputs": [],
   "source": []
  },
  {
   "cell_type": "code",
   "execution_count": null,
   "metadata": {},
   "outputs": [],
   "source": []
  },
  {
   "cell_type": "code",
   "execution_count": null,
   "metadata": {},
   "outputs": [],
   "source": []
  },
  {
   "cell_type": "code",
   "execution_count": null,
   "metadata": {},
   "outputs": [],
   "source": []
  },
  {
   "cell_type": "code",
   "execution_count": null,
   "metadata": {},
   "outputs": [],
   "source": []
  },
  {
   "cell_type": "code",
   "execution_count": null,
   "metadata": {},
   "outputs": [],
   "source": []
  },
  {
   "cell_type": "code",
   "execution_count": null,
   "metadata": {},
   "outputs": [],
   "source": []
  },
  {
   "cell_type": "code",
   "execution_count": null,
   "metadata": {},
   "outputs": [],
   "source": []
  },
  {
   "cell_type": "code",
   "execution_count": null,
   "metadata": {},
   "outputs": [],
   "source": []
  },
  {
   "cell_type": "code",
   "execution_count": null,
   "metadata": {},
   "outputs": [],
   "source": []
  },
  {
   "cell_type": "code",
   "execution_count": null,
   "metadata": {},
   "outputs": [],
   "source": []
  },
  {
   "cell_type": "code",
   "execution_count": null,
   "metadata": {},
   "outputs": [],
   "source": []
  },
  {
   "cell_type": "code",
   "execution_count": null,
   "metadata": {},
   "outputs": [],
   "source": []
  },
  {
   "cell_type": "code",
   "execution_count": null,
   "metadata": {},
   "outputs": [],
   "source": []
  }
 ],
 "metadata": {
  "kernelspec": {
   "display_name": "Python 3",
   "language": "python",
   "name": "python3"
  },
  "language_info": {
   "codemirror_mode": {
    "name": "ipython",
    "version": 3
   },
   "file_extension": ".py",
   "mimetype": "text/x-python",
   "name": "python",
   "nbconvert_exporter": "python",
   "pygments_lexer": "ipython3",
   "version": "3.7.3"
  }
 },
 "nbformat": 4,
 "nbformat_minor": 4
}
