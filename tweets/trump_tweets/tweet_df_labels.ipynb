{
 "cells": [
  {
   "cell_type": "code",
   "execution_count": 21,
   "metadata": {},
   "outputs": [],
   "source": [
    "import pandas as pd\n",
    "import numpy as np\n",
    "import datetime as dt\n",
    "import matplotlib.pyplot as plt\n",
    "import seaborn as sns\n",
    "import sys\n",
    "import re\n",
    "from fastai.text import *\n",
    "\n",
    "pd.set_option('display.max_colwidth', 500)\n",
    "\n"
   ]
  },
  {
   "cell_type": "code",
   "execution_count": 22,
   "metadata": {},
   "outputs": [],
   "source": [
    "df09 = pd.read_json('condensed_2009.json')\n",
    "df10 = pd.read_json('condensed_2010.json')\n",
    "df11 = pd.read_json('condensed_2011.json')\n",
    "df12 = pd.read_json('condensed_2012.json')\n",
    "df13 = pd.read_json('condensed_2013.json')\n",
    "df14 = pd.read_json('condensed_2014.json')\n",
    "df15 = pd.read_json('condensed_2015.json')\n",
    "df16 = pd.read_json('condensed_2016.json')\n",
    "df17 = pd.read_json('condensed_2017.json')\n",
    "df18 = pd.read_json('condensed_2018.json')\n",
    "df19 = pd.read_json('2019.json')\n",
    "df20 = pd.read_json('2020.json')\n",
    "\n",
    "years = [df09, df10, df11, df12, df13, df14, \n",
    "         df14, df15, df16, df17, df18, df19, df20]\n",
    "\n",
    "df = pd.concat(years)\n",
    "df = df.sort_values('created_at').reset_index(drop=True)\n",
    "\n",
    "df['created_date'] = [d.date() for d in df['created_at']]\n",
    "df['created_time'] = [d.time() for d in df['created_at']]\n",
    "\n",
    "# takes a retweet as a string and removes the 'RT @name: '\n",
    "def remove_rt_signature(tweet):\n",
    "    split_tweet = tweet.split(':', 1)\n",
    "    return split_tweet[1][1:]\n",
    "\n",
    "# make a new column of all the tweets with the retweets cleaned up\n",
    "df['text_cleaned'] = df.apply(lambda row: row['text'] if row['is_retweet'] == False \n",
    "                                    else remove_rt_signature(row['text']), axis=1)\n",
    "\n",
    "\n",
    "\n",
    "# make a column that indicates the hour of tweet\n",
    "\n",
    "df['created_hour'] = pd.to_datetime(df['created_time'].astype(str)).dt.hour\n",
    "\n",
    "\n",
    "\n",
    "# make a column that classifies tweet as night or day tweet (2:00 - 10:00 GMT = 22:00 - 6:00 EST)\n",
    "\n",
    "df['is_night_tweet'] = df['created_hour'].isin([2, 3, 4, 5, 6, 7, 8, 9, 10])\n",
    "\n",
    "\n",
    "# make a column that classifies tweets as before and after becoming president\n",
    "\n",
    "df['is_presidential'] = False \n",
    "\n",
    "\n",
    "# add a validation column to indicate the validation data, eventually set most recent 10-20% to True\n",
    "\n",
    "df['is_valid'] = False\n",
    "\n"
   ]
  },
  {
   "cell_type": "code",
   "execution_count": 24,
   "metadata": {},
   "outputs": [],
   "source": [
    "df.to_csv('tweet_df.csv')"
   ]
  },
  {
   "cell_type": "code",
   "execution_count": null,
   "metadata": {},
   "outputs": [],
   "source": [
    "# Validation data will be most recent 10% of the tweets\n",
    "\n",
    "# test_size = len(df['is_valid']) // 10 \n",
    "\n",
    "# df['is_valid'].iloc[-test_size:] = True    "
   ]
  },
  {
   "cell_type": "code",
   "execution_count": 26,
   "metadata": {},
   "outputs": [
    {
     "data": {
      "text/html": [
       "<div>\n",
       "<style scoped>\n",
       "    .dataframe tbody tr th:only-of-type {\n",
       "        vertical-align: middle;\n",
       "    }\n",
       "\n",
       "    .dataframe tbody tr th {\n",
       "        vertical-align: top;\n",
       "    }\n",
       "\n",
       "    .dataframe thead th {\n",
       "        text-align: right;\n",
       "    }\n",
       "</style>\n",
       "<table border=\"1\" class=\"dataframe\">\n",
       "  <thead>\n",
       "    <tr style=\"text-align: right;\">\n",
       "      <th></th>\n",
       "      <th>source</th>\n",
       "      <th>id_str</th>\n",
       "      <th>text</th>\n",
       "      <th>created_at</th>\n",
       "      <th>retweet_count</th>\n",
       "      <th>in_reply_to_user_id_str</th>\n",
       "      <th>favorite_count</th>\n",
       "      <th>is_retweet</th>\n",
       "      <th>created_date</th>\n",
       "      <th>created_time</th>\n",
       "      <th>text_cleaned</th>\n",
       "      <th>created_hour</th>\n",
       "      <th>is_night_tweet</th>\n",
       "      <th>is_valid</th>\n",
       "    </tr>\n",
       "  </thead>\n",
       "  <tbody>\n",
       "    <tr>\n",
       "      <th>0</th>\n",
       "      <td>Twitter Web Client</td>\n",
       "      <td>1698308935</td>\n",
       "      <td>Be sure to tune in and watch Donald Trump on Late Night with David Letterman as he presents the Top Ten List tonight!</td>\n",
       "      <td>2009-05-04 18:54:25+00:00</td>\n",
       "      <td>253</td>\n",
       "      <td>NaN</td>\n",
       "      <td>202</td>\n",
       "      <td>False</td>\n",
       "      <td>2009-05-04</td>\n",
       "      <td>18:54:25</td>\n",
       "      <td>Be sure to tune in and watch Donald Trump on Late Night with David Letterman as he presents the Top Ten List tonight!</td>\n",
       "      <td>18</td>\n",
       "      <td>False</td>\n",
       "      <td>False</td>\n",
       "    </tr>\n",
       "    <tr>\n",
       "      <th>1</th>\n",
       "      <td>Twitter Web Client</td>\n",
       "      <td>1701461182</td>\n",
       "      <td>Donald Trump will be appearing on The View tomorrow morning to discuss Celebrity Apprentice and his new book Think Like A Champion!</td>\n",
       "      <td>2009-05-05 01:00:10+00:00</td>\n",
       "      <td>2</td>\n",
       "      <td>NaN</td>\n",
       "      <td>3</td>\n",
       "      <td>False</td>\n",
       "      <td>2009-05-05</td>\n",
       "      <td>01:00:10</td>\n",
       "      <td>Donald Trump will be appearing on The View tomorrow morning to discuss Celebrity Apprentice and his new book Think Like A Champion!</td>\n",
       "      <td>1</td>\n",
       "      <td>False</td>\n",
       "      <td>False</td>\n",
       "    </tr>\n",
       "    <tr>\n",
       "      <th>2</th>\n",
       "      <td>Twitter Web Client</td>\n",
       "      <td>1737479987</td>\n",
       "      <td>Donald Trump reads Top Ten Financial Tips on Late Show with David Letterman: http://tinyurl.com/ooafwn - Very funny!</td>\n",
       "      <td>2009-05-08 13:38:08+00:00</td>\n",
       "      <td>3</td>\n",
       "      <td>NaN</td>\n",
       "      <td>2</td>\n",
       "      <td>False</td>\n",
       "      <td>2009-05-08</td>\n",
       "      <td>13:38:08</td>\n",
       "      <td>Donald Trump reads Top Ten Financial Tips on Late Show with David Letterman: http://tinyurl.com/ooafwn - Very funny!</td>\n",
       "      <td>13</td>\n",
       "      <td>False</td>\n",
       "      <td>False</td>\n",
       "    </tr>\n",
       "    <tr>\n",
       "      <th>3</th>\n",
       "      <td>Twitter Web Client</td>\n",
       "      <td>1741160716</td>\n",
       "      <td>New Blog Post: Celebrity Apprentice Finale and Lessons Learned Along the Way: http://tinyurl.com/qlux5e</td>\n",
       "      <td>2009-05-08 20:40:15+00:00</td>\n",
       "      <td>8</td>\n",
       "      <td>NaN</td>\n",
       "      <td>27</td>\n",
       "      <td>False</td>\n",
       "      <td>2009-05-08</td>\n",
       "      <td>20:40:15</td>\n",
       "      <td>New Blog Post: Celebrity Apprentice Finale and Lessons Learned Along the Way: http://tinyurl.com/qlux5e</td>\n",
       "      <td>20</td>\n",
       "      <td>False</td>\n",
       "      <td>False</td>\n",
       "    </tr>\n",
       "    <tr>\n",
       "      <th>4</th>\n",
       "      <td>Twitter Web Client</td>\n",
       "      <td>1773561338</td>\n",
       "      <td>\"My persona will never be that of a wallflower - I’d rather build walls than cling to them\" --Donald J. Trump</td>\n",
       "      <td>2009-05-12 14:07:28+00:00</td>\n",
       "      <td>1421</td>\n",
       "      <td>NaN</td>\n",
       "      <td>1950</td>\n",
       "      <td>False</td>\n",
       "      <td>2009-05-12</td>\n",
       "      <td>14:07:28</td>\n",
       "      <td>\"My persona will never be that of a wallflower - I’d rather build walls than cling to them\" --Donald J. Trump</td>\n",
       "      <td>14</td>\n",
       "      <td>False</td>\n",
       "      <td>False</td>\n",
       "    </tr>\n",
       "  </tbody>\n",
       "</table>\n",
       "</div>"
      ],
      "text/plain": [
       "               source      id_str  \\\n",
       "0  Twitter Web Client  1698308935   \n",
       "1  Twitter Web Client  1701461182   \n",
       "2  Twitter Web Client  1737479987   \n",
       "3  Twitter Web Client  1741160716   \n",
       "4  Twitter Web Client  1773561338   \n",
       "\n",
       "                                                                                                                                  text  \\\n",
       "0                Be sure to tune in and watch Donald Trump on Late Night with David Letterman as he presents the Top Ten List tonight!   \n",
       "1  Donald Trump will be appearing on The View tomorrow morning to discuss Celebrity Apprentice and his new book Think Like A Champion!   \n",
       "2                 Donald Trump reads Top Ten Financial Tips on Late Show with David Letterman: http://tinyurl.com/ooafwn - Very funny!   \n",
       "3                              New Blog Post: Celebrity Apprentice Finale and Lessons Learned Along the Way: http://tinyurl.com/qlux5e   \n",
       "4                        \"My persona will never be that of a wallflower - I’d rather build walls than cling to them\" --Donald J. Trump   \n",
       "\n",
       "                 created_at  retweet_count  in_reply_to_user_id_str  \\\n",
       "0 2009-05-04 18:54:25+00:00            253                      NaN   \n",
       "1 2009-05-05 01:00:10+00:00              2                      NaN   \n",
       "2 2009-05-08 13:38:08+00:00              3                      NaN   \n",
       "3 2009-05-08 20:40:15+00:00              8                      NaN   \n",
       "4 2009-05-12 14:07:28+00:00           1421                      NaN   \n",
       "\n",
       "   favorite_count  is_retweet created_date created_time  \\\n",
       "0             202       False   2009-05-04     18:54:25   \n",
       "1               3       False   2009-05-05     01:00:10   \n",
       "2               2       False   2009-05-08     13:38:08   \n",
       "3              27       False   2009-05-08     20:40:15   \n",
       "4            1950       False   2009-05-12     14:07:28   \n",
       "\n",
       "                                                                                                                          text_cleaned  \\\n",
       "0                Be sure to tune in and watch Donald Trump on Late Night with David Letterman as he presents the Top Ten List tonight!   \n",
       "1  Donald Trump will be appearing on The View tomorrow morning to discuss Celebrity Apprentice and his new book Think Like A Champion!   \n",
       "2                 Donald Trump reads Top Ten Financial Tips on Late Show with David Letterman: http://tinyurl.com/ooafwn - Very funny!   \n",
       "3                              New Blog Post: Celebrity Apprentice Finale and Lessons Learned Along the Way: http://tinyurl.com/qlux5e   \n",
       "4                        \"My persona will never be that of a wallflower - I’d rather build walls than cling to them\" --Donald J. Trump   \n",
       "\n",
       "   created_hour  is_night_tweet  is_valid  \n",
       "0            18           False     False  \n",
       "1             1           False     False  \n",
       "2            13           False     False  \n",
       "3            20           False     False  \n",
       "4            14           False     False  "
      ]
     },
     "execution_count": 26,
     "metadata": {},
     "output_type": "execute_result"
    }
   ],
   "source": [
    "df.head()"
   ]
  },
  {
   "cell_type": "code",
   "execution_count": null,
   "metadata": {},
   "outputs": [],
   "source": []
  },
  {
   "cell_type": "code",
   "execution_count": 27,
   "metadata": {},
   "outputs": [
    {
     "data": {
      "text/plain": [
       "(11384, 14)"
      ]
     },
     "execution_count": 27,
     "metadata": {},
     "output_type": "execute_result"
    }
   ],
   "source": [
    "df[df.is_night_tweet == True].shape"
   ]
  },
  {
   "cell_type": "code",
   "execution_count": 28,
   "metadata": {},
   "outputs": [
    {
     "data": {
      "text/plain": [
       "(53228, 14)"
      ]
     },
     "execution_count": 28,
     "metadata": {},
     "output_type": "execute_result"
    }
   ],
   "source": [
    "df.shape"
   ]
  },
  {
   "cell_type": "code",
   "execution_count": null,
   "metadata": {},
   "outputs": [],
   "source": []
  },
  {
   "cell_type": "code",
   "execution_count": null,
   "metadata": {},
   "outputs": [],
   "source": []
  },
  {
   "cell_type": "code",
   "execution_count": null,
   "metadata": {},
   "outputs": [],
   "source": []
  },
  {
   "cell_type": "code",
   "execution_count": null,
   "metadata": {},
   "outputs": [],
   "source": []
  },
  {
   "cell_type": "code",
   "execution_count": null,
   "metadata": {},
   "outputs": [],
   "source": []
  },
  {
   "cell_type": "code",
   "execution_count": null,
   "metadata": {},
   "outputs": [],
   "source": []
  },
  {
   "cell_type": "code",
   "execution_count": null,
   "metadata": {},
   "outputs": [],
   "source": []
  },
  {
   "cell_type": "code",
   "execution_count": null,
   "metadata": {},
   "outputs": [],
   "source": []
  },
  {
   "cell_type": "code",
   "execution_count": null,
   "metadata": {},
   "outputs": [],
   "source": []
  },
  {
   "cell_type": "code",
   "execution_count": null,
   "metadata": {},
   "outputs": [],
   "source": []
  },
  {
   "cell_type": "code",
   "execution_count": null,
   "metadata": {},
   "outputs": [],
   "source": []
  },
  {
   "cell_type": "code",
   "execution_count": null,
   "metadata": {},
   "outputs": [],
   "source": []
  },
  {
   "cell_type": "code",
   "execution_count": null,
   "metadata": {},
   "outputs": [],
   "source": []
  },
  {
   "cell_type": "code",
   "execution_count": null,
   "metadata": {},
   "outputs": [],
   "source": []
  },
  {
   "cell_type": "code",
   "execution_count": null,
   "metadata": {},
   "outputs": [],
   "source": []
  },
  {
   "cell_type": "code",
   "execution_count": null,
   "metadata": {},
   "outputs": [],
   "source": []
  },
  {
   "cell_type": "code",
   "execution_count": null,
   "metadata": {},
   "outputs": [],
   "source": []
  },
  {
   "cell_type": "code",
   "execution_count": null,
   "metadata": {},
   "outputs": [],
   "source": []
  },
  {
   "cell_type": "code",
   "execution_count": null,
   "metadata": {},
   "outputs": [],
   "source": []
  },
  {
   "cell_type": "code",
   "execution_count": null,
   "metadata": {},
   "outputs": [],
   "source": []
  },
  {
   "cell_type": "code",
   "execution_count": null,
   "metadata": {},
   "outputs": [],
   "source": []
  },
  {
   "cell_type": "code",
   "execution_count": null,
   "metadata": {},
   "outputs": [],
   "source": []
  },
  {
   "cell_type": "code",
   "execution_count": null,
   "metadata": {},
   "outputs": [],
   "source": []
  },
  {
   "cell_type": "code",
   "execution_count": null,
   "metadata": {},
   "outputs": [],
   "source": []
  },
  {
   "cell_type": "code",
   "execution_count": null,
   "metadata": {},
   "outputs": [],
   "source": []
  }
 ],
 "metadata": {
  "kernelspec": {
   "display_name": "Python 3",
   "language": "python",
   "name": "python3"
  },
  "language_info": {
   "codemirror_mode": {
    "name": "ipython",
    "version": 3
   },
   "file_extension": ".py",
   "mimetype": "text/x-python",
   "name": "python",
   "nbconvert_exporter": "python",
   "pygments_lexer": "ipython3",
   "version": "3.7.3"
  }
 },
 "nbformat": 4,
 "nbformat_minor": 4
}
