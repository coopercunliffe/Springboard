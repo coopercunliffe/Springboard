{
 "cells": [
  {
   "cell_type": "code",
   "execution_count": 84,
   "metadata": {},
   "outputs": [],
   "source": [
    "import pandas as pd\n",
    "import numpy as np\n",
    "import datetime as dt\n",
    "import matplotlib.pyplot as plt\n",
    "import seaborn as sns\n",
    "import sys\n",
    "import re\n",
    "from fastai.text import *\n",
    "\n",
    "pd.set_option('display.max_colwidth', 500)\n"
   ]
  },
  {
   "cell_type": "code",
   "execution_count": null,
   "metadata": {},
   "outputs": [],
   "source": []
  },
  {
   "cell_type": "code",
   "execution_count": null,
   "metadata": {},
   "outputs": [],
   "source": []
  },
  {
   "cell_type": "code",
   "execution_count": 85,
   "metadata": {},
   "outputs": [],
   "source": [
    "df09 = pd.read_json('condensed_2009.json')"
   ]
  },
  {
   "cell_type": "code",
   "execution_count": 86,
   "metadata": {},
   "outputs": [],
   "source": [
    "df10 = pd.read_json('condensed_2010.json')"
   ]
  },
  {
   "cell_type": "code",
   "execution_count": 87,
   "metadata": {},
   "outputs": [],
   "source": [
    "df11 = pd.read_json('condensed_2011.json')"
   ]
  },
  {
   "cell_type": "code",
   "execution_count": 88,
   "metadata": {},
   "outputs": [],
   "source": [
    "df12 = pd.read_json('condensed_2012.json')"
   ]
  },
  {
   "cell_type": "code",
   "execution_count": 89,
   "metadata": {},
   "outputs": [],
   "source": [
    "df13 = pd.read_json('condensed_2013.json')"
   ]
  },
  {
   "cell_type": "code",
   "execution_count": 90,
   "metadata": {},
   "outputs": [],
   "source": [
    "df14 = pd.read_json('condensed_2014.json')"
   ]
  },
  {
   "cell_type": "code",
   "execution_count": 91,
   "metadata": {},
   "outputs": [],
   "source": [
    "df15 = pd.read_json('condensed_2015.json')"
   ]
  },
  {
   "cell_type": "code",
   "execution_count": 92,
   "metadata": {},
   "outputs": [],
   "source": [
    "df16 = pd.read_json('condensed_2016.json')"
   ]
  },
  {
   "cell_type": "code",
   "execution_count": 93,
   "metadata": {},
   "outputs": [],
   "source": [
    "df17 = pd.read_json('condensed_2017.json')"
   ]
  },
  {
   "cell_type": "code",
   "execution_count": 94,
   "metadata": {},
   "outputs": [],
   "source": [
    "df18 = pd.read_json('condensed_2018.json')"
   ]
  },
  {
   "cell_type": "code",
   "execution_count": 95,
   "metadata": {},
   "outputs": [],
   "source": [
    "df19 = pd.read_json('2019.json')"
   ]
  },
  {
   "cell_type": "code",
   "execution_count": 96,
   "metadata": {},
   "outputs": [],
   "source": [
    "df20 = pd.read_json('2020.json')"
   ]
  },
  {
   "cell_type": "code",
   "execution_count": 97,
   "metadata": {},
   "outputs": [],
   "source": [
    "years = [df09, df10, df11, df12, df13, df14, \n",
    "         df14, df15, df16, df17, df18, df19, df20]"
   ]
  },
  {
   "cell_type": "code",
   "execution_count": 98,
   "metadata": {},
   "outputs": [],
   "source": [
    "df = pd.concat(years)\n",
    "df = df.sort_values('created_at').reset_index(drop=True)"
   ]
  },
  {
   "cell_type": "code",
   "execution_count": 99,
   "metadata": {},
   "outputs": [
    {
     "data": {
      "text/plain": [
       "(53228, 8)"
      ]
     },
     "execution_count": 99,
     "metadata": {},
     "output_type": "execute_result"
    }
   ],
   "source": [
    "df.shape"
   ]
  },
  {
   "cell_type": "code",
   "execution_count": 100,
   "metadata": {},
   "outputs": [
    {
     "data": {
      "text/plain": [
       "Index(['source', 'id_str', 'text', 'created_at', 'retweet_count',\n",
       "       'in_reply_to_user_id_str', 'favorite_count', 'is_retweet'],\n",
       "      dtype='object')"
      ]
     },
     "execution_count": 100,
     "metadata": {},
     "output_type": "execute_result"
    }
   ],
   "source": [
    "df.columns"
   ]
  },
  {
   "cell_type": "code",
   "execution_count": 101,
   "metadata": {},
   "outputs": [],
   "source": [
    "df['created_date'] = [d.date() for d in df['created_at']]\n",
    "df['created_time'] = [d.time() for d in df['created_at']]\n"
   ]
  },
  {
   "cell_type": "code",
   "execution_count": 102,
   "metadata": {},
   "outputs": [
    {
     "data": {
      "text/html": [
       "<div>\n",
       "<style scoped>\n",
       "    .dataframe tbody tr th:only-of-type {\n",
       "        vertical-align: middle;\n",
       "    }\n",
       "\n",
       "    .dataframe tbody tr th {\n",
       "        vertical-align: top;\n",
       "    }\n",
       "\n",
       "    .dataframe thead th {\n",
       "        text-align: right;\n",
       "    }\n",
       "</style>\n",
       "<table border=\"1\" class=\"dataframe\">\n",
       "  <thead>\n",
       "    <tr style=\"text-align: right;\">\n",
       "      <th></th>\n",
       "      <th>source</th>\n",
       "      <th>id_str</th>\n",
       "      <th>text</th>\n",
       "      <th>created_at</th>\n",
       "      <th>retweet_count</th>\n",
       "      <th>in_reply_to_user_id_str</th>\n",
       "      <th>favorite_count</th>\n",
       "      <th>is_retweet</th>\n",
       "      <th>created_date</th>\n",
       "      <th>created_time</th>\n",
       "    </tr>\n",
       "  </thead>\n",
       "  <tbody>\n",
       "    <tr>\n",
       "      <th>53223</th>\n",
       "      <td>Twitter for iPhone</td>\n",
       "      <td>1251670585165459456</td>\n",
       "      <td>Great new book out by @realKTMcFarland, “Revolution: Trump, Washington, and We the People”. Get your copy today! https://t.co/KBkladnmPQ</td>\n",
       "      <td>2020-04-19 00:34:57+00:00</td>\n",
       "      <td>7029</td>\n",
       "      <td>NaN</td>\n",
       "      <td>25678</td>\n",
       "      <td>False</td>\n",
       "      <td>2020-04-19</td>\n",
       "      <td>00:34:57</td>\n",
       "    </tr>\n",
       "    <tr>\n",
       "      <th>53224</th>\n",
       "      <td>Twitter for iPhone</td>\n",
       "      <td>1251670667965104128</td>\n",
       "      <td>RT @realDonaldTrump: Our GREAT Senator from South Carolina, @SenatorTimScott just released a fantastic new book, “OPPORTUNITY KNOCKS: How H…</td>\n",
       "      <td>2020-04-19 00:35:16+00:00</td>\n",
       "      <td>13202</td>\n",
       "      <td>NaN</td>\n",
       "      <td>0</td>\n",
       "      <td>True</td>\n",
       "      <td>2020-04-19</td>\n",
       "      <td>00:35:16</td>\n",
       "    </tr>\n",
       "    <tr>\n",
       "      <th>53225</th>\n",
       "      <td>Twitter for iPhone</td>\n",
       "      <td>1251703696385290240</td>\n",
       "      <td>RT @realDonaldTrump: Great news, thank you!</td>\n",
       "      <td>2020-04-19 02:46:31+00:00</td>\n",
       "      <td>11778</td>\n",
       "      <td>NaN</td>\n",
       "      <td>0</td>\n",
       "      <td>True</td>\n",
       "      <td>2020-04-19</td>\n",
       "      <td>02:46:31</td>\n",
       "    </tr>\n",
       "    <tr>\n",
       "      <th>53226</th>\n",
       "      <td>Twitter for iPhone</td>\n",
       "      <td>1251703767067754496</td>\n",
       "      <td>RT @realDonaldTrump: Thank you @Honeywell, great job!</td>\n",
       "      <td>2020-04-19 02:46:48+00:00</td>\n",
       "      <td>10597</td>\n",
       "      <td>NaN</td>\n",
       "      <td>0</td>\n",
       "      <td>True</td>\n",
       "      <td>2020-04-19</td>\n",
       "      <td>02:46:48</td>\n",
       "    </tr>\n",
       "    <tr>\n",
       "      <th>53227</th>\n",
       "      <td>Twitter for iPhone</td>\n",
       "      <td>1251713028246122496</td>\n",
       "      <td>CONGRATULATIONS @AF_Academy! https://t.co/27HxXLNbd8</td>\n",
       "      <td>2020-04-19 03:23:36+00:00</td>\n",
       "      <td>640</td>\n",
       "      <td>NaN</td>\n",
       "      <td>2536</td>\n",
       "      <td>False</td>\n",
       "      <td>2020-04-19</td>\n",
       "      <td>03:23:36</td>\n",
       "    </tr>\n",
       "  </tbody>\n",
       "</table>\n",
       "</div>"
      ],
      "text/plain": [
       "                   source               id_str  \\\n",
       "53223  Twitter for iPhone  1251670585165459456   \n",
       "53224  Twitter for iPhone  1251670667965104128   \n",
       "53225  Twitter for iPhone  1251703696385290240   \n",
       "53226  Twitter for iPhone  1251703767067754496   \n",
       "53227  Twitter for iPhone  1251713028246122496   \n",
       "\n",
       "                                                                                                                                               text  \\\n",
       "53223      Great new book out by @realKTMcFarland, “Revolution: Trump, Washington, and We the People”. Get your copy today! https://t.co/KBkladnmPQ   \n",
       "53224  RT @realDonaldTrump: Our GREAT Senator from South Carolina, @SenatorTimScott just released a fantastic new book, “OPPORTUNITY KNOCKS: How H…   \n",
       "53225                                                                                                   RT @realDonaldTrump: Great news, thank you!   \n",
       "53226                                                                                         RT @realDonaldTrump: Thank you @Honeywell, great job!   \n",
       "53227                                                                                          CONGRATULATIONS @AF_Academy! https://t.co/27HxXLNbd8   \n",
       "\n",
       "                     created_at  retweet_count  in_reply_to_user_id_str  \\\n",
       "53223 2020-04-19 00:34:57+00:00           7029                      NaN   \n",
       "53224 2020-04-19 00:35:16+00:00          13202                      NaN   \n",
       "53225 2020-04-19 02:46:31+00:00          11778                      NaN   \n",
       "53226 2020-04-19 02:46:48+00:00          10597                      NaN   \n",
       "53227 2020-04-19 03:23:36+00:00            640                      NaN   \n",
       "\n",
       "       favorite_count  is_retweet created_date created_time  \n",
       "53223           25678       False   2020-04-19     00:34:57  \n",
       "53224               0        True   2020-04-19     00:35:16  \n",
       "53225               0        True   2020-04-19     02:46:31  \n",
       "53226               0        True   2020-04-19     02:46:48  \n",
       "53227            2536       False   2020-04-19     03:23:36  "
      ]
     },
     "execution_count": 102,
     "metadata": {},
     "output_type": "execute_result"
    }
   ],
   "source": [
    "df.tail()"
   ]
  },
  {
   "cell_type": "code",
   "execution_count": null,
   "metadata": {},
   "outputs": [],
   "source": []
  },
  {
   "cell_type": "code",
   "execution_count": 103,
   "metadata": {},
   "outputs": [],
   "source": [
    "# make df of label, text, is_valid \n",
    "\n",
    "# label will be 'is_retweet'\n",
    "\n",
    "\n",
    "texts = df[['is_retweet', 'text', 'created_date', 'created_time']]"
   ]
  },
  {
   "cell_type": "code",
   "execution_count": null,
   "metadata": {},
   "outputs": [],
   "source": []
  },
  {
   "cell_type": "code",
   "execution_count": 104,
   "metadata": {
    "scrolled": false
   },
   "outputs": [],
   "source": [
    "texts = texts.rename(columns={'is_retweet':'label'})"
   ]
  },
  {
   "cell_type": "code",
   "execution_count": null,
   "metadata": {},
   "outputs": [],
   "source": []
  },
  {
   "cell_type": "code",
   "execution_count": 105,
   "metadata": {},
   "outputs": [],
   "source": [
    "texts['is_valid'] = False"
   ]
  },
  {
   "cell_type": "code",
   "execution_count": 106,
   "metadata": {},
   "outputs": [
    {
     "data": {
      "text/html": [
       "<div>\n",
       "<style scoped>\n",
       "    .dataframe tbody tr th:only-of-type {\n",
       "        vertical-align: middle;\n",
       "    }\n",
       "\n",
       "    .dataframe tbody tr th {\n",
       "        vertical-align: top;\n",
       "    }\n",
       "\n",
       "    .dataframe thead th {\n",
       "        text-align: right;\n",
       "    }\n",
       "</style>\n",
       "<table border=\"1\" class=\"dataframe\">\n",
       "  <thead>\n",
       "    <tr style=\"text-align: right;\">\n",
       "      <th></th>\n",
       "      <th>label</th>\n",
       "      <th>text</th>\n",
       "      <th>created_date</th>\n",
       "      <th>created_time</th>\n",
       "      <th>is_valid</th>\n",
       "    </tr>\n",
       "  </thead>\n",
       "  <tbody>\n",
       "    <tr>\n",
       "      <th>0</th>\n",
       "      <td>False</td>\n",
       "      <td>Be sure to tune in and watch Donald Trump on Late Night with David Letterman as he presents the Top Ten List tonight!</td>\n",
       "      <td>2009-05-04</td>\n",
       "      <td>18:54:25</td>\n",
       "      <td>False</td>\n",
       "    </tr>\n",
       "    <tr>\n",
       "      <th>1</th>\n",
       "      <td>False</td>\n",
       "      <td>Donald Trump will be appearing on The View tomorrow morning to discuss Celebrity Apprentice and his new book Think Like A Champion!</td>\n",
       "      <td>2009-05-05</td>\n",
       "      <td>01:00:10</td>\n",
       "      <td>False</td>\n",
       "    </tr>\n",
       "    <tr>\n",
       "      <th>2</th>\n",
       "      <td>False</td>\n",
       "      <td>Donald Trump reads Top Ten Financial Tips on Late Show with David Letterman: http://tinyurl.com/ooafwn - Very funny!</td>\n",
       "      <td>2009-05-08</td>\n",
       "      <td>13:38:08</td>\n",
       "      <td>False</td>\n",
       "    </tr>\n",
       "    <tr>\n",
       "      <th>3</th>\n",
       "      <td>False</td>\n",
       "      <td>New Blog Post: Celebrity Apprentice Finale and Lessons Learned Along the Way: http://tinyurl.com/qlux5e</td>\n",
       "      <td>2009-05-08</td>\n",
       "      <td>20:40:15</td>\n",
       "      <td>False</td>\n",
       "    </tr>\n",
       "    <tr>\n",
       "      <th>4</th>\n",
       "      <td>False</td>\n",
       "      <td>\"My persona will never be that of a wallflower - I’d rather build walls than cling to them\" --Donald J. Trump</td>\n",
       "      <td>2009-05-12</td>\n",
       "      <td>14:07:28</td>\n",
       "      <td>False</td>\n",
       "    </tr>\n",
       "    <tr>\n",
       "      <th>...</th>\n",
       "      <td>...</td>\n",
       "      <td>...</td>\n",
       "      <td>...</td>\n",
       "      <td>...</td>\n",
       "      <td>...</td>\n",
       "    </tr>\n",
       "    <tr>\n",
       "      <th>53223</th>\n",
       "      <td>False</td>\n",
       "      <td>Great new book out by @realKTMcFarland, “Revolution: Trump, Washington, and We the People”. Get your copy today! https://t.co/KBkladnmPQ</td>\n",
       "      <td>2020-04-19</td>\n",
       "      <td>00:34:57</td>\n",
       "      <td>False</td>\n",
       "    </tr>\n",
       "    <tr>\n",
       "      <th>53224</th>\n",
       "      <td>True</td>\n",
       "      <td>RT @realDonaldTrump: Our GREAT Senator from South Carolina, @SenatorTimScott just released a fantastic new book, “OPPORTUNITY KNOCKS: How H…</td>\n",
       "      <td>2020-04-19</td>\n",
       "      <td>00:35:16</td>\n",
       "      <td>False</td>\n",
       "    </tr>\n",
       "    <tr>\n",
       "      <th>53225</th>\n",
       "      <td>True</td>\n",
       "      <td>RT @realDonaldTrump: Great news, thank you!</td>\n",
       "      <td>2020-04-19</td>\n",
       "      <td>02:46:31</td>\n",
       "      <td>False</td>\n",
       "    </tr>\n",
       "    <tr>\n",
       "      <th>53226</th>\n",
       "      <td>True</td>\n",
       "      <td>RT @realDonaldTrump: Thank you @Honeywell, great job!</td>\n",
       "      <td>2020-04-19</td>\n",
       "      <td>02:46:48</td>\n",
       "      <td>False</td>\n",
       "    </tr>\n",
       "    <tr>\n",
       "      <th>53227</th>\n",
       "      <td>False</td>\n",
       "      <td>CONGRATULATIONS @AF_Academy! https://t.co/27HxXLNbd8</td>\n",
       "      <td>2020-04-19</td>\n",
       "      <td>03:23:36</td>\n",
       "      <td>False</td>\n",
       "    </tr>\n",
       "  </tbody>\n",
       "</table>\n",
       "<p>53228 rows × 5 columns</p>\n",
       "</div>"
      ],
      "text/plain": [
       "       label  \\\n",
       "0      False   \n",
       "1      False   \n",
       "2      False   \n",
       "3      False   \n",
       "4      False   \n",
       "...      ...   \n",
       "53223  False   \n",
       "53224   True   \n",
       "53225   True   \n",
       "53226   True   \n",
       "53227  False   \n",
       "\n",
       "                                                                                                                                               text  \\\n",
       "0                             Be sure to tune in and watch Donald Trump on Late Night with David Letterman as he presents the Top Ten List tonight!   \n",
       "1               Donald Trump will be appearing on The View tomorrow morning to discuss Celebrity Apprentice and his new book Think Like A Champion!   \n",
       "2                              Donald Trump reads Top Ten Financial Tips on Late Show with David Letterman: http://tinyurl.com/ooafwn - Very funny!   \n",
       "3                                           New Blog Post: Celebrity Apprentice Finale and Lessons Learned Along the Way: http://tinyurl.com/qlux5e   \n",
       "4                                     \"My persona will never be that of a wallflower - I’d rather build walls than cling to them\" --Donald J. Trump   \n",
       "...                                                                                                                                             ...   \n",
       "53223      Great new book out by @realKTMcFarland, “Revolution: Trump, Washington, and We the People”. Get your copy today! https://t.co/KBkladnmPQ   \n",
       "53224  RT @realDonaldTrump: Our GREAT Senator from South Carolina, @SenatorTimScott just released a fantastic new book, “OPPORTUNITY KNOCKS: How H…   \n",
       "53225                                                                                                   RT @realDonaldTrump: Great news, thank you!   \n",
       "53226                                                                                         RT @realDonaldTrump: Thank you @Honeywell, great job!   \n",
       "53227                                                                                          CONGRATULATIONS @AF_Academy! https://t.co/27HxXLNbd8   \n",
       "\n",
       "      created_date created_time  is_valid  \n",
       "0       2009-05-04     18:54:25     False  \n",
       "1       2009-05-05     01:00:10     False  \n",
       "2       2009-05-08     13:38:08     False  \n",
       "3       2009-05-08     20:40:15     False  \n",
       "4       2009-05-12     14:07:28     False  \n",
       "...            ...          ...       ...  \n",
       "53223   2020-04-19     00:34:57     False  \n",
       "53224   2020-04-19     00:35:16     False  \n",
       "53225   2020-04-19     02:46:31     False  \n",
       "53226   2020-04-19     02:46:48     False  \n",
       "53227   2020-04-19     03:23:36     False  \n",
       "\n",
       "[53228 rows x 5 columns]"
      ]
     },
     "execution_count": 106,
     "metadata": {},
     "output_type": "execute_result"
    }
   ],
   "source": [
    "texts"
   ]
  },
  {
   "cell_type": "code",
   "execution_count": 107,
   "metadata": {},
   "outputs": [],
   "source": [
    "test_size = len(texts['is_valid']) // 5"
   ]
  },
  {
   "cell_type": "code",
   "execution_count": 108,
   "metadata": {},
   "outputs": [
    {
     "name": "stderr",
     "output_type": "stream",
     "text": [
      "/Users/cooper/.virtualenvs/tweets/lib/python3.7/site-packages/pandas/core/indexing.py:671: SettingWithCopyWarning: \n",
      "A value is trying to be set on a copy of a slice from a DataFrame\n",
      "\n",
      "See the caveats in the documentation: https://pandas.pydata.org/pandas-docs/stable/user_guide/indexing.html#returning-a-view-versus-a-copy\n",
      "  self._setitem_with_indexer(indexer, value)\n"
     ]
    }
   ],
   "source": [
    "# make the most recent fifth of tweets the validation data\n",
    "\n",
    "texts['is_valid'].iloc[-test_size:] = True    "
   ]
  },
  {
   "cell_type": "code",
   "execution_count": 109,
   "metadata": {},
   "outputs": [
    {
     "name": "stdout",
     "output_type": "stream",
     "text": [
      "/Users/cooper/Desktop/springboard/tweets/trump_tweets\r\n"
     ]
    }
   ],
   "source": [
    "!pwd"
   ]
  },
  {
   "cell_type": "code",
   "execution_count": 110,
   "metadata": {},
   "outputs": [],
   "source": [
    "# takes a retweet as a string and removes the 'RT @name: '\n",
    "\n",
    "def remove_rt_signature(tweet):\n",
    "    split_tweet = tweet.split(':', 1)\n",
    "    return split_tweet[1][1:]"
   ]
  },
  {
   "cell_type": "code",
   "execution_count": 111,
   "metadata": {},
   "outputs": [
    {
     "data": {
      "text/plain": [
       "'So proud to be out on the campaign trail with @realDonaldTrump - thanks for an amazing night #Biloxi #Trump2016 https://t.co…'"
      ]
     },
     "execution_count": 111,
     "metadata": {},
     "output_type": "execute_result"
    }
   ],
   "source": [
    "remove_rt_signature(retweets['text'].iloc[0])"
   ]
  },
  {
   "cell_type": "code",
   "execution_count": 112,
   "metadata": {},
   "outputs": [],
   "source": [
    "texts['text_cleaned'] = texts.apply(lambda row: row['text'] if row['label'] == False \n",
    "                                    else remove_rt_signature(row['text']), axis=1)"
   ]
  },
  {
   "cell_type": "code",
   "execution_count": 60,
   "metadata": {},
   "outputs": [],
   "source": [
    "# Define path\n",
    "\n",
    "path = Path('/Users/cooper/Desktop/springboard/tweets/trump_tweets')\n",
    "\n",
    "train_df, valid_df = texts[texts['is_valid'] == True], texts[texts['is_valid'] == False]\n",
    "\n"
   ]
  },
  {
   "cell_type": "code",
   "execution_count": 61,
   "metadata": {},
   "outputs": [
    {
     "data": {
      "text/html": [],
      "text/plain": [
       "<IPython.core.display.HTML object>"
      ]
     },
     "metadata": {},
     "output_type": "display_data"
    },
    {
     "data": {
      "text/html": [],
      "text/plain": [
       "<IPython.core.display.HTML object>"
      ]
     },
     "metadata": {},
     "output_type": "display_data"
    },
    {
     "data": {
      "text/html": [],
      "text/plain": [
       "<IPython.core.display.HTML object>"
      ]
     },
     "metadata": {},
     "output_type": "display_data"
    },
    {
     "data": {
      "text/html": [],
      "text/plain": [
       "<IPython.core.display.HTML object>"
      ]
     },
     "metadata": {},
     "output_type": "display_data"
    }
   ],
   "source": [
    "# text_cleaned \n",
    "\n",
    "data_lm = TextLMDataBunch.from_df(path, train_df, valid_df, text_cols=5, bs=32)\n",
    "data_clas = TextClasDataBunch.from_df(path, train_df, valid_df, text_cols=5, label_cols=0, bs=32)"
   ]
  },
  {
   "cell_type": "code",
   "execution_count": 62,
   "metadata": {},
   "outputs": [],
   "source": [
    "# texts.to_csv('texts.csv')\n",
    "# path = Path('/Users/cooper/Desktop/springboard/tweets/trump_tweets/')\n",
    "# !ls\n",
    "# path"
   ]
  },
  {
   "cell_type": "code",
   "execution_count": 63,
   "metadata": {},
   "outputs": [],
   "source": [
    "# # Language model data\n",
    "# data_lm = TextLMDataBunch.from_csv(path, 'texts.csv', text_cols=)\n",
    "# # Classifier model data\n",
    "# data_clas = TextClasDataBunch.from_csv(path, 'texts.csv', \n",
    "#                                        vocab=data_lm.train_ds.vocab, bs=32)"
   ]
  },
  {
   "cell_type": "code",
   "execution_count": 64,
   "metadata": {},
   "outputs": [
    {
     "data": {
      "text/html": [
       "<table border=\"1\" class=\"dataframe\">\n",
       "  <thead>\n",
       "    <tr style=\"text-align: right;\">\n",
       "      <th>idx</th>\n",
       "      <th>text</th>\n",
       "    </tr>\n",
       "  </thead>\n",
       "  <tbody>\n",
       "    <tr>\n",
       "      <td>0</td>\n",
       "      <td>via @judicialwatch xxbos xxup rt @tomfitton : xxup xxunk xxunk @realdonaldtrump xxunk on asylum scamming is working . https : / / t.co / xxunk xxbos xxmaj important meetings and calls on xxmaj china xxmaj trade xxmaj deal , and more , today with my staff . xxmaj big progress being made on s xxrep 4 o many different fronts ! xxmaj our xxmaj country has such fantastic potential for</td>\n",
       "    </tr>\n",
       "    <tr>\n",
       "      <td>1</td>\n",
       "      <td>“ illegitimate president . ” xxmaj she has proven to have a vendetta against @realdonaldt … xxbos xxmaj all part of the xxmaj witch xxmaj hunt xxmaj hoax . xxmaj started by little xxmaj eric xxmaj schneiderman &amp; &amp; xxmaj xxunk . xxmaj so many leaving xxmaj new xxmaj york ! https : / / t.co / xxup 5hccnfzxfn xxbos xxmaj all part of the xxmaj witch xxmaj hunt xxmaj</td>\n",
       "    </tr>\n",
       "    <tr>\n",
       "      <td>2</td>\n",
       "      <td>this xxmaj russia xxmaj hoax must never happen to another xxmaj president , and xxmaj law xxmaj enforcement must find out , xxup how xxup did xxup it xxup start ? xxbos xxmaj to every member of the xxup @rjc , thank you for your incredible support and your outstanding commitment to our xxmaj country , to our safety , and to electing xxup more xxup republicans . xxmaj over</td>\n",
       "    </tr>\n",
       "    <tr>\n",
       "      <td>3</td>\n",
       "      <td>, xxmaj georgia , yesterday for the xxmaj xxunk xxmaj drug xxmaj abuse and xxmaj heroin xxmaj summit , con … xxbos xxmaj our xxmaj border xxmaj control xxmaj agents have done an incredible job under very xxunk conditions . i am very proud to have increased their xxunk because of the great job they do . xxmaj nobody deserves it more . xxup thank xxup you and keep up</td>\n",
       "    </tr>\n",
       "    <tr>\n",
       "      <td>4</td>\n",
       "      <td>a phenomenal deal of the traditional kind . xxmaj also , much easier &amp; &amp; quicker to do . xxmaj our xxmaj farmers will do better , faster , and starving nations can now be helped . xxmaj waivers on some products will be granted , or go to new source ! xxbos xxmaj tariffs will make our xxmaj country xxup much xxup stronger , not weaker . xxmaj just</td>\n",
       "    </tr>\n",
       "  </tbody>\n",
       "</table>"
      ],
      "text/plain": [
       "<IPython.core.display.HTML object>"
      ]
     },
     "metadata": {},
     "output_type": "display_data"
    }
   ],
   "source": [
    "data_lm.show_batch()"
   ]
  },
  {
   "cell_type": "code",
   "execution_count": 65,
   "metadata": {},
   "outputs": [
    {
     "data": {
      "text/html": [
       "<table border=\"1\" class=\"dataframe\">\n",
       "  <thead>\n",
       "    <tr style=\"text-align: right;\">\n",
       "      <th>text</th>\n",
       "      <th>target</th>\n",
       "    </tr>\n",
       "  </thead>\n",
       "  <tbody>\n",
       "    <tr>\n",
       "      <td>xxbos xxmaj just out : xxup median xxup household xxup income xxup is xxup at xxup the xxup highest xxup point xxup ever , xxup ever , xxup ever ! xxmaj how about saying it this way , xxup in xxup the xxup history xxup of xxup our xxup country ! xxmaj also , xxup more xxup people xxup working xxup today xxup in xxup the xxup usa xxup than</td>\n",
       "      <td>False</td>\n",
       "    </tr>\n",
       "    <tr>\n",
       "      <td>xxbos xxrep 4 . almost 3 years , but it is time for us to get out of these ridiculous xxmaj endless xxmaj wars , many of them tribal , and bring our soldiers home . xxup we xxup will xxup fight xxup where xxup it xxup is xxup to xxup our xxup benefit , xxup and xxup only xxup fight xxup to xxup win . xxmaj turkey , xxmaj</td>\n",
       "      <td>False</td>\n",
       "    </tr>\n",
       "    <tr>\n",
       "      <td>xxbos xxmaj more than anything else , the xxmaj radical xxmaj left , xxmaj do xxmaj nothing xxmaj democrats , like xxup aoc , xxmaj omar , xxmaj cryin ’ xxmaj chuck , xxmaj nervous xxmaj nancy &amp; &amp; xxmaj shifty xxmaj schiff , are angry &amp; &amp; “ deranged ” over the fact that xxmaj republicans are up to 191 xxmaj federal xxmaj judges &amp; &amp; xxmaj two xxmaj</td>\n",
       "      <td>False</td>\n",
       "    </tr>\n",
       "    <tr>\n",
       "      <td>xxbos xxmaj just signed xxmaj disaster xxmaj aid xxmaj bill to help xxmaj americans who have been hit by recent catastrophic storms . xxmaj so important for our xxup great xxmaj american farmers and ranchers . xxmaj help for xxup ga , xxup fl , xxup ia , xxup ne , xxup nc , and xxup ca . xxmaj puerto xxmaj rico should love xxmaj president xxmaj trump . xxmaj</td>\n",
       "      <td>False</td>\n",
       "    </tr>\n",
       "    <tr>\n",
       "      <td>xxbos “ xxmaj federal xxmaj court xxmaj deals xxmaj major xxmaj blow xxmaj to xxmaj sanctuary xxmaj cities . ” @foxnews xxmaj in other words , there will be no more xxmaj federal xxmaj tax xxmaj dollars to xxmaj states &amp; &amp; xxmaj cities that will not cooperate with xxmaj federal xxmaj law xxmaj enforcement ( xxup ice ) . xxmaj this is xxup big xxup news ! xxmaj funds</td>\n",
       "      <td>False</td>\n",
       "    </tr>\n",
       "  </tbody>\n",
       "</table>"
      ],
      "text/plain": [
       "<IPython.core.display.HTML object>"
      ]
     },
     "metadata": {},
     "output_type": "display_data"
    }
   ],
   "source": [
    "data_clas.show_batch()"
   ]
  },
  {
   "cell_type": "code",
   "execution_count": 66,
   "metadata": {},
   "outputs": [],
   "source": [
    "data_lm.save('data_lm_export.pkl')\n",
    "data_clas.save('data_clas_export.pkl')"
   ]
  },
  {
   "cell_type": "code",
   "execution_count": 67,
   "metadata": {},
   "outputs": [],
   "source": [
    "data_lm = load_data(path, 'data_lm_export.pkl')\n",
    "data_clas = load_data(path, 'data_clas_export.pkl', bs=16)"
   ]
  },
  {
   "cell_type": "code",
   "execution_count": 68,
   "metadata": {},
   "outputs": [
    {
     "data": {
      "text/html": [
       "<table border=\"1\" class=\"dataframe\">\n",
       "  <thead>\n",
       "    <tr style=\"text-align: left;\">\n",
       "      <th>epoch</th>\n",
       "      <th>train_loss</th>\n",
       "      <th>valid_loss</th>\n",
       "      <th>accuracy</th>\n",
       "      <th>time</th>\n",
       "    </tr>\n",
       "  </thead>\n",
       "  <tbody>\n",
       "    <tr>\n",
       "      <td>0</td>\n",
       "      <td>3.952446</td>\n",
       "      <td>3.901577</td>\n",
       "      <td>0.285938</td>\n",
       "      <td>09:44</td>\n",
       "    </tr>\n",
       "  </tbody>\n",
       "</table>"
      ],
      "text/plain": [
       "<IPython.core.display.HTML object>"
      ]
     },
     "metadata": {},
     "output_type": "display_data"
    }
   ],
   "source": [
    "learn = language_model_learner(data_lm, AWD_LSTM, drop_mult=0.5)\n",
    "learn.fit_one_cycle(1, 1e-2)"
   ]
  },
  {
   "cell_type": "code",
   "execution_count": 69,
   "metadata": {},
   "outputs": [
    {
     "data": {
      "text/html": [
       "<table border=\"1\" class=\"dataframe\">\n",
       "  <thead>\n",
       "    <tr style=\"text-align: left;\">\n",
       "      <th>epoch</th>\n",
       "      <th>train_loss</th>\n",
       "      <th>valid_loss</th>\n",
       "      <th>accuracy</th>\n",
       "      <th>time</th>\n",
       "    </tr>\n",
       "  </thead>\n",
       "  <tbody>\n",
       "    <tr>\n",
       "      <td>0</td>\n",
       "      <td>3.306915</td>\n",
       "      <td>3.805825</td>\n",
       "      <td>0.298524</td>\n",
       "      <td>09:46</td>\n",
       "    </tr>\n",
       "  </tbody>\n",
       "</table>"
      ],
      "text/plain": [
       "<IPython.core.display.HTML object>"
      ]
     },
     "metadata": {},
     "output_type": "display_data"
    }
   ],
   "source": [
    "learn.unfreeze()\n",
    "learn.fit_one_cycle(1, 1e-3)"
   ]
  },
  {
   "cell_type": "code",
   "execution_count": 70,
   "metadata": {},
   "outputs": [
    {
     "data": {
      "text/plain": [
       "'can you imagine that an Eye Fix circuit ever hit another New York'"
      ]
     },
     "execution_count": 70,
     "metadata": {},
     "output_type": "execute_result"
    }
   ],
   "source": [
    "learn.predict(\"can you imagine\", n_words=15)"
   ]
  },
  {
   "cell_type": "code",
   "execution_count": 71,
   "metadata": {},
   "outputs": [],
   "source": [
    "learn.save_encoder('ft_enc')"
   ]
  },
  {
   "cell_type": "code",
   "execution_count": 72,
   "metadata": {},
   "outputs": [
    {
     "data": {
      "text/plain": [
       "RNNLearner(data=TextClasDataBunch;\n",
       "\n",
       "Train: LabelList (10645 items)\n",
       "x: TextList\n",
       "xxbos xxup rt @tomfitton : xxup big : xxmaj strzok / xxmaj page xxmaj docs xxmaj show xxmaj more xxmaj collusion to xxmaj protect xxmaj hillary xxmaj clinton ; xxmaj voter xxmaj fraud xxmaj crisis -- xxmaj thousands of xxmaj aliens xxmaj illegally xxmaj xxunk …,xxbos xxup rt @tomfitton : xxmaj mueller xxmaj will xxmaj harass @realdonaldtrump for xxmaj entire xxmaj term https : / / t.co / xxunk via @judicialwatch,xxbos xxup rt @tomfitton : xxup xxunk xxunk @realdonaldtrump xxunk on asylum scamming is working . https : / / t.co / xxunk,xxbos xxmaj important meetings and calls on xxmaj china xxmaj trade xxmaj deal , and more , today with my staff . xxmaj big progress being made on s xxrep 4 o many different fronts ! xxmaj our xxmaj country has such fantastic potential for future growth and greatness on an even higher level !,xxbos xxmaj democrats in the xxmaj senate are still slow walking hundreds of highly qualified people wanting to come into government . xxmaj never been such an abuse in our country ’s history . xxmaj mitch should not let xxmaj senate go home until all are approved . xxmaj we need our xxmaj ambassadors and all others xxup now !\n",
       "y: CategoryList\n",
       "False,False,False,False,False\n",
       "Path: /Users/cooper/Desktop/springboard/tweets/trump_tweets;\n",
       "\n",
       "Valid: LabelList (42583 items)\n",
       "x: TextList\n",
       "xxbos xxmaj be sure to tune in and watch xxmaj donald xxmaj trump on xxmaj late xxmaj night with xxmaj david xxmaj xxunk as he presents the xxmaj top xxmaj ten xxmaj list tonight !,xxbos xxmaj donald xxmaj trump will be xxunk on xxmaj the xxmaj view tomorrow morning to discuss xxmaj xxunk xxmaj apprentice and his new book xxmaj think xxmaj like a xxmaj champion !,xxbos xxmaj donald xxmaj trump xxunk xxmaj top xxmaj ten xxmaj financial xxmaj xxunk on xxmaj late xxmaj show with xxmaj david xxmaj xxunk : http : / / xxunk / xxunk - xxmaj very funny !,xxbos xxmaj new xxmaj xxunk xxmaj post : xxmaj xxunk xxmaj apprentice xxmaj finale and xxmaj xxunk xxmaj learned xxmaj along the xxmaj way : http : / / xxunk / xxunk,xxbos \" xxmaj my xxunk will never be that of a xxunk - i ’d rather build walls than xxunk to them \" xxunk xxup j. xxmaj trump\n",
       "y: CategoryList\n",
       "False,False,False,False,False\n",
       "Path: /Users/cooper/Desktop/springboard/tweets/trump_tweets;\n",
       "\n",
       "Test: None, model=SequentialRNN(\n",
       "  (0): MultiBatchEncoder(\n",
       "    (module): AWD_LSTM(\n",
       "      (encoder): Embedding(8360, 400, padding_idx=1)\n",
       "      (encoder_dp): EmbeddingDropout(\n",
       "        (emb): Embedding(8360, 400, padding_idx=1)\n",
       "      )\n",
       "      (rnns): ModuleList(\n",
       "        (0): WeightDropout(\n",
       "          (module): LSTM(400, 1152, batch_first=True)\n",
       "        )\n",
       "        (1): WeightDropout(\n",
       "          (module): LSTM(1152, 1152, batch_first=True)\n",
       "        )\n",
       "        (2): WeightDropout(\n",
       "          (module): LSTM(1152, 400, batch_first=True)\n",
       "        )\n",
       "      )\n",
       "      (input_dp): RNNDropout()\n",
       "      (hidden_dps): ModuleList(\n",
       "        (0): RNNDropout()\n",
       "        (1): RNNDropout()\n",
       "        (2): RNNDropout()\n",
       "      )\n",
       "    )\n",
       "  )\n",
       "  (1): PoolingLinearClassifier(\n",
       "    (layers): Sequential(\n",
       "      (0): BatchNorm1d(1200, eps=1e-05, momentum=0.1, affine=True, track_running_stats=True)\n",
       "      (1): Dropout(p=0.2, inplace=False)\n",
       "      (2): Linear(in_features=1200, out_features=50, bias=True)\n",
       "      (3): ReLU(inplace=True)\n",
       "      (4): BatchNorm1d(50, eps=1e-05, momentum=0.1, affine=True, track_running_stats=True)\n",
       "      (5): Dropout(p=0.1, inplace=False)\n",
       "      (6): Linear(in_features=50, out_features=2, bias=True)\n",
       "    )\n",
       "  )\n",
       "), opt_func=functools.partial(<class 'torch.optim.adam.Adam'>, betas=(0.9, 0.99)), loss_func=FlattenedLoss of CrossEntropyLoss(), metrics=[<function accuracy at 0x13b0bf950>], true_wd=True, bn_wd=True, wd=0.01, train_bn=True, path=PosixPath('/Users/cooper/Desktop/springboard/tweets/trump_tweets'), model_dir='models', callback_fns=[functools.partial(<class 'fastai.basic_train.Recorder'>, add_time=True, silent=False)], callbacks=[RNNTrainer\n",
       "learn: ...\n",
       "alpha: 2.0\n",
       "beta: 1.0], layer_groups=[Sequential(\n",
       "  (0): Embedding(8360, 400, padding_idx=1)\n",
       "  (1): EmbeddingDropout(\n",
       "    (emb): Embedding(8360, 400, padding_idx=1)\n",
       "  )\n",
       "), Sequential(\n",
       "  (0): WeightDropout(\n",
       "    (module): LSTM(400, 1152, batch_first=True)\n",
       "  )\n",
       "  (1): RNNDropout()\n",
       "), Sequential(\n",
       "  (0): WeightDropout(\n",
       "    (module): LSTM(1152, 1152, batch_first=True)\n",
       "  )\n",
       "  (1): RNNDropout()\n",
       "), Sequential(\n",
       "  (0): WeightDropout(\n",
       "    (module): LSTM(1152, 400, batch_first=True)\n",
       "  )\n",
       "  (1): RNNDropout()\n",
       "), Sequential(\n",
       "  (0): PoolingLinearClassifier(\n",
       "    (layers): Sequential(\n",
       "      (0): BatchNorm1d(1200, eps=1e-05, momentum=0.1, affine=True, track_running_stats=True)\n",
       "      (1): Dropout(p=0.2, inplace=False)\n",
       "      (2): Linear(in_features=1200, out_features=50, bias=True)\n",
       "      (3): ReLU(inplace=True)\n",
       "      (4): BatchNorm1d(50, eps=1e-05, momentum=0.1, affine=True, track_running_stats=True)\n",
       "      (5): Dropout(p=0.1, inplace=False)\n",
       "      (6): Linear(in_features=50, out_features=2, bias=True)\n",
       "    )\n",
       "  )\n",
       ")], add_time=True, silent=False)"
      ]
     },
     "execution_count": 72,
     "metadata": {},
     "output_type": "execute_result"
    }
   ],
   "source": [
    "learn = text_classifier_learner(data_clas, AWD_LSTM, drop_mult=0.5)\n",
    "learn.load_encoder('ft_enc')"
   ]
  },
  {
   "cell_type": "code",
   "execution_count": null,
   "metadata": {},
   "outputs": [],
   "source": []
  },
  {
   "cell_type": "code",
   "execution_count": 73,
   "metadata": {},
   "outputs": [
    {
     "data": {
      "text/html": [
       "<table border=\"1\" class=\"dataframe\">\n",
       "  <thead>\n",
       "    <tr style=\"text-align: left;\">\n",
       "      <th>epoch</th>\n",
       "      <th>train_loss</th>\n",
       "      <th>valid_loss</th>\n",
       "      <th>accuracy</th>\n",
       "      <th>time</th>\n",
       "    </tr>\n",
       "  </thead>\n",
       "  <tbody>\n",
       "    <tr>\n",
       "      <td>0</td>\n",
       "      <td>0.333121</td>\n",
       "      <td>0.298690</td>\n",
       "      <td>0.905079</td>\n",
       "      <td>18:15</td>\n",
       "    </tr>\n",
       "  </tbody>\n",
       "</table>"
      ],
      "text/plain": [
       "<IPython.core.display.HTML object>"
      ]
     },
     "metadata": {},
     "output_type": "display_data"
    }
   ],
   "source": [
    "learn.fit_one_cycle(1, 1e-2)"
   ]
  },
  {
   "cell_type": "code",
   "execution_count": 74,
   "metadata": {},
   "outputs": [
    {
     "data": {
      "text/html": [
       "<table border=\"1\" class=\"dataframe\">\n",
       "  <thead>\n",
       "    <tr style=\"text-align: left;\">\n",
       "      <th>epoch</th>\n",
       "      <th>train_loss</th>\n",
       "      <th>valid_loss</th>\n",
       "      <th>accuracy</th>\n",
       "      <th>time</th>\n",
       "    </tr>\n",
       "  </thead>\n",
       "  <tbody>\n",
       "    <tr>\n",
       "      <td>0</td>\n",
       "      <td>0.236674</td>\n",
       "      <td>0.228476</td>\n",
       "      <td>0.946598</td>\n",
       "      <td>21:06</td>\n",
       "    </tr>\n",
       "  </tbody>\n",
       "</table>"
      ],
      "text/plain": [
       "<IPython.core.display.HTML object>"
      ]
     },
     "metadata": {},
     "output_type": "display_data"
    }
   ],
   "source": [
    "# unfreeze and fine-tune\n",
    "\n",
    "learn.freeze_to(-2)\n",
    "learn.fit_one_cycle(1, slice(5e-3/2., 5e-3))"
   ]
  },
  {
   "cell_type": "code",
   "execution_count": 75,
   "metadata": {},
   "outputs": [
    {
     "data": {
      "text/html": [
       "<table border=\"1\" class=\"dataframe\">\n",
       "  <thead>\n",
       "    <tr style=\"text-align: left;\">\n",
       "      <th>epoch</th>\n",
       "      <th>train_loss</th>\n",
       "      <th>valid_loss</th>\n",
       "      <th>accuracy</th>\n",
       "      <th>time</th>\n",
       "    </tr>\n",
       "  </thead>\n",
       "  <tbody>\n",
       "    <tr>\n",
       "      <td>0</td>\n",
       "      <td>0.176377</td>\n",
       "      <td>0.287258</td>\n",
       "      <td>0.896179</td>\n",
       "      <td>21:04</td>\n",
       "    </tr>\n",
       "  </tbody>\n",
       "</table>"
      ],
      "text/plain": [
       "<IPython.core.display.HTML object>"
      ]
     },
     "metadata": {},
     "output_type": "display_data"
    }
   ],
   "source": [
    "learn.unfreeze()\n",
    "learn.fit_one_cycle(1, slice(2e-3/100, 2e-3))"
   ]
  },
  {
   "cell_type": "code",
   "execution_count": 81,
   "metadata": {},
   "outputs": [
    {
     "data": {
      "text/plain": [
       "(Category True, tensor(1), tensor([0.4056, 0.5944]))"
      ]
     },
     "execution_count": 81,
     "metadata": {},
     "output_type": "execute_result"
    }
   ],
   "source": [
    "learn.predict(\"I am bigly smart and a stable genius\")"
   ]
  },
  {
   "cell_type": "code",
   "execution_count": 78,
   "metadata": {},
   "outputs": [
    {
     "data": {
      "text/plain": [
       "(Category True, tensor(1), tensor([0.3794, 0.6206]))"
      ]
     },
     "execution_count": 78,
     "metadata": {},
     "output_type": "execute_result"
    }
   ],
   "source": [
    "learn.predict(\"eventually we will find who is responsible\")"
   ]
  },
  {
   "cell_type": "code",
   "execution_count": null,
   "metadata": {},
   "outputs": [],
   "source": []
  },
  {
   "cell_type": "code",
   "execution_count": null,
   "metadata": {},
   "outputs": [],
   "source": [
    "# Let's clean the retweets so they dont start with 'RT @name:'"
   ]
  },
  {
   "cell_type": "code",
   "execution_count": null,
   "metadata": {},
   "outputs": [],
   "source": []
  },
  {
   "cell_type": "code",
   "execution_count": 202,
   "metadata": {},
   "outputs": [
    {
     "data": {
      "text/html": [
       "<div>\n",
       "<style scoped>\n",
       "    .dataframe tbody tr th:only-of-type {\n",
       "        vertical-align: middle;\n",
       "    }\n",
       "\n",
       "    .dataframe tbody tr th {\n",
       "        vertical-align: top;\n",
       "    }\n",
       "\n",
       "    .dataframe thead th {\n",
       "        text-align: right;\n",
       "    }\n",
       "</style>\n",
       "<table border=\"1\" class=\"dataframe\">\n",
       "  <thead>\n",
       "    <tr style=\"text-align: right;\">\n",
       "      <th></th>\n",
       "      <th>label</th>\n",
       "      <th>text</th>\n",
       "      <th>is_valid</th>\n",
       "    </tr>\n",
       "  </thead>\n",
       "  <tbody>\n",
       "    <tr>\n",
       "      <th>0</th>\n",
       "      <td>False</td>\n",
       "      <td>Be sure to tune in and watch Donald Trump on Late Night with David Letterman as he presents the Top Ten List tonight!</td>\n",
       "      <td>False</td>\n",
       "    </tr>\n",
       "    <tr>\n",
       "      <th>1</th>\n",
       "      <td>False</td>\n",
       "      <td>Donald Trump will be appearing on The View tomorrow morning to discuss Celebrity Apprentice and his new book Think Like A Champion!</td>\n",
       "      <td>False</td>\n",
       "    </tr>\n",
       "    <tr>\n",
       "      <th>2</th>\n",
       "      <td>False</td>\n",
       "      <td>Donald Trump reads Top Ten Financial Tips on Late Show with David Letterman: http://tinyurl.com/ooafwn - Very funny!</td>\n",
       "      <td>False</td>\n",
       "    </tr>\n",
       "    <tr>\n",
       "      <th>3</th>\n",
       "      <td>False</td>\n",
       "      <td>New Blog Post: Celebrity Apprentice Finale and Lessons Learned Along the Way: http://tinyurl.com/qlux5e</td>\n",
       "      <td>False</td>\n",
       "    </tr>\n",
       "    <tr>\n",
       "      <th>4</th>\n",
       "      <td>False</td>\n",
       "      <td>\"My persona will never be that of a wallflower - I’d rather build walls than cling to them\" --Donald J. Trump</td>\n",
       "      <td>False</td>\n",
       "    </tr>\n",
       "    <tr>\n",
       "      <th>...</th>\n",
       "      <td>...</td>\n",
       "      <td>...</td>\n",
       "      <td>...</td>\n",
       "    </tr>\n",
       "    <tr>\n",
       "      <th>53223</th>\n",
       "      <td>False</td>\n",
       "      <td>Great new book out by @realKTMcFarland, “Revolution: Trump, Washington, and We the People”. Get your copy today! https://t.co/KBkladnmPQ</td>\n",
       "      <td>True</td>\n",
       "    </tr>\n",
       "    <tr>\n",
       "      <th>53224</th>\n",
       "      <td>True</td>\n",
       "      <td>RT @realDonaldTrump: Our GREAT Senator from South Carolina, @SenatorTimScott just released a fantastic new book, “OPPORTUNITY KNOCKS: How H…</td>\n",
       "      <td>True</td>\n",
       "    </tr>\n",
       "    <tr>\n",
       "      <th>53225</th>\n",
       "      <td>True</td>\n",
       "      <td>RT @realDonaldTrump: Great news, thank you!</td>\n",
       "      <td>True</td>\n",
       "    </tr>\n",
       "    <tr>\n",
       "      <th>53226</th>\n",
       "      <td>True</td>\n",
       "      <td>RT @realDonaldTrump: Thank you @Honeywell, great job!</td>\n",
       "      <td>True</td>\n",
       "    </tr>\n",
       "    <tr>\n",
       "      <th>53227</th>\n",
       "      <td>False</td>\n",
       "      <td>CONGRATULATIONS @AF_Academy! https://t.co/27HxXLNbd8</td>\n",
       "      <td>True</td>\n",
       "    </tr>\n",
       "  </tbody>\n",
       "</table>\n",
       "<p>53228 rows × 3 columns</p>\n",
       "</div>"
      ],
      "text/plain": [
       "       label  \\\n",
       "0      False   \n",
       "1      False   \n",
       "2      False   \n",
       "3      False   \n",
       "4      False   \n",
       "...      ...   \n",
       "53223  False   \n",
       "53224   True   \n",
       "53225   True   \n",
       "53226   True   \n",
       "53227  False   \n",
       "\n",
       "                                                                                                                                               text  \\\n",
       "0                             Be sure to tune in and watch Donald Trump on Late Night with David Letterman as he presents the Top Ten List tonight!   \n",
       "1               Donald Trump will be appearing on The View tomorrow morning to discuss Celebrity Apprentice and his new book Think Like A Champion!   \n",
       "2                              Donald Trump reads Top Ten Financial Tips on Late Show with David Letterman: http://tinyurl.com/ooafwn - Very funny!   \n",
       "3                                           New Blog Post: Celebrity Apprentice Finale and Lessons Learned Along the Way: http://tinyurl.com/qlux5e   \n",
       "4                                     \"My persona will never be that of a wallflower - I’d rather build walls than cling to them\" --Donald J. Trump   \n",
       "...                                                                                                                                             ...   \n",
       "53223      Great new book out by @realKTMcFarland, “Revolution: Trump, Washington, and We the People”. Get your copy today! https://t.co/KBkladnmPQ   \n",
       "53224  RT @realDonaldTrump: Our GREAT Senator from South Carolina, @SenatorTimScott just released a fantastic new book, “OPPORTUNITY KNOCKS: How H…   \n",
       "53225                                                                                                   RT @realDonaldTrump: Great news, thank you!   \n",
       "53226                                                                                         RT @realDonaldTrump: Thank you @Honeywell, great job!   \n",
       "53227                                                                                          CONGRATULATIONS @AF_Academy! https://t.co/27HxXLNbd8   \n",
       "\n",
       "       is_valid  \n",
       "0         False  \n",
       "1         False  \n",
       "2         False  \n",
       "3         False  \n",
       "4         False  \n",
       "...         ...  \n",
       "53223      True  \n",
       "53224      True  \n",
       "53225      True  \n",
       "53226      True  \n",
       "53227      True  \n",
       "\n",
       "[53228 rows x 3 columns]"
      ]
     },
     "execution_count": 202,
     "metadata": {},
     "output_type": "execute_result"
    }
   ],
   "source": [
    "texts"
   ]
  },
  {
   "cell_type": "code",
   "execution_count": 36,
   "metadata": {},
   "outputs": [],
   "source": [
    "retweets = texts[texts.label == True]\n",
    "tweets = texts[texts.label == False]"
   ]
  },
  {
   "cell_type": "code",
   "execution_count": 37,
   "metadata": {},
   "outputs": [
    {
     "data": {
      "text/plain": [
       "(3703, 5)"
      ]
     },
     "execution_count": 37,
     "metadata": {},
     "output_type": "execute_result"
    }
   ],
   "source": [
    "retweets.shape"
   ]
  },
  {
   "cell_type": "code",
   "execution_count": 38,
   "metadata": {},
   "outputs": [
    {
     "data": {
      "text/plain": [
       "(49525, 5)"
      ]
     },
     "execution_count": 38,
     "metadata": {},
     "output_type": "execute_result"
    }
   ],
   "source": [
    "tweets.shape"
   ]
  },
  {
   "cell_type": "code",
   "execution_count": 39,
   "metadata": {},
   "outputs": [
    {
     "data": {
      "text/plain": [
       "(53228, 5)"
      ]
     },
     "execution_count": 39,
     "metadata": {},
     "output_type": "execute_result"
    }
   ],
   "source": [
    "texts.shape"
   ]
  },
  {
   "cell_type": "code",
   "execution_count": 40,
   "metadata": {},
   "outputs": [
    {
     "data": {
      "text/plain": [
       "Index(['label', 'text', 'created_date', 'created_time', 'is_valid'], dtype='object')"
      ]
     },
     "execution_count": 40,
     "metadata": {},
     "output_type": "execute_result"
    }
   ],
   "source": [
    "texts.columns"
   ]
  },
  {
   "cell_type": "code",
   "execution_count": 55,
   "metadata": {},
   "outputs": [],
   "source": []
  },
  {
   "cell_type": "code",
   "execution_count": 56,
   "metadata": {},
   "outputs": [
    {
     "data": {
      "text/plain": [
       "'So proud to be out on the campaign trail with @realDonaldTrump - thanks for an amazing night #Biloxi #Trump2016 https://t.co…'"
      ]
     },
     "execution_count": 56,
     "metadata": {},
     "output_type": "execute_result"
    }
   ],
   "source": [
    "remove_rt_signature(retweets['text'].iloc[0])"
   ]
  },
  {
   "cell_type": "code",
   "execution_count": 57,
   "metadata": {},
   "outputs": [],
   "source": [
    "\n",
    "\n",
    "texts['text_cleaned'] = texts.apply(lambda row: row['text'] if row['label'] == False \n",
    "                                    else remove_rt_signature(row['text']), axis=1)\n"
   ]
  },
  {
   "cell_type": "code",
   "execution_count": 58,
   "metadata": {},
   "outputs": [
    {
     "data": {
      "text/html": [
       "<div>\n",
       "<style scoped>\n",
       "    .dataframe tbody tr th:only-of-type {\n",
       "        vertical-align: middle;\n",
       "    }\n",
       "\n",
       "    .dataframe tbody tr th {\n",
       "        vertical-align: top;\n",
       "    }\n",
       "\n",
       "    .dataframe thead th {\n",
       "        text-align: right;\n",
       "    }\n",
       "</style>\n",
       "<table border=\"1\" class=\"dataframe\">\n",
       "  <thead>\n",
       "    <tr style=\"text-align: right;\">\n",
       "      <th></th>\n",
       "      <th>label</th>\n",
       "      <th>text</th>\n",
       "      <th>created_date</th>\n",
       "      <th>created_time</th>\n",
       "      <th>is_valid</th>\n",
       "      <th>text_cleaned</th>\n",
       "    </tr>\n",
       "  </thead>\n",
       "  <tbody>\n",
       "    <tr>\n",
       "      <th>0</th>\n",
       "      <td>False</td>\n",
       "      <td>Be sure to tune in and watch Donald Trump on Late Night with David Letterman as he presents the Top Ten List tonight!</td>\n",
       "      <td>2009-05-04</td>\n",
       "      <td>18:54:25</td>\n",
       "      <td>False</td>\n",
       "      <td>Be sure to tune in and watch Donald Trump on Late Night with David Letterman as he presents the Top Ten List tonight!</td>\n",
       "    </tr>\n",
       "    <tr>\n",
       "      <th>1</th>\n",
       "      <td>False</td>\n",
       "      <td>Donald Trump will be appearing on The View tomorrow morning to discuss Celebrity Apprentice and his new book Think Like A Champion!</td>\n",
       "      <td>2009-05-05</td>\n",
       "      <td>01:00:10</td>\n",
       "      <td>False</td>\n",
       "      <td>Donald Trump will be appearing on The View tomorrow morning to discuss Celebrity Apprentice and his new book Think Like A Champion!</td>\n",
       "    </tr>\n",
       "    <tr>\n",
       "      <th>2</th>\n",
       "      <td>False</td>\n",
       "      <td>Donald Trump reads Top Ten Financial Tips on Late Show with David Letterman: http://tinyurl.com/ooafwn - Very funny!</td>\n",
       "      <td>2009-05-08</td>\n",
       "      <td>13:38:08</td>\n",
       "      <td>False</td>\n",
       "      <td>Donald Trump reads Top Ten Financial Tips on Late Show with David Letterman: http://tinyurl.com/ooafwn - Very funny!</td>\n",
       "    </tr>\n",
       "    <tr>\n",
       "      <th>3</th>\n",
       "      <td>False</td>\n",
       "      <td>New Blog Post: Celebrity Apprentice Finale and Lessons Learned Along the Way: http://tinyurl.com/qlux5e</td>\n",
       "      <td>2009-05-08</td>\n",
       "      <td>20:40:15</td>\n",
       "      <td>False</td>\n",
       "      <td>New Blog Post: Celebrity Apprentice Finale and Lessons Learned Along the Way: http://tinyurl.com/qlux5e</td>\n",
       "    </tr>\n",
       "    <tr>\n",
       "      <th>4</th>\n",
       "      <td>False</td>\n",
       "      <td>\"My persona will never be that of a wallflower - I’d rather build walls than cling to them\" --Donald J. Trump</td>\n",
       "      <td>2009-05-12</td>\n",
       "      <td>14:07:28</td>\n",
       "      <td>False</td>\n",
       "      <td>\"My persona will never be that of a wallflower - I’d rather build walls than cling to them\" --Donald J. Trump</td>\n",
       "    </tr>\n",
       "    <tr>\n",
       "      <th>...</th>\n",
       "      <td>...</td>\n",
       "      <td>...</td>\n",
       "      <td>...</td>\n",
       "      <td>...</td>\n",
       "      <td>...</td>\n",
       "      <td>...</td>\n",
       "    </tr>\n",
       "    <tr>\n",
       "      <th>53223</th>\n",
       "      <td>False</td>\n",
       "      <td>Great new book out by @realKTMcFarland, “Revolution: Trump, Washington, and We the People”. Get your copy today! https://t.co/KBkladnmPQ</td>\n",
       "      <td>2020-04-19</td>\n",
       "      <td>00:34:57</td>\n",
       "      <td>True</td>\n",
       "      <td>Great new book out by @realKTMcFarland, “Revolution: Trump, Washington, and We the People”. Get your copy today! https://t.co/KBkladnmPQ</td>\n",
       "    </tr>\n",
       "    <tr>\n",
       "      <th>53224</th>\n",
       "      <td>True</td>\n",
       "      <td>RT @realDonaldTrump: Our GREAT Senator from South Carolina, @SenatorTimScott just released a fantastic new book, “OPPORTUNITY KNOCKS: How H…</td>\n",
       "      <td>2020-04-19</td>\n",
       "      <td>00:35:16</td>\n",
       "      <td>True</td>\n",
       "      <td>Our GREAT Senator from South Carolina, @SenatorTimScott just released a fantastic new book, “OPPORTUNITY KNOCKS: How H…</td>\n",
       "    </tr>\n",
       "    <tr>\n",
       "      <th>53225</th>\n",
       "      <td>True</td>\n",
       "      <td>RT @realDonaldTrump: Great news, thank you!</td>\n",
       "      <td>2020-04-19</td>\n",
       "      <td>02:46:31</td>\n",
       "      <td>True</td>\n",
       "      <td>Great news, thank you!</td>\n",
       "    </tr>\n",
       "    <tr>\n",
       "      <th>53226</th>\n",
       "      <td>True</td>\n",
       "      <td>RT @realDonaldTrump: Thank you @Honeywell, great job!</td>\n",
       "      <td>2020-04-19</td>\n",
       "      <td>02:46:48</td>\n",
       "      <td>True</td>\n",
       "      <td>Thank you @Honeywell, great job!</td>\n",
       "    </tr>\n",
       "    <tr>\n",
       "      <th>53227</th>\n",
       "      <td>False</td>\n",
       "      <td>CONGRATULATIONS @AF_Academy! https://t.co/27HxXLNbd8</td>\n",
       "      <td>2020-04-19</td>\n",
       "      <td>03:23:36</td>\n",
       "      <td>True</td>\n",
       "      <td>CONGRATULATIONS @AF_Academy! https://t.co/27HxXLNbd8</td>\n",
       "    </tr>\n",
       "  </tbody>\n",
       "</table>\n",
       "<p>53228 rows × 6 columns</p>\n",
       "</div>"
      ],
      "text/plain": [
       "       label  \\\n",
       "0      False   \n",
       "1      False   \n",
       "2      False   \n",
       "3      False   \n",
       "4      False   \n",
       "...      ...   \n",
       "53223  False   \n",
       "53224   True   \n",
       "53225   True   \n",
       "53226   True   \n",
       "53227  False   \n",
       "\n",
       "                                                                                                                                               text  \\\n",
       "0                             Be sure to tune in and watch Donald Trump on Late Night with David Letterman as he presents the Top Ten List tonight!   \n",
       "1               Donald Trump will be appearing on The View tomorrow morning to discuss Celebrity Apprentice and his new book Think Like A Champion!   \n",
       "2                              Donald Trump reads Top Ten Financial Tips on Late Show with David Letterman: http://tinyurl.com/ooafwn - Very funny!   \n",
       "3                                           New Blog Post: Celebrity Apprentice Finale and Lessons Learned Along the Way: http://tinyurl.com/qlux5e   \n",
       "4                                     \"My persona will never be that of a wallflower - I’d rather build walls than cling to them\" --Donald J. Trump   \n",
       "...                                                                                                                                             ...   \n",
       "53223      Great new book out by @realKTMcFarland, “Revolution: Trump, Washington, and We the People”. Get your copy today! https://t.co/KBkladnmPQ   \n",
       "53224  RT @realDonaldTrump: Our GREAT Senator from South Carolina, @SenatorTimScott just released a fantastic new book, “OPPORTUNITY KNOCKS: How H…   \n",
       "53225                                                                                                   RT @realDonaldTrump: Great news, thank you!   \n",
       "53226                                                                                         RT @realDonaldTrump: Thank you @Honeywell, great job!   \n",
       "53227                                                                                          CONGRATULATIONS @AF_Academy! https://t.co/27HxXLNbd8   \n",
       "\n",
       "      created_date created_time  is_valid  \\\n",
       "0       2009-05-04     18:54:25     False   \n",
       "1       2009-05-05     01:00:10     False   \n",
       "2       2009-05-08     13:38:08     False   \n",
       "3       2009-05-08     20:40:15     False   \n",
       "4       2009-05-12     14:07:28     False   \n",
       "...            ...          ...       ...   \n",
       "53223   2020-04-19     00:34:57      True   \n",
       "53224   2020-04-19     00:35:16      True   \n",
       "53225   2020-04-19     02:46:31      True   \n",
       "53226   2020-04-19     02:46:48      True   \n",
       "53227   2020-04-19     03:23:36      True   \n",
       "\n",
       "                                                                                                                                   text_cleaned  \n",
       "0                         Be sure to tune in and watch Donald Trump on Late Night with David Letterman as he presents the Top Ten List tonight!  \n",
       "1           Donald Trump will be appearing on The View tomorrow morning to discuss Celebrity Apprentice and his new book Think Like A Champion!  \n",
       "2                          Donald Trump reads Top Ten Financial Tips on Late Show with David Letterman: http://tinyurl.com/ooafwn - Very funny!  \n",
       "3                                       New Blog Post: Celebrity Apprentice Finale and Lessons Learned Along the Way: http://tinyurl.com/qlux5e  \n",
       "4                                 \"My persona will never be that of a wallflower - I’d rather build walls than cling to them\" --Donald J. Trump  \n",
       "...                                                                                                                                         ...  \n",
       "53223  Great new book out by @realKTMcFarland, “Revolution: Trump, Washington, and We the People”. Get your copy today! https://t.co/KBkladnmPQ  \n",
       "53224                   Our GREAT Senator from South Carolina, @SenatorTimScott just released a fantastic new book, “OPPORTUNITY KNOCKS: How H…  \n",
       "53225                                                                                                                    Great news, thank you!  \n",
       "53226                                                                                                          Thank you @Honeywell, great job!  \n",
       "53227                                                                                      CONGRATULATIONS @AF_Academy! https://t.co/27HxXLNbd8  \n",
       "\n",
       "[53228 rows x 6 columns]"
      ]
     },
     "execution_count": 58,
     "metadata": {},
     "output_type": "execute_result"
    }
   ],
   "source": [
    "texts"
   ]
  },
  {
   "cell_type": "code",
   "execution_count": null,
   "metadata": {},
   "outputs": [],
   "source": []
  },
  {
   "cell_type": "code",
   "execution_count": null,
   "metadata": {},
   "outputs": [],
   "source": []
  },
  {
   "cell_type": "code",
   "execution_count": null,
   "metadata": {},
   "outputs": [],
   "source": []
  },
  {
   "cell_type": "code",
   "execution_count": null,
   "metadata": {},
   "outputs": [],
   "source": []
  },
  {
   "cell_type": "code",
   "execution_count": null,
   "metadata": {},
   "outputs": [],
   "source": []
  },
  {
   "cell_type": "code",
   "execution_count": null,
   "metadata": {},
   "outputs": [],
   "source": []
  },
  {
   "cell_type": "code",
   "execution_count": null,
   "metadata": {},
   "outputs": [],
   "source": []
  },
  {
   "cell_type": "code",
   "execution_count": null,
   "metadata": {},
   "outputs": [],
   "source": []
  },
  {
   "cell_type": "code",
   "execution_count": null,
   "metadata": {},
   "outputs": [],
   "source": []
  },
  {
   "cell_type": "code",
   "execution_count": null,
   "metadata": {},
   "outputs": [],
   "source": []
  },
  {
   "cell_type": "code",
   "execution_count": null,
   "metadata": {},
   "outputs": [],
   "source": []
  },
  {
   "cell_type": "code",
   "execution_count": null,
   "metadata": {},
   "outputs": [],
   "source": []
  },
  {
   "cell_type": "code",
   "execution_count": null,
   "metadata": {},
   "outputs": [],
   "source": []
  },
  {
   "cell_type": "code",
   "execution_count": null,
   "metadata": {},
   "outputs": [],
   "source": []
  },
  {
   "cell_type": "code",
   "execution_count": null,
   "metadata": {},
   "outputs": [],
   "source": []
  },
  {
   "cell_type": "code",
   "execution_count": null,
   "metadata": {},
   "outputs": [],
   "source": []
  },
  {
   "cell_type": "code",
   "execution_count": null,
   "metadata": {},
   "outputs": [],
   "source": []
  },
  {
   "cell_type": "code",
   "execution_count": null,
   "metadata": {},
   "outputs": [],
   "source": []
  },
  {
   "cell_type": "code",
   "execution_count": null,
   "metadata": {},
   "outputs": [],
   "source": []
  },
  {
   "cell_type": "code",
   "execution_count": null,
   "metadata": {},
   "outputs": [],
   "source": []
  },
  {
   "cell_type": "code",
   "execution_count": null,
   "metadata": {},
   "outputs": [],
   "source": []
  },
  {
   "cell_type": "code",
   "execution_count": null,
   "metadata": {},
   "outputs": [],
   "source": []
  },
  {
   "cell_type": "code",
   "execution_count": null,
   "metadata": {},
   "outputs": [],
   "source": []
  },
  {
   "cell_type": "code",
   "execution_count": null,
   "metadata": {},
   "outputs": [],
   "source": []
  },
  {
   "cell_type": "code",
   "execution_count": null,
   "metadata": {},
   "outputs": [],
   "source": []
  },
  {
   "cell_type": "code",
   "execution_count": null,
   "metadata": {},
   "outputs": [],
   "source": []
  },
  {
   "cell_type": "code",
   "execution_count": null,
   "metadata": {},
   "outputs": [],
   "source": []
  },
  {
   "cell_type": "code",
   "execution_count": null,
   "metadata": {},
   "outputs": [],
   "source": []
  }
 ],
 "metadata": {
  "kernelspec": {
   "display_name": "Python 3",
   "language": "python",
   "name": "python3"
  },
  "language_info": {
   "codemirror_mode": {
    "name": "ipython",
    "version": 3
   },
   "file_extension": ".py",
   "mimetype": "text/x-python",
   "name": "python",
   "nbconvert_exporter": "python",
   "pygments_lexer": "ipython3",
   "version": "3.7.3"
  }
 },
 "nbformat": 4,
 "nbformat_minor": 4
}
