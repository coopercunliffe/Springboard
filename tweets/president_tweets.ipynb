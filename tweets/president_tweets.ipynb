{
  "nbformat": 4,
  "nbformat_minor": 0,
  "metadata": {
    "colab": {
      "name": "president_tweets.ipynb",
      "provenance": [],
      "collapsed_sections": [],
      "machine_shape": "hm",
      "mount_file_id": "144rXrDJSVEBbl-ag1G_vl7Vcp1clogDb",
      "authorship_tag": "ABX9TyPjrpL+zh1XvfPR5Dp/reUF",
      "include_colab_link": true
    },
    "kernelspec": {
      "name": "python3",
      "display_name": "Python 3"
    },
    "accelerator": "GPU"
  },
  "cells": [
    {
      "cell_type": "markdown",
      "metadata": {
        "id": "view-in-github",
        "colab_type": "text"
      },
      "source": [
        "<a href=\"https://colab.research.google.com/github/coopercunliffe/springboard/blob/master/president_tweets.ipynb\" target=\"_parent\"><img src=\"https://colab.research.google.com/assets/colab-badge.svg\" alt=\"Open In Colab\"/></a>"
      ]
    },
    {
      "cell_type": "code",
      "metadata": {
        "id": "LXnDtKOBcC66",
        "colab_type": "code",
        "colab": {}
      },
      "source": [
        "\n",
        "import pandas as pd\n",
        "import numpy as np\n",
        "import datetime as dt\n",
        "import matplotlib.pyplot as plt\n",
        "import seaborn as sns\n",
        "import random\n",
        "import sys\n",
        "import re\n",
        "from fastai.text import *\n",
        "\n",
        "pd.set_option('display.max_colwidth', 80)\n",
        "\n",
        "random.seed(22)"
      ],
      "execution_count": 0,
      "outputs": []
    },
    {
      "cell_type": "code",
      "metadata": {
        "id": "ayA9ibiZcj5G",
        "colab_type": "code",
        "colab": {}
      },
      "source": [
        "# mount google drive"
      ],
      "execution_count": 0,
      "outputs": []
    },
    {
      "cell_type": "code",
      "metadata": {
        "id": "SSPvlpFwcj7a",
        "colab_type": "code",
        "colab": {}
      },
      "source": [
        "df = pd.read_csv('/content/drive/My Drive/twitter data/tweet_df.csv', lineterminator='\\n', index_col=0)"
      ],
      "execution_count": 0,
      "outputs": []
    },
    {
      "cell_type": "code",
      "metadata": {
        "id": "pZcA6cjJc41L",
        "colab_type": "code",
        "outputId": "1c086b1b-b49a-4d5e-f027-0faa0babbb9c",
        "colab": {
          "base_uri": "https://localhost:8080/",
          "height": 55
        }
      },
      "source": [
        "df.shape"
      ],
      "execution_count": 0,
      "outputs": [
        {
          "output_type": "execute_result",
          "data": {
            "text/plain": [
              "(48151, 28)"
            ]
          },
          "metadata": {
            "tags": []
          },
          "execution_count": 32
        }
      ]
    },
    {
      "cell_type": "code",
      "metadata": {
        "id": "Qq7w3RyFdb12",
        "colab_type": "code",
        "outputId": "5ed93478-7395-4b60-f2d6-3e7fb7607ee4",
        "colab": {
          "base_uri": "https://localhost:8080/",
          "height": 55
        }
      },
      "source": [
        "# trump tweets only, no retweets\n",
        "df = df[df['is_retweet'] == False]\n",
        "df.shape"
      ],
      "execution_count": 0,
      "outputs": [
        {
          "output_type": "execute_result",
          "data": {
            "text/plain": [
              "(41921, 28)"
            ]
          },
          "metadata": {
            "tags": []
          },
          "execution_count": 33
        }
      ]
    },
    {
      "cell_type": "code",
      "metadata": {
        "id": "_u1miH5bdb67",
        "colab_type": "code",
        "outputId": "58c77eb7-f690-4077-bfdd-805dd830b93d",
        "colab": {
          "base_uri": "https://localhost:8080/",
          "height": 868
        }
      },
      "source": [
        "df.head()"
      ],
      "execution_count": 0,
      "outputs": [
        {
          "output_type": "execute_result",
          "data": {
            "text/html": [
              "<div>\n",
              "<style scoped>\n",
              "    .dataframe tbody tr th:only-of-type {\n",
              "        vertical-align: middle;\n",
              "    }\n",
              "\n",
              "    .dataframe tbody tr th {\n",
              "        vertical-align: top;\n",
              "    }\n",
              "\n",
              "    .dataframe thead th {\n",
              "        text-align: right;\n",
              "    }\n",
              "</style>\n",
              "<table border=\"1\" class=\"dataframe\">\n",
              "  <thead>\n",
              "    <tr style=\"text-align: right;\">\n",
              "      <th></th>\n",
              "      <th>source</th>\n",
              "      <th>id_str</th>\n",
              "      <th>text</th>\n",
              "      <th>created_at</th>\n",
              "      <th>retweet_count</th>\n",
              "      <th>in_reply_to_user_id_str</th>\n",
              "      <th>favorite_count</th>\n",
              "      <th>is_retweet</th>\n",
              "      <th>created_date</th>\n",
              "      <th>created_time</th>\n",
              "      <th>created_hour</th>\n",
              "      <th>created_hour_est</th>\n",
              "      <th>is_presidential</th>\n",
              "      <th>is_valid</th>\n",
              "      <th>created_at_Year</th>\n",
              "      <th>created_at_Month</th>\n",
              "      <th>created_at_Week</th>\n",
              "      <th>created_at_Day</th>\n",
              "      <th>created_at_Dayofweek</th>\n",
              "      <th>created_at_Dayofyear</th>\n",
              "      <th>created_at_Is_month_end</th>\n",
              "      <th>created_at_Is_month_start</th>\n",
              "      <th>created_at_Is_quarter_end</th>\n",
              "      <th>created_at_Is_quarter_start</th>\n",
              "      <th>created_at_Is_year_end</th>\n",
              "      <th>created_at_Is_year_start</th>\n",
              "      <th>created_atElapsed</th>\n",
              "      <th>created_at_Dayofweek_str</th>\n",
              "    </tr>\n",
              "  </thead>\n",
              "  <tbody>\n",
              "    <tr>\n",
              "      <th>0</th>\n",
              "      <td>Twitter Web Client</td>\n",
              "      <td>1698308935</td>\n",
              "      <td>Be sure to tune in and watch Donald Trump on Late Night with David Letterman...</td>\n",
              "      <td>2009-05-04 18:54:25+00:00</td>\n",
              "      <td>253</td>\n",
              "      <td>NaN</td>\n",
              "      <td>202</td>\n",
              "      <td>False</td>\n",
              "      <td>2009-05-04</td>\n",
              "      <td>18:54:25</td>\n",
              "      <td>18</td>\n",
              "      <td>14</td>\n",
              "      <td>False</td>\n",
              "      <td>False</td>\n",
              "      <td>2009</td>\n",
              "      <td>5</td>\n",
              "      <td>19</td>\n",
              "      <td>4</td>\n",
              "      <td>0</td>\n",
              "      <td>124</td>\n",
              "      <td>False</td>\n",
              "      <td>False</td>\n",
              "      <td>False</td>\n",
              "      <td>False</td>\n",
              "      <td>False</td>\n",
              "      <td>False</td>\n",
              "      <td>1241463265</td>\n",
              "      <td>Monday</td>\n",
              "    </tr>\n",
              "    <tr>\n",
              "      <th>1</th>\n",
              "      <td>Twitter Web Client</td>\n",
              "      <td>1701461182</td>\n",
              "      <td>Donald Trump will be appearing on The View tomorrow morning to discuss Celeb...</td>\n",
              "      <td>2009-05-05 01:00:10+00:00</td>\n",
              "      <td>2</td>\n",
              "      <td>NaN</td>\n",
              "      <td>3</td>\n",
              "      <td>False</td>\n",
              "      <td>2009-05-05</td>\n",
              "      <td>01:00:10</td>\n",
              "      <td>1</td>\n",
              "      <td>21</td>\n",
              "      <td>False</td>\n",
              "      <td>False</td>\n",
              "      <td>2009</td>\n",
              "      <td>5</td>\n",
              "      <td>19</td>\n",
              "      <td>5</td>\n",
              "      <td>1</td>\n",
              "      <td>125</td>\n",
              "      <td>False</td>\n",
              "      <td>False</td>\n",
              "      <td>False</td>\n",
              "      <td>False</td>\n",
              "      <td>False</td>\n",
              "      <td>False</td>\n",
              "      <td>1241485210</td>\n",
              "      <td>Tuesday</td>\n",
              "    </tr>\n",
              "    <tr>\n",
              "      <th>2</th>\n",
              "      <td>Twitter Web Client</td>\n",
              "      <td>1737479987</td>\n",
              "      <td>Donald Trump reads Top Ten Financial Tips on Late Show with David Letterman:...</td>\n",
              "      <td>2009-05-08 13:38:08+00:00</td>\n",
              "      <td>3</td>\n",
              "      <td>NaN</td>\n",
              "      <td>2</td>\n",
              "      <td>False</td>\n",
              "      <td>2009-05-08</td>\n",
              "      <td>13:38:08</td>\n",
              "      <td>13</td>\n",
              "      <td>9</td>\n",
              "      <td>False</td>\n",
              "      <td>False</td>\n",
              "      <td>2009</td>\n",
              "      <td>5</td>\n",
              "      <td>19</td>\n",
              "      <td>8</td>\n",
              "      <td>4</td>\n",
              "      <td>128</td>\n",
              "      <td>False</td>\n",
              "      <td>False</td>\n",
              "      <td>False</td>\n",
              "      <td>False</td>\n",
              "      <td>False</td>\n",
              "      <td>False</td>\n",
              "      <td>1241789888</td>\n",
              "      <td>Friday</td>\n",
              "    </tr>\n",
              "    <tr>\n",
              "      <th>3</th>\n",
              "      <td>Twitter Web Client</td>\n",
              "      <td>1741160716</td>\n",
              "      <td>New Blog Post: Celebrity Apprentice Finale and Lessons Learned Along the Way...</td>\n",
              "      <td>2009-05-08 20:40:15+00:00</td>\n",
              "      <td>8</td>\n",
              "      <td>NaN</td>\n",
              "      <td>27</td>\n",
              "      <td>False</td>\n",
              "      <td>2009-05-08</td>\n",
              "      <td>20:40:15</td>\n",
              "      <td>20</td>\n",
              "      <td>16</td>\n",
              "      <td>False</td>\n",
              "      <td>False</td>\n",
              "      <td>2009</td>\n",
              "      <td>5</td>\n",
              "      <td>19</td>\n",
              "      <td>8</td>\n",
              "      <td>4</td>\n",
              "      <td>128</td>\n",
              "      <td>False</td>\n",
              "      <td>False</td>\n",
              "      <td>False</td>\n",
              "      <td>False</td>\n",
              "      <td>False</td>\n",
              "      <td>False</td>\n",
              "      <td>1241815215</td>\n",
              "      <td>Friday</td>\n",
              "    </tr>\n",
              "    <tr>\n",
              "      <th>4</th>\n",
              "      <td>Twitter Web Client</td>\n",
              "      <td>1773561338</td>\n",
              "      <td>\"My persona will never be that of a wallflower - I’d rather build walls than...</td>\n",
              "      <td>2009-05-12 14:07:28+00:00</td>\n",
              "      <td>1421</td>\n",
              "      <td>NaN</td>\n",
              "      <td>1950</td>\n",
              "      <td>False</td>\n",
              "      <td>2009-05-12</td>\n",
              "      <td>14:07:28</td>\n",
              "      <td>14</td>\n",
              "      <td>10</td>\n",
              "      <td>False</td>\n",
              "      <td>False</td>\n",
              "      <td>2009</td>\n",
              "      <td>5</td>\n",
              "      <td>20</td>\n",
              "      <td>12</td>\n",
              "      <td>1</td>\n",
              "      <td>132</td>\n",
              "      <td>False</td>\n",
              "      <td>False</td>\n",
              "      <td>False</td>\n",
              "      <td>False</td>\n",
              "      <td>False</td>\n",
              "      <td>False</td>\n",
              "      <td>1242137248</td>\n",
              "      <td>Tuesday</td>\n",
              "    </tr>\n",
              "  </tbody>\n",
              "</table>\n",
              "</div>"
            ],
            "text/plain": [
              "               source      id_str  ... created_atElapsed created_at_Dayofweek_str\n",
              "0  Twitter Web Client  1698308935  ...        1241463265                   Monday\n",
              "1  Twitter Web Client  1701461182  ...        1241485210                  Tuesday\n",
              "2  Twitter Web Client  1737479987  ...        1241789888                   Friday\n",
              "3  Twitter Web Client  1741160716  ...        1241815215                   Friday\n",
              "4  Twitter Web Client  1773561338  ...        1242137248                  Tuesday\n",
              "\n",
              "[5 rows x 28 columns]"
            ]
          },
          "metadata": {
            "tags": []
          },
          "execution_count": 34
        }
      ]
    },
    {
      "cell_type": "code",
      "metadata": {
        "id": "4-dHQb0Jc44v",
        "colab_type": "code",
        "colab": {}
      },
      "source": [
        "# Validation data will start as most recent 20% of the tweets\n",
        "\n",
        "test_size = len(df['is_valid']) // 5 \n",
        "\n",
        "df['is_valid'].iloc[-test_size:] = True    "
      ],
      "execution_count": 0,
      "outputs": []
    },
    {
      "cell_type": "code",
      "metadata": {
        "id": "644x8hElc48N",
        "colab_type": "code",
        "outputId": "9c1bb566-27c5-4f3a-899f-9e7b5a95a803",
        "colab": {
          "base_uri": "https://localhost:8080/",
          "height": 868
        }
      },
      "source": [
        "df.head()"
      ],
      "execution_count": 0,
      "outputs": [
        {
          "output_type": "execute_result",
          "data": {
            "text/html": [
              "<div>\n",
              "<style scoped>\n",
              "    .dataframe tbody tr th:only-of-type {\n",
              "        vertical-align: middle;\n",
              "    }\n",
              "\n",
              "    .dataframe tbody tr th {\n",
              "        vertical-align: top;\n",
              "    }\n",
              "\n",
              "    .dataframe thead th {\n",
              "        text-align: right;\n",
              "    }\n",
              "</style>\n",
              "<table border=\"1\" class=\"dataframe\">\n",
              "  <thead>\n",
              "    <tr style=\"text-align: right;\">\n",
              "      <th></th>\n",
              "      <th>source</th>\n",
              "      <th>id_str</th>\n",
              "      <th>text</th>\n",
              "      <th>created_at</th>\n",
              "      <th>retweet_count</th>\n",
              "      <th>in_reply_to_user_id_str</th>\n",
              "      <th>favorite_count</th>\n",
              "      <th>is_retweet</th>\n",
              "      <th>created_date</th>\n",
              "      <th>created_time</th>\n",
              "      <th>created_hour</th>\n",
              "      <th>created_hour_est</th>\n",
              "      <th>is_presidential</th>\n",
              "      <th>is_valid</th>\n",
              "      <th>created_at_Year</th>\n",
              "      <th>created_at_Month</th>\n",
              "      <th>created_at_Week</th>\n",
              "      <th>created_at_Day</th>\n",
              "      <th>created_at_Dayofweek</th>\n",
              "      <th>created_at_Dayofyear</th>\n",
              "      <th>created_at_Is_month_end</th>\n",
              "      <th>created_at_Is_month_start</th>\n",
              "      <th>created_at_Is_quarter_end</th>\n",
              "      <th>created_at_Is_quarter_start</th>\n",
              "      <th>created_at_Is_year_end</th>\n",
              "      <th>created_at_Is_year_start</th>\n",
              "      <th>created_atElapsed</th>\n",
              "      <th>created_at_Dayofweek_str</th>\n",
              "    </tr>\n",
              "  </thead>\n",
              "  <tbody>\n",
              "    <tr>\n",
              "      <th>0</th>\n",
              "      <td>Twitter Web Client</td>\n",
              "      <td>1698308935</td>\n",
              "      <td>Be sure to tune in and watch Donald Trump on Late Night with David Letterman...</td>\n",
              "      <td>2009-05-04 18:54:25+00:00</td>\n",
              "      <td>253</td>\n",
              "      <td>NaN</td>\n",
              "      <td>202</td>\n",
              "      <td>False</td>\n",
              "      <td>2009-05-04</td>\n",
              "      <td>18:54:25</td>\n",
              "      <td>18</td>\n",
              "      <td>14</td>\n",
              "      <td>False</td>\n",
              "      <td>False</td>\n",
              "      <td>2009</td>\n",
              "      <td>5</td>\n",
              "      <td>19</td>\n",
              "      <td>4</td>\n",
              "      <td>0</td>\n",
              "      <td>124</td>\n",
              "      <td>False</td>\n",
              "      <td>False</td>\n",
              "      <td>False</td>\n",
              "      <td>False</td>\n",
              "      <td>False</td>\n",
              "      <td>False</td>\n",
              "      <td>1241463265</td>\n",
              "      <td>Monday</td>\n",
              "    </tr>\n",
              "    <tr>\n",
              "      <th>1</th>\n",
              "      <td>Twitter Web Client</td>\n",
              "      <td>1701461182</td>\n",
              "      <td>Donald Trump will be appearing on The View tomorrow morning to discuss Celeb...</td>\n",
              "      <td>2009-05-05 01:00:10+00:00</td>\n",
              "      <td>2</td>\n",
              "      <td>NaN</td>\n",
              "      <td>3</td>\n",
              "      <td>False</td>\n",
              "      <td>2009-05-05</td>\n",
              "      <td>01:00:10</td>\n",
              "      <td>1</td>\n",
              "      <td>21</td>\n",
              "      <td>False</td>\n",
              "      <td>False</td>\n",
              "      <td>2009</td>\n",
              "      <td>5</td>\n",
              "      <td>19</td>\n",
              "      <td>5</td>\n",
              "      <td>1</td>\n",
              "      <td>125</td>\n",
              "      <td>False</td>\n",
              "      <td>False</td>\n",
              "      <td>False</td>\n",
              "      <td>False</td>\n",
              "      <td>False</td>\n",
              "      <td>False</td>\n",
              "      <td>1241485210</td>\n",
              "      <td>Tuesday</td>\n",
              "    </tr>\n",
              "    <tr>\n",
              "      <th>2</th>\n",
              "      <td>Twitter Web Client</td>\n",
              "      <td>1737479987</td>\n",
              "      <td>Donald Trump reads Top Ten Financial Tips on Late Show with David Letterman:...</td>\n",
              "      <td>2009-05-08 13:38:08+00:00</td>\n",
              "      <td>3</td>\n",
              "      <td>NaN</td>\n",
              "      <td>2</td>\n",
              "      <td>False</td>\n",
              "      <td>2009-05-08</td>\n",
              "      <td>13:38:08</td>\n",
              "      <td>13</td>\n",
              "      <td>9</td>\n",
              "      <td>False</td>\n",
              "      <td>False</td>\n",
              "      <td>2009</td>\n",
              "      <td>5</td>\n",
              "      <td>19</td>\n",
              "      <td>8</td>\n",
              "      <td>4</td>\n",
              "      <td>128</td>\n",
              "      <td>False</td>\n",
              "      <td>False</td>\n",
              "      <td>False</td>\n",
              "      <td>False</td>\n",
              "      <td>False</td>\n",
              "      <td>False</td>\n",
              "      <td>1241789888</td>\n",
              "      <td>Friday</td>\n",
              "    </tr>\n",
              "    <tr>\n",
              "      <th>3</th>\n",
              "      <td>Twitter Web Client</td>\n",
              "      <td>1741160716</td>\n",
              "      <td>New Blog Post: Celebrity Apprentice Finale and Lessons Learned Along the Way...</td>\n",
              "      <td>2009-05-08 20:40:15+00:00</td>\n",
              "      <td>8</td>\n",
              "      <td>NaN</td>\n",
              "      <td>27</td>\n",
              "      <td>False</td>\n",
              "      <td>2009-05-08</td>\n",
              "      <td>20:40:15</td>\n",
              "      <td>20</td>\n",
              "      <td>16</td>\n",
              "      <td>False</td>\n",
              "      <td>False</td>\n",
              "      <td>2009</td>\n",
              "      <td>5</td>\n",
              "      <td>19</td>\n",
              "      <td>8</td>\n",
              "      <td>4</td>\n",
              "      <td>128</td>\n",
              "      <td>False</td>\n",
              "      <td>False</td>\n",
              "      <td>False</td>\n",
              "      <td>False</td>\n",
              "      <td>False</td>\n",
              "      <td>False</td>\n",
              "      <td>1241815215</td>\n",
              "      <td>Friday</td>\n",
              "    </tr>\n",
              "    <tr>\n",
              "      <th>4</th>\n",
              "      <td>Twitter Web Client</td>\n",
              "      <td>1773561338</td>\n",
              "      <td>\"My persona will never be that of a wallflower - I’d rather build walls than...</td>\n",
              "      <td>2009-05-12 14:07:28+00:00</td>\n",
              "      <td>1421</td>\n",
              "      <td>NaN</td>\n",
              "      <td>1950</td>\n",
              "      <td>False</td>\n",
              "      <td>2009-05-12</td>\n",
              "      <td>14:07:28</td>\n",
              "      <td>14</td>\n",
              "      <td>10</td>\n",
              "      <td>False</td>\n",
              "      <td>False</td>\n",
              "      <td>2009</td>\n",
              "      <td>5</td>\n",
              "      <td>20</td>\n",
              "      <td>12</td>\n",
              "      <td>1</td>\n",
              "      <td>132</td>\n",
              "      <td>False</td>\n",
              "      <td>False</td>\n",
              "      <td>False</td>\n",
              "      <td>False</td>\n",
              "      <td>False</td>\n",
              "      <td>False</td>\n",
              "      <td>1242137248</td>\n",
              "      <td>Tuesday</td>\n",
              "    </tr>\n",
              "  </tbody>\n",
              "</table>\n",
              "</div>"
            ],
            "text/plain": [
              "               source      id_str  ... created_atElapsed created_at_Dayofweek_str\n",
              "0  Twitter Web Client  1698308935  ...        1241463265                   Monday\n",
              "1  Twitter Web Client  1701461182  ...        1241485210                  Tuesday\n",
              "2  Twitter Web Client  1737479987  ...        1241789888                   Friday\n",
              "3  Twitter Web Client  1741160716  ...        1241815215                   Friday\n",
              "4  Twitter Web Client  1773561338  ...        1242137248                  Tuesday\n",
              "\n",
              "[5 rows x 28 columns]"
            ]
          },
          "metadata": {
            "tags": []
          },
          "execution_count": 36
        }
      ]
    },
    {
      "cell_type": "code",
      "metadata": {
        "id": "gsfqisuWhX-A",
        "colab_type": "code",
        "colab": {}
      },
      "source": [
        "# Randnomize which tweets make it into the validation set\n",
        "\n",
        "df['is_valid'] = random.sample(list(df['is_valid']), len(df['is_valid']))"
      ],
      "execution_count": 0,
      "outputs": []
    },
    {
      "cell_type": "code",
      "metadata": {
        "id": "BfYPm1AahYC3",
        "colab_type": "code",
        "outputId": "109853cc-fc7b-48d9-ac36-191575df64ce",
        "colab": {
          "base_uri": "https://localhost:8080/",
          "height": 868
        }
      },
      "source": [
        "df.head()"
      ],
      "execution_count": 0,
      "outputs": [
        {
          "output_type": "execute_result",
          "data": {
            "text/html": [
              "<div>\n",
              "<style scoped>\n",
              "    .dataframe tbody tr th:only-of-type {\n",
              "        vertical-align: middle;\n",
              "    }\n",
              "\n",
              "    .dataframe tbody tr th {\n",
              "        vertical-align: top;\n",
              "    }\n",
              "\n",
              "    .dataframe thead th {\n",
              "        text-align: right;\n",
              "    }\n",
              "</style>\n",
              "<table border=\"1\" class=\"dataframe\">\n",
              "  <thead>\n",
              "    <tr style=\"text-align: right;\">\n",
              "      <th></th>\n",
              "      <th>source</th>\n",
              "      <th>id_str</th>\n",
              "      <th>text</th>\n",
              "      <th>created_at</th>\n",
              "      <th>retweet_count</th>\n",
              "      <th>in_reply_to_user_id_str</th>\n",
              "      <th>favorite_count</th>\n",
              "      <th>is_retweet</th>\n",
              "      <th>created_date</th>\n",
              "      <th>created_time</th>\n",
              "      <th>created_hour</th>\n",
              "      <th>created_hour_est</th>\n",
              "      <th>is_presidential</th>\n",
              "      <th>is_valid</th>\n",
              "      <th>created_at_Year</th>\n",
              "      <th>created_at_Month</th>\n",
              "      <th>created_at_Week</th>\n",
              "      <th>created_at_Day</th>\n",
              "      <th>created_at_Dayofweek</th>\n",
              "      <th>created_at_Dayofyear</th>\n",
              "      <th>created_at_Is_month_end</th>\n",
              "      <th>created_at_Is_month_start</th>\n",
              "      <th>created_at_Is_quarter_end</th>\n",
              "      <th>created_at_Is_quarter_start</th>\n",
              "      <th>created_at_Is_year_end</th>\n",
              "      <th>created_at_Is_year_start</th>\n",
              "      <th>created_atElapsed</th>\n",
              "      <th>created_at_Dayofweek_str</th>\n",
              "    </tr>\n",
              "  </thead>\n",
              "  <tbody>\n",
              "    <tr>\n",
              "      <th>0</th>\n",
              "      <td>Twitter Web Client</td>\n",
              "      <td>1698308935</td>\n",
              "      <td>Be sure to tune in and watch Donald Trump on Late Night with David Letterman...</td>\n",
              "      <td>2009-05-04 18:54:25+00:00</td>\n",
              "      <td>253</td>\n",
              "      <td>NaN</td>\n",
              "      <td>202</td>\n",
              "      <td>False</td>\n",
              "      <td>2009-05-04</td>\n",
              "      <td>18:54:25</td>\n",
              "      <td>18</td>\n",
              "      <td>14</td>\n",
              "      <td>False</td>\n",
              "      <td>False</td>\n",
              "      <td>2009</td>\n",
              "      <td>5</td>\n",
              "      <td>19</td>\n",
              "      <td>4</td>\n",
              "      <td>0</td>\n",
              "      <td>124</td>\n",
              "      <td>False</td>\n",
              "      <td>False</td>\n",
              "      <td>False</td>\n",
              "      <td>False</td>\n",
              "      <td>False</td>\n",
              "      <td>False</td>\n",
              "      <td>1241463265</td>\n",
              "      <td>Monday</td>\n",
              "    </tr>\n",
              "    <tr>\n",
              "      <th>1</th>\n",
              "      <td>Twitter Web Client</td>\n",
              "      <td>1701461182</td>\n",
              "      <td>Donald Trump will be appearing on The View tomorrow morning to discuss Celeb...</td>\n",
              "      <td>2009-05-05 01:00:10+00:00</td>\n",
              "      <td>2</td>\n",
              "      <td>NaN</td>\n",
              "      <td>3</td>\n",
              "      <td>False</td>\n",
              "      <td>2009-05-05</td>\n",
              "      <td>01:00:10</td>\n",
              "      <td>1</td>\n",
              "      <td>21</td>\n",
              "      <td>False</td>\n",
              "      <td>False</td>\n",
              "      <td>2009</td>\n",
              "      <td>5</td>\n",
              "      <td>19</td>\n",
              "      <td>5</td>\n",
              "      <td>1</td>\n",
              "      <td>125</td>\n",
              "      <td>False</td>\n",
              "      <td>False</td>\n",
              "      <td>False</td>\n",
              "      <td>False</td>\n",
              "      <td>False</td>\n",
              "      <td>False</td>\n",
              "      <td>1241485210</td>\n",
              "      <td>Tuesday</td>\n",
              "    </tr>\n",
              "    <tr>\n",
              "      <th>2</th>\n",
              "      <td>Twitter Web Client</td>\n",
              "      <td>1737479987</td>\n",
              "      <td>Donald Trump reads Top Ten Financial Tips on Late Show with David Letterman:...</td>\n",
              "      <td>2009-05-08 13:38:08+00:00</td>\n",
              "      <td>3</td>\n",
              "      <td>NaN</td>\n",
              "      <td>2</td>\n",
              "      <td>False</td>\n",
              "      <td>2009-05-08</td>\n",
              "      <td>13:38:08</td>\n",
              "      <td>13</td>\n",
              "      <td>9</td>\n",
              "      <td>False</td>\n",
              "      <td>False</td>\n",
              "      <td>2009</td>\n",
              "      <td>5</td>\n",
              "      <td>19</td>\n",
              "      <td>8</td>\n",
              "      <td>4</td>\n",
              "      <td>128</td>\n",
              "      <td>False</td>\n",
              "      <td>False</td>\n",
              "      <td>False</td>\n",
              "      <td>False</td>\n",
              "      <td>False</td>\n",
              "      <td>False</td>\n",
              "      <td>1241789888</td>\n",
              "      <td>Friday</td>\n",
              "    </tr>\n",
              "    <tr>\n",
              "      <th>3</th>\n",
              "      <td>Twitter Web Client</td>\n",
              "      <td>1741160716</td>\n",
              "      <td>New Blog Post: Celebrity Apprentice Finale and Lessons Learned Along the Way...</td>\n",
              "      <td>2009-05-08 20:40:15+00:00</td>\n",
              "      <td>8</td>\n",
              "      <td>NaN</td>\n",
              "      <td>27</td>\n",
              "      <td>False</td>\n",
              "      <td>2009-05-08</td>\n",
              "      <td>20:40:15</td>\n",
              "      <td>20</td>\n",
              "      <td>16</td>\n",
              "      <td>False</td>\n",
              "      <td>True</td>\n",
              "      <td>2009</td>\n",
              "      <td>5</td>\n",
              "      <td>19</td>\n",
              "      <td>8</td>\n",
              "      <td>4</td>\n",
              "      <td>128</td>\n",
              "      <td>False</td>\n",
              "      <td>False</td>\n",
              "      <td>False</td>\n",
              "      <td>False</td>\n",
              "      <td>False</td>\n",
              "      <td>False</td>\n",
              "      <td>1241815215</td>\n",
              "      <td>Friday</td>\n",
              "    </tr>\n",
              "    <tr>\n",
              "      <th>4</th>\n",
              "      <td>Twitter Web Client</td>\n",
              "      <td>1773561338</td>\n",
              "      <td>\"My persona will never be that of a wallflower - I’d rather build walls than...</td>\n",
              "      <td>2009-05-12 14:07:28+00:00</td>\n",
              "      <td>1421</td>\n",
              "      <td>NaN</td>\n",
              "      <td>1950</td>\n",
              "      <td>False</td>\n",
              "      <td>2009-05-12</td>\n",
              "      <td>14:07:28</td>\n",
              "      <td>14</td>\n",
              "      <td>10</td>\n",
              "      <td>False</td>\n",
              "      <td>False</td>\n",
              "      <td>2009</td>\n",
              "      <td>5</td>\n",
              "      <td>20</td>\n",
              "      <td>12</td>\n",
              "      <td>1</td>\n",
              "      <td>132</td>\n",
              "      <td>False</td>\n",
              "      <td>False</td>\n",
              "      <td>False</td>\n",
              "      <td>False</td>\n",
              "      <td>False</td>\n",
              "      <td>False</td>\n",
              "      <td>1242137248</td>\n",
              "      <td>Tuesday</td>\n",
              "    </tr>\n",
              "  </tbody>\n",
              "</table>\n",
              "</div>"
            ],
            "text/plain": [
              "               source      id_str  ... created_atElapsed created_at_Dayofweek_str\n",
              "0  Twitter Web Client  1698308935  ...        1241463265                   Monday\n",
              "1  Twitter Web Client  1701461182  ...        1241485210                  Tuesday\n",
              "2  Twitter Web Client  1737479987  ...        1241789888                   Friday\n",
              "3  Twitter Web Client  1741160716  ...        1241815215                   Friday\n",
              "4  Twitter Web Client  1773561338  ...        1242137248                  Tuesday\n",
              "\n",
              "[5 rows x 28 columns]"
            ]
          },
          "metadata": {
            "tags": []
          },
          "execution_count": 38
        }
      ]
    },
    {
      "cell_type": "code",
      "metadata": {
        "id": "aLU4K7scc4_X",
        "colab_type": "code",
        "colab": {}
      },
      "source": [
        "# make df of label, text, is_valid \n",
        "\n",
        "# label will be 'is_night_tweet' (10pm - 6am EST)\n",
        "\n",
        "\n",
        "texts = df[['is_presidential', 'text', 'is_valid']] "
      ],
      "execution_count": 0,
      "outputs": []
    },
    {
      "cell_type": "code",
      "metadata": {
        "id": "OgvOUhl5hYyh",
        "colab_type": "code",
        "colab": {}
      },
      "source": [
        ""
      ],
      "execution_count": 0,
      "outputs": []
    },
    {
      "cell_type": "code",
      "metadata": {
        "id": "OroDgrdOhY3R",
        "colab_type": "code",
        "colab": {}
      },
      "source": [
        ""
      ],
      "execution_count": 0,
      "outputs": []
    },
    {
      "cell_type": "code",
      "metadata": {
        "id": "tcLKNiB5c5Ck",
        "colab_type": "code",
        "colab": {}
      },
      "source": [
        "texts = texts.rename(columns={'is_presidential':'label'})"
      ],
      "execution_count": 0,
      "outputs": []
    },
    {
      "cell_type": "code",
      "metadata": {
        "id": "R_ipFIv7c5Fq",
        "colab_type": "code",
        "outputId": "a61409ec-a8eb-42e5-8eb2-7d5cbad7f8b2",
        "colab": {
          "base_uri": "https://localhost:8080/",
          "height": 55
        }
      },
      "source": [
        "texts[texts['label'] == True].shape"
      ],
      "execution_count": 0,
      "outputs": [
        {
          "output_type": "execute_result",
          "data": {
            "text/plain": [
              "(11785, 3)"
            ]
          },
          "metadata": {
            "tags": []
          },
          "execution_count": 42
        }
      ]
    },
    {
      "cell_type": "code",
      "metadata": {
        "id": "rdvOgF5Lf2dF",
        "colab_type": "code",
        "outputId": "82fab0fc-0fb1-4905-829f-a3012dc4ce5e",
        "colab": {
          "base_uri": "https://localhost:8080/",
          "height": 55
        }
      },
      "source": [
        "texts[texts['label'] == False].shape"
      ],
      "execution_count": 0,
      "outputs": [
        {
          "output_type": "execute_result",
          "data": {
            "text/plain": [
              "(30136, 3)"
            ]
          },
          "metadata": {
            "tags": []
          },
          "execution_count": 43
        }
      ]
    },
    {
      "cell_type": "code",
      "metadata": {
        "id": "5zSzI0JngSRC",
        "colab_type": "code",
        "outputId": "97b92afd-e971-4133-8c6f-31fe34c9a0b3",
        "colab": {
          "base_uri": "https://localhost:8080/",
          "height": 226
        }
      },
      "source": [
        "texts.head()"
      ],
      "execution_count": 0,
      "outputs": [
        {
          "output_type": "execute_result",
          "data": {
            "text/html": [
              "<div>\n",
              "<style scoped>\n",
              "    .dataframe tbody tr th:only-of-type {\n",
              "        vertical-align: middle;\n",
              "    }\n",
              "\n",
              "    .dataframe tbody tr th {\n",
              "        vertical-align: top;\n",
              "    }\n",
              "\n",
              "    .dataframe thead th {\n",
              "        text-align: right;\n",
              "    }\n",
              "</style>\n",
              "<table border=\"1\" class=\"dataframe\">\n",
              "  <thead>\n",
              "    <tr style=\"text-align: right;\">\n",
              "      <th></th>\n",
              "      <th>label</th>\n",
              "      <th>text</th>\n",
              "      <th>is_valid</th>\n",
              "    </tr>\n",
              "  </thead>\n",
              "  <tbody>\n",
              "    <tr>\n",
              "      <th>0</th>\n",
              "      <td>False</td>\n",
              "      <td>Be sure to tune in and watch Donald Trump on Late Night with David Letterman...</td>\n",
              "      <td>False</td>\n",
              "    </tr>\n",
              "    <tr>\n",
              "      <th>1</th>\n",
              "      <td>False</td>\n",
              "      <td>Donald Trump will be appearing on The View tomorrow morning to discuss Celeb...</td>\n",
              "      <td>False</td>\n",
              "    </tr>\n",
              "    <tr>\n",
              "      <th>2</th>\n",
              "      <td>False</td>\n",
              "      <td>Donald Trump reads Top Ten Financial Tips on Late Show with David Letterman:...</td>\n",
              "      <td>False</td>\n",
              "    </tr>\n",
              "    <tr>\n",
              "      <th>3</th>\n",
              "      <td>False</td>\n",
              "      <td>New Blog Post: Celebrity Apprentice Finale and Lessons Learned Along the Way...</td>\n",
              "      <td>True</td>\n",
              "    </tr>\n",
              "    <tr>\n",
              "      <th>4</th>\n",
              "      <td>False</td>\n",
              "      <td>\"My persona will never be that of a wallflower - I’d rather build walls than...</td>\n",
              "      <td>False</td>\n",
              "    </tr>\n",
              "  </tbody>\n",
              "</table>\n",
              "</div>"
            ],
            "text/plain": [
              "   label  ... is_valid\n",
              "0  False  ...    False\n",
              "1  False  ...    False\n",
              "2  False  ...    False\n",
              "3  False  ...     True\n",
              "4  False  ...    False\n",
              "\n",
              "[5 rows x 3 columns]"
            ]
          },
          "metadata": {
            "tags": []
          },
          "execution_count": 44
        }
      ]
    },
    {
      "cell_type": "code",
      "metadata": {
        "id": "yzvVL-abgSXt",
        "colab_type": "code",
        "colab": {}
      },
      "source": [
        "# Ramdomize the rows to destroy any temporal information\n",
        "\n",
        "texts = texts.sample(frac=1)"
      ],
      "execution_count": 0,
      "outputs": []
    },
    {
      "cell_type": "code",
      "metadata": {
        "id": "Cluq2cojgSd_",
        "colab_type": "code",
        "colab": {}
      },
      "source": [
        "texts = texts.reset_index(drop=True)"
      ],
      "execution_count": 0,
      "outputs": []
    },
    {
      "cell_type": "code",
      "metadata": {
        "id": "QJSH4JLSjpJW",
        "colab_type": "code",
        "outputId": "ea729020-a934-41c1-88bb-4b58796893c7",
        "colab": {
          "base_uri": "https://localhost:8080/",
          "height": 226
        }
      },
      "source": [
        "texts.head()"
      ],
      "execution_count": 0,
      "outputs": [
        {
          "output_type": "execute_result",
          "data": {
            "text/html": [
              "<div>\n",
              "<style scoped>\n",
              "    .dataframe tbody tr th:only-of-type {\n",
              "        vertical-align: middle;\n",
              "    }\n",
              "\n",
              "    .dataframe tbody tr th {\n",
              "        vertical-align: top;\n",
              "    }\n",
              "\n",
              "    .dataframe thead th {\n",
              "        text-align: right;\n",
              "    }\n",
              "</style>\n",
              "<table border=\"1\" class=\"dataframe\">\n",
              "  <thead>\n",
              "    <tr style=\"text-align: right;\">\n",
              "      <th></th>\n",
              "      <th>label</th>\n",
              "      <th>text</th>\n",
              "      <th>is_valid</th>\n",
              "    </tr>\n",
              "  </thead>\n",
              "  <tbody>\n",
              "    <tr>\n",
              "      <th>0</th>\n",
              "      <td>False</td>\n",
              "      <td>Reminder: The Miss Universe competition will be LIVE from the Bahamas - Toni...</td>\n",
              "      <td>False</td>\n",
              "    </tr>\n",
              "    <tr>\n",
              "      <th>1</th>\n",
              "      <td>False</td>\n",
              "      <td>@KathyLooper Thanks.</td>\n",
              "      <td>False</td>\n",
              "    </tr>\n",
              "    <tr>\n",
              "      <th>2</th>\n",
              "      <td>False</td>\n",
              "      <td>\"@andrezakar: @realDonaldTrump just bought a Trump series mattress.... Aweso...</td>\n",
              "      <td>False</td>\n",
              "    </tr>\n",
              "    <tr>\n",
              "      <th>3</th>\n",
              "      <td>False</td>\n",
              "      <td>My appearance this morning on Good Morning America...\\nhttp://t.co/7qrilC0x</td>\n",
              "      <td>False</td>\n",
              "    </tr>\n",
              "    <tr>\n",
              "      <th>4</th>\n",
              "      <td>False</td>\n",
              "      <td>\"@00RSTW00: Most brilliant casting in the history of TV: Gilbert Gottfried o...</td>\n",
              "      <td>False</td>\n",
              "    </tr>\n",
              "  </tbody>\n",
              "</table>\n",
              "</div>"
            ],
            "text/plain": [
              "   label  ... is_valid\n",
              "0  False  ...    False\n",
              "1  False  ...    False\n",
              "2  False  ...    False\n",
              "3  False  ...    False\n",
              "4  False  ...    False\n",
              "\n",
              "[5 rows x 3 columns]"
            ]
          },
          "metadata": {
            "tags": []
          },
          "execution_count": 47
        }
      ]
    },
    {
      "cell_type": "code",
      "metadata": {
        "id": "_U60EquPc5JD",
        "colab_type": "code",
        "colab": {}
      },
      "source": [
        "# Separate the training and validation data\n",
        "\n",
        "path = Path('/content/drive/My Drive') \n",
        "\n",
        "train_df, valid_df = texts[texts['is_valid'] == True], texts[texts['is_valid'] == False]\n"
      ],
      "execution_count": 0,
      "outputs": []
    },
    {
      "cell_type": "code",
      "metadata": {
        "id": "zMYu2kZDc5Mj",
        "colab_type": "code",
        "outputId": "8fdb8360-4b56-4a8b-f176-54590da30a81",
        "colab": {
          "base_uri": "https://localhost:8080/",
          "height": 38
        }
      },
      "source": [
        "# create data bunches\n",
        "\n",
        "data_lm = TextLMDataBunch.from_df(path, train_df, valid_df, text_cols=1, bs=32)\n",
        "# DOES THIS COMBINE THE TRAINING AND VALDIATION DATA AUTOMATICALLY TO CREATE THE LANGUAGE MODEL?\n",
        "\n",
        "data_clas = TextClasDataBunch.from_df(path, train_df, valid_df, text_cols=1, label_cols=0, bs=32)\n",
        "# TextClasDataBunch has a test_df parameter as well... what is that for?"
      ],
      "execution_count": 0,
      "outputs": [
        {
          "output_type": "display_data",
          "data": {
            "text/html": [
              ""
            ],
            "text/plain": [
              "<IPython.core.display.HTML object>"
            ]
          },
          "metadata": {
            "tags": []
          }
        },
        {
          "output_type": "display_data",
          "data": {
            "text/html": [
              ""
            ],
            "text/plain": [
              "<IPython.core.display.HTML object>"
            ]
          },
          "metadata": {
            "tags": []
          }
        },
        {
          "output_type": "display_data",
          "data": {
            "text/html": [
              ""
            ],
            "text/plain": [
              "<IPython.core.display.HTML object>"
            ]
          },
          "metadata": {
            "tags": []
          }
        },
        {
          "output_type": "display_data",
          "data": {
            "text/html": [
              ""
            ],
            "text/plain": [
              "<IPython.core.display.HTML object>"
            ]
          },
          "metadata": {
            "tags": []
          }
        }
      ]
    },
    {
      "cell_type": "code",
      "metadata": {
        "id": "KW0WIlu1c5Pp",
        "colab_type": "code",
        "colab": {}
      },
      "source": [
        "# data_lm.show_batch()\n",
        "# data_clas.show_batch()"
      ],
      "execution_count": 0,
      "outputs": []
    },
    {
      "cell_type": "code",
      "metadata": {
        "id": "voKbFD8Dc5Tg",
        "colab_type": "code",
        "colab": {}
      },
      "source": [
        "data_lm.save('data_lm_export.pkl')\n",
        "data_clas.save('data_clas_export.pkl')"
      ],
      "execution_count": 0,
      "outputs": []
    },
    {
      "cell_type": "code",
      "metadata": {
        "id": "vHUW6nWMc5XR",
        "colab_type": "code",
        "colab": {}
      },
      "source": [
        "data_lm = load_data(path, 'data_lm_export.pkl')\n",
        "data_clas = load_data(path, 'data_clas_export.pkl', bs=32)"
      ],
      "execution_count": 0,
      "outputs": []
    },
    {
      "cell_type": "code",
      "metadata": {
        "id": "nPEaMrnTc5ah",
        "colab_type": "code",
        "outputId": "f98e147b-b406-419b-8bc5-4bc74f176b01",
        "colab": {
          "base_uri": "https://localhost:8080/",
          "height": 55
        }
      },
      "source": [
        "# Train a language model\n",
        "\n",
        "learn = language_model_learner(data_lm, AWD_LSTM, drop_mult=0.5)"
      ],
      "execution_count": 0,
      "outputs": [
        {
          "output_type": "stream",
          "text": [
            "Downloading https://s3.amazonaws.com/fast-ai-modelzoo/wt103-fwd.tgz\n"
          ],
          "name": "stdout"
        },
        {
          "output_type": "display_data",
          "data": {
            "text/html": [
              ""
            ],
            "text/plain": [
              "<IPython.core.display.HTML object>"
            ]
          },
          "metadata": {
            "tags": []
          }
        }
      ]
    },
    {
      "cell_type": "code",
      "metadata": {
        "id": "TuAOKedncj9j",
        "colab_type": "code",
        "outputId": "85a16964-fdad-4064-9d78-8591e8306706",
        "colab": {
          "base_uri": "https://localhost:8080/",
          "height": 164
        }
      },
      "source": [
        "learn.lr_find()"
      ],
      "execution_count": 0,
      "outputs": [
        {
          "output_type": "display_data",
          "data": {
            "text/html": [
              "\n",
              "    <div>\n",
              "        <style>\n",
              "            /* Turns off some styling */\n",
              "            progress {\n",
              "                /* gets rid of default border in Firefox and Opera. */\n",
              "                border: none;\n",
              "                /* Needs to be in here for Safari polyfill so background images work as expected. */\n",
              "                background-size: auto;\n",
              "            }\n",
              "            .progress-bar-interrupted, .progress-bar-interrupted::-webkit-progress-bar {\n",
              "                background: #F44336;\n",
              "            }\n",
              "        </style>\n",
              "      <progress value='1' class='' max='2' style='width:300px; height:20px; vertical-align: middle;'></progress>\n",
              "      50.00% [1/2 00:06<00:06]\n",
              "    </div>\n",
              "    \n",
              "<table border=\"1\" class=\"dataframe\">\n",
              "  <thead>\n",
              "    <tr style=\"text-align: left;\">\n",
              "      <th>epoch</th>\n",
              "      <th>train_loss</th>\n",
              "      <th>valid_loss</th>\n",
              "      <th>accuracy</th>\n",
              "      <th>time</th>\n",
              "    </tr>\n",
              "  </thead>\n",
              "  <tbody>\n",
              "    <tr>\n",
              "      <td>0</td>\n",
              "      <td>5.377785</td>\n",
              "      <td>#na#</td>\n",
              "      <td>00:06</td>\n",
              "    </tr>\n",
              "  </tbody>\n",
              "</table><p>\n",
              "\n",
              "    <div>\n",
              "        <style>\n",
              "            /* Turns off some styling */\n",
              "            progress {\n",
              "                /* gets rid of default border in Firefox and Opera. */\n",
              "                border: none;\n",
              "                /* Needs to be in here for Safari polyfill so background images work as expected. */\n",
              "                background-size: auto;\n",
              "            }\n",
              "            .progress-bar-interrupted, .progress-bar-interrupted::-webkit-progress-bar {\n",
              "                background: #F44336;\n",
              "            }\n",
              "        </style>\n",
              "      <progress value='39' class='' max='60' style='width:300px; height:20px; vertical-align: middle;'></progress>\n",
              "      65.00% [39/60 00:03<00:02 9.3991]\n",
              "    </div>\n",
              "    "
            ],
            "text/plain": [
              "<IPython.core.display.HTML object>"
            ]
          },
          "metadata": {
            "tags": []
          }
        },
        {
          "output_type": "stream",
          "text": [
            "LR Finder is complete, type {learner_name}.recorder.plot() to see the graph.\n"
          ],
          "name": "stdout"
        }
      ]
    },
    {
      "cell_type": "code",
      "metadata": {
        "id": "I7FZee1Fcj_m",
        "colab_type": "code",
        "outputId": "de17d661-1d03-4de9-cacd-089e502d175f",
        "colab": {
          "base_uri": "https://localhost:8080/",
          "height": 300
        }
      },
      "source": [
        "learn.recorder.plot(skip_end=15)"
      ],
      "execution_count": 0,
      "outputs": [
        {
          "output_type": "display_data",
          "data": {
            "image/png": "[encoded data removed]",
            "text/plain": [
              "<Figure size 432x288 with 1 Axes>"
            ]
          },
          "metadata": {
            "tags": [],
            "needs_background": "light"
          }
        }
      ]
    },
    {
      "cell_type": "code",
      "metadata": {
        "id": "toN69gZ3ckBy",
        "colab_type": "code",
        "outputId": "cdde50da-40fa-406b-93b0-4e4dd49c799c",
        "colab": {
          "base_uri": "https://localhost:8080/",
          "height": 101
        }
      },
      "source": [
        "learn.fit_one_cycle(1, 1e-2) # one time through without last layer"
      ],
      "execution_count": 0,
      "outputs": [
        {
          "output_type": "display_data",
          "data": {
            "text/html": [
              "<table border=\"1\" class=\"dataframe\">\n",
              "  <thead>\n",
              "    <tr style=\"text-align: left;\">\n",
              "      <th>epoch</th>\n",
              "      <th>train_loss</th>\n",
              "      <th>valid_loss</th>\n",
              "      <th>accuracy</th>\n",
              "      <th>time</th>\n",
              "    </tr>\n",
              "  </thead>\n",
              "  <tbody>\n",
              "    <tr>\n",
              "      <td>0</td>\n",
              "      <td>4.293864</td>\n",
              "      <td>3.692625</td>\n",
              "      <td>0.318805</td>\n",
              "      <td>00:16</td>\n",
              "    </tr>\n",
              "  </tbody>\n",
              "</table>"
            ],
            "text/plain": [
              "<IPython.core.display.HTML object>"
            ]
          },
          "metadata": {
            "tags": []
          }
        }
      ]
    },
    {
      "cell_type": "code",
      "metadata": {
        "id": "nTSJXtx4ckEF",
        "colab_type": "code",
        "outputId": "c8a3d01d-29a3-432c-8969-48e2c70d57f1",
        "colab": {
          "base_uri": "https://localhost:8080/",
          "height": 101
        }
      },
      "source": [
        "learn.unfreeze() # train full network\n",
        "learn.fit_one_cycle(1, 1e-3) # low learning rate stops weights from changing too much (10x smaller)"
      ],
      "execution_count": 0,
      "outputs": [
        {
          "output_type": "display_data",
          "data": {
            "text/html": [
              "<table border=\"1\" class=\"dataframe\">\n",
              "  <thead>\n",
              "    <tr style=\"text-align: left;\">\n",
              "      <th>epoch</th>\n",
              "      <th>train_loss</th>\n",
              "      <th>valid_loss</th>\n",
              "      <th>accuracy</th>\n",
              "      <th>time</th>\n",
              "    </tr>\n",
              "  </thead>\n",
              "  <tbody>\n",
              "    <tr>\n",
              "      <td>0</td>\n",
              "      <td>3.518147</td>\n",
              "      <td>3.349374</td>\n",
              "      <td>0.367283</td>\n",
              "      <td>00:17</td>\n",
              "    </tr>\n",
              "  </tbody>\n",
              "</table>"
            ],
            "text/plain": [
              "<IPython.core.display.HTML object>"
            ]
          },
          "metadata": {
            "tags": []
          }
        }
      ]
    },
    {
      "cell_type": "code",
      "metadata": {
        "id": "qCsQXR35ckGu",
        "colab_type": "code",
        "outputId": "d1cf08d7-a4b8-4c08-8db5-2448021c33ce",
        "colab": {
          "base_uri": "https://localhost:8080/",
          "height": 55
        }
      },
      "source": [
        "learn.predict(\"I am ready for the great\", n_words=15)"
      ],
      "execution_count": 0,
      "outputs": [
        {
          "output_type": "execute_result",
          "data": {
            "text/plain": [
              "'I am ready for the great Guests of Heart involved in Rubio or Cruz missing some beautiful'"
            ]
          },
          "metadata": {
            "tags": []
          },
          "execution_count": 58
        }
      ]
    },
    {
      "cell_type": "code",
      "metadata": {
        "id": "cvpF4MgfckJT",
        "colab_type": "code",
        "colab": {}
      },
      "source": [
        "learn.save_encoder('ft_enc')"
      ],
      "execution_count": 0,
      "outputs": []
    },
    {
      "cell_type": "code",
      "metadata": {
        "id": "M5IyonfTckLx",
        "colab_type": "code",
        "outputId": "e652cd66-c23e-454d-87e9-95dcd3328f36",
        "colab": {
          "base_uri": "https://localhost:8080/",
          "height": 1000
        }
      },
      "source": [
        "# Train a classifier\n",
        "\n",
        "learn = text_classifier_learner(data_clas, AWD_LSTM, drop_mult=0.5)\n",
        "learn.load_encoder('ft_enc')"
      ],
      "execution_count": 0,
      "outputs": [
        {
          "output_type": "execute_result",
          "data": {
            "text/plain": [
              "RNNLearner(data=TextClasDataBunch;\n",
              "\n",
              "Train: LabelList (8384 items)\n",
              "x: TextList\n",
              "xxbos \" @meenah83 : @realdonaldtrump .. xxmaj ca n't wait for you to be president of the xxmaj united xxmaj state .. \" xxunk what a great country it would be !,xxbos xxmaj louisiana , i ’ll see you tonight . xxmaj big xxmaj rally for xxmaj eddie xxup r. xxmaj he will be a xxup great xxup governor . xxmaj early voting starts ! @eddierispone,xxbos xxmaj the failing @nytimes has become a newspaper of fiction . xxmaj their stories about me always quote non - existent unnamed sources . xxmaj very dishonest !,xxbos xxmaj china is buying gas fields in xxmaj texas http : / / t.co / xxunk & & stealing our corporate secrets ...,xxbos \" xxunk : @realdonaldtrump i registered to vote yesterday when renewing my driver license . # xxmaj trump2016 \"\n",
              "y: CategoryList\n",
              "False,True,False,False,False\n",
              "Path: /content/drive/My Drive;\n",
              "\n",
              "Valid: LabelList (33537 items)\n",
              "x: TextList\n",
              "xxbos xxmaj xxunk : xxmaj the xxmaj miss xxmaj universe competition will be xxup live from the xxmaj xxunk - xxmaj tonight @ 9 pm ( xxup est ) on xxup nbc : http : / / tinyurl.com / xxunk,xxbos xxunk xxmaj thanks .,xxbos \" xxunk : @realdonaldtrump just bought a xxmaj trump series mattress xxrep 4 . xxmaj awesome and exactly what you expect from xxmaj trump . \" xxmaj thanks,xxbos xxmaj my appearance this morning on xxmaj good xxmaj morning xxmaj america ... \n",
              "  http : / / t.co / xxunk,xxbos \" xxup xxunk : xxmaj most brilliant xxunk in the history of xxup tv : xxmaj xxunk xxmaj xxunk on xxmaj celebrity xxmaj apprentice . @realdonaldtrump \"\n",
              "y: CategoryList\n",
              "False,False,False,False,False\n",
              "Path: /content/drive/My Drive;\n",
              "\n",
              "Test: None, model=SequentialRNN(\n",
              "  (0): MultiBatchEncoder(\n",
              "    (module): AWD_LSTM(\n",
              "      (encoder): Embedding(6720, 400, padding_idx=1)\n",
              "      (encoder_dp): EmbeddingDropout(\n",
              "        (emb): Embedding(6720, 400, padding_idx=1)\n",
              "      )\n",
              "      (rnns): ModuleList(\n",
              "        (0): WeightDropout(\n",
              "          (module): LSTM(400, 1152, batch_first=True)\n",
              "        )\n",
              "        (1): WeightDropout(\n",
              "          (module): LSTM(1152, 1152, batch_first=True)\n",
              "        )\n",
              "        (2): WeightDropout(\n",
              "          (module): LSTM(1152, 400, batch_first=True)\n",
              "        )\n",
              "      )\n",
              "      (input_dp): RNNDropout()\n",
              "      (hidden_dps): ModuleList(\n",
              "        (0): RNNDropout()\n",
              "        (1): RNNDropout()\n",
              "        (2): RNNDropout()\n",
              "      )\n",
              "    )\n",
              "  )\n",
              "  (1): PoolingLinearClassifier(\n",
              "    (layers): Sequential(\n",
              "      (0): BatchNorm1d(1200, eps=1e-05, momentum=0.1, affine=True, track_running_stats=True)\n",
              "      (1): Dropout(p=0.2, inplace=False)\n",
              "      (2): Linear(in_features=1200, out_features=50, bias=True)\n",
              "      (3): ReLU(inplace=True)\n",
              "      (4): BatchNorm1d(50, eps=1e-05, momentum=0.1, affine=True, track_running_stats=True)\n",
              "      (5): Dropout(p=0.1, inplace=False)\n",
              "      (6): Linear(in_features=50, out_features=2, bias=True)\n",
              "    )\n",
              "  )\n",
              "), opt_func=functools.partial(<class 'torch.optim.adam.Adam'>, betas=(0.9, 0.99)), loss_func=FlattenedLoss of CrossEntropyLoss(), metrics=[<function accuracy at 0x7fa7d6092510>], true_wd=True, bn_wd=True, wd=0.01, train_bn=True, path=PosixPath('/content/drive/My Drive'), model_dir='models', callback_fns=[functools.partial(<class 'fastai.basic_train.Recorder'>, add_time=True, silent=False)], callbacks=[RNNTrainer\n",
              "learn: RNNLearner(data=TextClasDataBunch;\n",
              "\n",
              "Train: LabelList (8384 items)\n",
              "x: TextList\n",
              "xxbos \" @meenah83 : @realdonaldtrump .. xxmaj ca n't wait for you to be president of the xxmaj united xxmaj state .. \" xxunk what a great country it would be !,xxbos xxmaj louisiana , i ’ll see you tonight . xxmaj big xxmaj rally for xxmaj eddie xxup r. xxmaj he will be a xxup great xxup governor . xxmaj early voting starts ! @eddierispone,xxbos xxmaj the failing @nytimes has become a newspaper of fiction . xxmaj their stories about me always quote non - existent unnamed sources . xxmaj very dishonest !,xxbos xxmaj china is buying gas fields in xxmaj texas http : / / t.co / xxunk & & stealing our corporate secrets ...,xxbos \" xxunk : @realdonaldtrump i registered to vote yesterday when renewing my driver license . # xxmaj trump2016 \"\n",
              "y: CategoryList\n",
              "False,True,False,False,False\n",
              "Path: /content/drive/My Drive;\n",
              "\n",
              "Valid: LabelList (33537 items)\n",
              "x: TextList\n",
              "xxbos xxmaj xxunk : xxmaj the xxmaj miss xxmaj universe competition will be xxup live from the xxmaj xxunk - xxmaj tonight @ 9 pm ( xxup est ) on xxup nbc : http : / / tinyurl.com / xxunk,xxbos xxunk xxmaj thanks .,xxbos \" xxunk : @realdonaldtrump just bought a xxmaj trump series mattress xxrep 4 . xxmaj awesome and exactly what you expect from xxmaj trump . \" xxmaj thanks,xxbos xxmaj my appearance this morning on xxmaj good xxmaj morning xxmaj america ... \n",
              "  http : / / t.co / xxunk,xxbos \" xxup xxunk : xxmaj most brilliant xxunk in the history of xxup tv : xxmaj xxunk xxmaj xxunk on xxmaj celebrity xxmaj apprentice . @realdonaldtrump \"\n",
              "y: CategoryList\n",
              "False,False,False,False,False\n",
              "Path: /content/drive/My Drive;\n",
              "\n",
              "Test: None, model=SequentialRNN(\n",
              "  (0): MultiBatchEncoder(\n",
              "    (module): AWD_LSTM(\n",
              "      (encoder): Embedding(6720, 400, padding_idx=1)\n",
              "      (encoder_dp): EmbeddingDropout(\n",
              "        (emb): Embedding(6720, 400, padding_idx=1)\n",
              "      )\n",
              "      (rnns): ModuleList(\n",
              "        (0): WeightDropout(\n",
              "          (module): LSTM(400, 1152, batch_first=True)\n",
              "        )\n",
              "        (1): WeightDropout(\n",
              "          (module): LSTM(1152, 1152, batch_first=True)\n",
              "        )\n",
              "        (2): WeightDropout(\n",
              "          (module): LSTM(1152, 400, batch_first=True)\n",
              "        )\n",
              "      )\n",
              "      (input_dp): RNNDropout()\n",
              "      (hidden_dps): ModuleList(\n",
              "        (0): RNNDropout()\n",
              "        (1): RNNDropout()\n",
              "        (2): RNNDropout()\n",
              "      )\n",
              "    )\n",
              "  )\n",
              "  (1): PoolingLinearClassifier(\n",
              "    (layers): Sequential(\n",
              "      (0): BatchNorm1d(1200, eps=1e-05, momentum=0.1, affine=True, track_running_stats=True)\n",
              "      (1): Dropout(p=0.2, inplace=False)\n",
              "      (2): Linear(in_features=1200, out_features=50, bias=True)\n",
              "      (3): ReLU(inplace=True)\n",
              "      (4): BatchNorm1d(50, eps=1e-05, momentum=0.1, affine=True, track_running_stats=True)\n",
              "      (5): Dropout(p=0.1, inplace=False)\n",
              "      (6): Linear(in_features=50, out_features=2, bias=True)\n",
              "    )\n",
              "  )\n",
              "), opt_func=functools.partial(<class 'torch.optim.adam.Adam'>, betas=(0.9, 0.99)), loss_func=FlattenedLoss of CrossEntropyLoss(), metrics=[<function accuracy at 0x7fa7d6092510>], true_wd=True, bn_wd=True, wd=0.01, train_bn=True, path=PosixPath('/content/drive/My Drive'), model_dir='models', callback_fns=[functools.partial(<class 'fastai.basic_train.Recorder'>, add_time=True, silent=False)], callbacks=[...], layer_groups=[Sequential(\n",
              "  (0): Embedding(6720, 400, padding_idx=1)\n",
              "  (1): EmbeddingDropout(\n",
              "    (emb): Embedding(6720, 400, padding_idx=1)\n",
              "  )\n",
              "), Sequential(\n",
              "  (0): WeightDropout(\n",
              "    (module): LSTM(400, 1152, batch_first=True)\n",
              "  )\n",
              "  (1): RNNDropout()\n",
              "), Sequential(\n",
              "  (0): WeightDropout(\n",
              "    (module): LSTM(1152, 1152, batch_first=True)\n",
              "  )\n",
              "  (1): RNNDropout()\n",
              "), Sequential(\n",
              "  (0): WeightDropout(\n",
              "    (module): LSTM(1152, 400, batch_first=True)\n",
              "  )\n",
              "  (1): RNNDropout()\n",
              "), Sequential(\n",
              "  (0): PoolingLinearClassifier(\n",
              "    (layers): Sequential(\n",
              "      (0): BatchNorm1d(1200, eps=1e-05, momentum=0.1, affine=True, track_running_stats=True)\n",
              "      (1): Dropout(p=0.2, inplace=False)\n",
              "      (2): Linear(in_features=1200, out_features=50, bias=True)\n",
              "      (3): ReLU(inplace=True)\n",
              "      (4): BatchNorm1d(50, eps=1e-05, momentum=0.1, affine=True, track_running_stats=True)\n",
              "      (5): Dropout(p=0.1, inplace=False)\n",
              "      (6): Linear(in_features=50, out_features=2, bias=True)\n",
              "    )\n",
              "  )\n",
              ")], add_time=True, silent=False)\n",
              "alpha: 2.0\n",
              "beta: 1.0], layer_groups=[Sequential(\n",
              "  (0): Embedding(6720, 400, padding_idx=1)\n",
              "  (1): EmbeddingDropout(\n",
              "    (emb): Embedding(6720, 400, padding_idx=1)\n",
              "  )\n",
              "), Sequential(\n",
              "  (0): WeightDropout(\n",
              "    (module): LSTM(400, 1152, batch_first=True)\n",
              "  )\n",
              "  (1): RNNDropout()\n",
              "), Sequential(\n",
              "  (0): WeightDropout(\n",
              "    (module): LSTM(1152, 1152, batch_first=True)\n",
              "  )\n",
              "  (1): RNNDropout()\n",
              "), Sequential(\n",
              "  (0): WeightDropout(\n",
              "    (module): LSTM(1152, 400, batch_first=True)\n",
              "  )\n",
              "  (1): RNNDropout()\n",
              "), Sequential(\n",
              "  (0): PoolingLinearClassifier(\n",
              "    (layers): Sequential(\n",
              "      (0): BatchNorm1d(1200, eps=1e-05, momentum=0.1, affine=True, track_running_stats=True)\n",
              "      (1): Dropout(p=0.2, inplace=False)\n",
              "      (2): Linear(in_features=1200, out_features=50, bias=True)\n",
              "      (3): ReLU(inplace=True)\n",
              "      (4): BatchNorm1d(50, eps=1e-05, momentum=0.1, affine=True, track_running_stats=True)\n",
              "      (5): Dropout(p=0.1, inplace=False)\n",
              "      (6): Linear(in_features=50, out_features=2, bias=True)\n",
              "    )\n",
              "  )\n",
              ")], add_time=True, silent=False)"
            ]
          },
          "metadata": {
            "tags": []
          },
          "execution_count": 60
        }
      ]
    },
    {
      "cell_type": "code",
      "metadata": {
        "id": "IIlyDZX4ckNT",
        "colab_type": "code",
        "outputId": "6368d866-5ef7-49a3-81da-668cf269c3a5",
        "colab": {
          "base_uri": "https://localhost:8080/",
          "height": 101
        }
      },
      "source": [
        "learn.fit_one_cycle(1, 1e-2)"
      ],
      "execution_count": 0,
      "outputs": [
        {
          "output_type": "display_data",
          "data": {
            "text/html": [
              "<table border=\"1\" class=\"dataframe\">\n",
              "  <thead>\n",
              "    <tr style=\"text-align: left;\">\n",
              "      <th>epoch</th>\n",
              "      <th>train_loss</th>\n",
              "      <th>valid_loss</th>\n",
              "      <th>accuracy</th>\n",
              "      <th>time</th>\n",
              "    </tr>\n",
              "  </thead>\n",
              "  <tbody>\n",
              "    <tr>\n",
              "      <td>0</td>\n",
              "      <td>0.474642</td>\n",
              "      <td>0.361476</td>\n",
              "      <td>0.850165</td>\n",
              "      <td>00:17</td>\n",
              "    </tr>\n",
              "  </tbody>\n",
              "</table>"
            ],
            "text/plain": [
              "<IPython.core.display.HTML object>"
            ]
          },
          "metadata": {
            "tags": []
          }
        }
      ]
    },
    {
      "cell_type": "code",
      "metadata": {
        "id": "9Epr6pjSckPG",
        "colab_type": "code",
        "outputId": "76385c04-ed15-4397-f041-e9aab0639ca1",
        "colab": {
          "base_uri": "https://localhost:8080/",
          "height": 101
        }
      },
      "source": [
        "# unfreeze last two layers and fine-tune\n",
        "learn.freeze_to(-2)\n",
        "\n",
        " # train the first layers at lr ... and the last layers at lr .. and the rest in between\n",
        "learn.fit_one_cycle(1, slice(5e-3/2., 5e-3))"
      ],
      "execution_count": 0,
      "outputs": [
        {
          "output_type": "display_data",
          "data": {
            "text/html": [
              "<table border=\"1\" class=\"dataframe\">\n",
              "  <thead>\n",
              "    <tr style=\"text-align: left;\">\n",
              "      <th>epoch</th>\n",
              "      <th>train_loss</th>\n",
              "      <th>valid_loss</th>\n",
              "      <th>accuracy</th>\n",
              "      <th>time</th>\n",
              "    </tr>\n",
              "  </thead>\n",
              "  <tbody>\n",
              "    <tr>\n",
              "      <td>0</td>\n",
              "      <td>0.477672</td>\n",
              "      <td>0.288764</td>\n",
              "      <td>0.895697</td>\n",
              "      <td>00:18</td>\n",
              "    </tr>\n",
              "  </tbody>\n",
              "</table>"
            ],
            "text/plain": [
              "<IPython.core.display.HTML object>"
            ]
          },
          "metadata": {
            "tags": []
          }
        }
      ]
    },
    {
      "cell_type": "code",
      "metadata": {
        "id": "PkSGUmHRckQk",
        "colab_type": "code",
        "outputId": "ba8e2670-3832-47b3-f1e4-6d20bc7d9266",
        "colab": {
          "base_uri": "https://localhost:8080/",
          "height": 226
        }
      },
      "source": [
        "learn.unfreeze() # fine tune all the layers \n",
        "learn.fit_one_cycle(5, slice(2e-3/100, 2e-3)) # run this twice to max out accuracy"
      ],
      "execution_count": 0,
      "outputs": [
        {
          "output_type": "display_data",
          "data": {
            "text/html": [
              "<table border=\"1\" class=\"dataframe\">\n",
              "  <thead>\n",
              "    <tr style=\"text-align: left;\">\n",
              "      <th>epoch</th>\n",
              "      <th>train_loss</th>\n",
              "      <th>valid_loss</th>\n",
              "      <th>accuracy</th>\n",
              "      <th>time</th>\n",
              "    </tr>\n",
              "  </thead>\n",
              "  <tbody>\n",
              "    <tr>\n",
              "      <td>0</td>\n",
              "      <td>0.363505</td>\n",
              "      <td>0.228737</td>\n",
              "      <td>0.920774</td>\n",
              "      <td>00:24</td>\n",
              "    </tr>\n",
              "    <tr>\n",
              "      <td>1</td>\n",
              "      <td>0.353452</td>\n",
              "      <td>0.210827</td>\n",
              "      <td>0.924173</td>\n",
              "      <td>00:24</td>\n",
              "    </tr>\n",
              "    <tr>\n",
              "      <td>2</td>\n",
              "      <td>0.300350</td>\n",
              "      <td>0.229503</td>\n",
              "      <td>0.928795</td>\n",
              "      <td>00:24</td>\n",
              "    </tr>\n",
              "    <tr>\n",
              "      <td>3</td>\n",
              "      <td>0.304349</td>\n",
              "      <td>0.221483</td>\n",
              "      <td>0.933357</td>\n",
              "      <td>00:24</td>\n",
              "    </tr>\n",
              "    <tr>\n",
              "      <td>4</td>\n",
              "      <td>0.276163</td>\n",
              "      <td>0.272121</td>\n",
              "      <td>0.934878</td>\n",
              "      <td>00:24</td>\n",
              "    </tr>\n",
              "  </tbody>\n",
              "</table>"
            ],
            "text/plain": [
              "<IPython.core.display.HTML object>"
            ]
          },
          "metadata": {
            "tags": []
          }
        }
      ]
    },
    {
      "cell_type": "code",
      "metadata": {
        "id": "Do8SnjqVckSD",
        "colab_type": "code",
        "outputId": "97ea8fde-df5f-4c82-cfb5-9c9ae9c5ecb4",
        "colab": {
          "base_uri": "https://localhost:8080/",
          "height": 55
        }
      },
      "source": [
        "# is it presidential?\n",
        "\n",
        "# 0 is False, 1 is True\n",
        "\n",
        "learn.predict('Governor @GavinNewsom of California won’t let restaurants, beaches and stores open, \\\n",
        "                but he installs a voting both system in a highly Democrat area (supposed to be mail in \\\n",
        "                ballots only) because our great candidate, @MikeGarcia2020, is winning by a lot. CA25  Rigged Election!') # 5/9/2020"
      ],
      "execution_count": 0,
      "outputs": [
        {
          "output_type": "execute_result",
          "data": {
            "text/plain": [
              "(Category tensor(1), tensor(1), tensor([0.3441, 0.6559]))"
            ]
          },
          "metadata": {
            "tags": []
          },
          "execution_count": 64
        }
      ]
    },
    {
      "cell_type": "code",
      "metadata": {
        "id": "MGBXAtbWktwl",
        "colab_type": "code",
        "outputId": "6bbd93a7-9421-4fb0-cdc9-a3e1a220852d",
        "colab": {
          "base_uri": "https://localhost:8080/",
          "height": 55
        }
      },
      "source": [
        "print(data_clas.classes)"
      ],
      "execution_count": 0,
      "outputs": [
        {
          "output_type": "stream",
          "text": [
            "[False, True]\n"
          ],
          "name": "stdout"
        }
      ]
    },
    {
      "cell_type": "code",
      "metadata": {
        "id": "o8RRr3IGktzR",
        "colab_type": "code",
        "colab": {}
      },
      "source": [
        "learn.predict('')"
      ],
      "execution_count": 0,
      "outputs": []
    },
    {
      "cell_type": "code",
      "metadata": {
        "id": "jg6VaAsokt18",
        "colab_type": "code",
        "colab": {}
      },
      "source": [
        ""
      ],
      "execution_count": 0,
      "outputs": []
    },
    {
      "cell_type": "code",
      "metadata": {
        "id": "8zImpjTukt4V",
        "colab_type": "code",
        "colab": {}
      },
      "source": [
        "for sample in training_samples:\n",
        "  learn.predict(sample)\n",
        "\n",
        "  # choose a certain threshold and look at the samples that have very high and very low probabilities\n",
        "\n",
        "  # do word clouds for them? Or just look at the tweets"
      ],
      "execution_count": 0,
      "outputs": []
    },
    {
      "cell_type": "code",
      "metadata": {
        "id": "bmQBnnt0kt7S",
        "colab_type": "code",
        "colab": {}
      },
      "source": [
        "# TFIDF matrix ?? "
      ],
      "execution_count": 0,
      "outputs": []
    },
    {
      "cell_type": "code",
      "metadata": {
        "id": "VCGEBklykt-F",
        "colab_type": "code",
        "colab": {}
      },
      "source": [
        ""
      ],
      "execution_count": 0,
      "outputs": []
    },
    {
      "cell_type": "code",
      "metadata": {
        "id": "TBZ-pjz8kuBK",
        "colab_type": "code",
        "colab": {}
      },
      "source": [
        ""
      ],
      "execution_count": 0,
      "outputs": []
    },
    {
      "cell_type": "code",
      "metadata": {
        "id": "zYeUjywGkuDC",
        "colab_type": "code",
        "colab": {}
      },
      "source": [
        ""
      ],
      "execution_count": 0,
      "outputs": []
    }
  ]
}
