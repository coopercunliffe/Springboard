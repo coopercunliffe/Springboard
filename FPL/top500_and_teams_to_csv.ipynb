{
 "cells": [
  {
   "cell_type": "markdown",
   "metadata": {},
   "source": [
    "Takes the current top 500 players (elements) by total points, sorts by points, and saves them as a csv\n",
    "\n",
    "Update weekly"
   ]
  },
  {
   "cell_type": "code",
   "execution_count": 9,
   "metadata": {},
   "outputs": [],
   "source": [
    "import pandas as pd\n",
    "import numpy as np\n",
    "import requests"
   ]
  },
  {
   "cell_type": "code",
   "execution_count": 10,
   "metadata": {},
   "outputs": [],
   "source": [
    "# get the data_static dictionary\n",
    "url_static = 'https://fantasy.premierleague.com/api/bootstrap-static/'\n",
    "r_static = requests.get(url_static)\n",
    "data_static = r_static.json()\n",
    "elements = data_static['elements']\n",
    "df = pd.DataFrame(elements)\n",
    "df = df.set_index('id')"
   ]
  },
  {
   "cell_type": "code",
   "execution_count": 11,
   "metadata": {},
   "outputs": [],
   "source": [
    "top500 = df.sort_values(by='total_points', ascending=False).iloc[:450,:]\n",
    "top500 = top500.rename_axis('id_')\n",
    "top500.to_csv('top500.csv')"
   ]
  },
  {
   "cell_type": "code",
   "execution_count": 16,
   "metadata": {},
   "outputs": [],
   "source": [
    "teams = pd.DataFrame(data_static['teams'])\n",
    "teams.to_csv('teams')"
   ]
  },
  {
   "cell_type": "code",
   "execution_count": 17,
   "metadata": {},
   "outputs": [
    {
     "data": {
      "text/plain": [
       "assists                                                   0\n",
       "bonus                                                     0\n",
       "bps                                                       5\n",
       "chance_of_playing_next_round                            100\n",
       "chance_of_playing_this_round                            100\n",
       "clean_sheets                                              0\n",
       "code                                                  54756\n",
       "cost_change_event                                         0\n",
       "cost_change_event_fall                                    0\n",
       "cost_change_start                                        -2\n",
       "cost_change_start_fall                                    2\n",
       "creativity                                              0.9\n",
       "dreamteam_count                                           0\n",
       "element_type                                              3\n",
       "ep_next                                                 0.5\n",
       "ep_this                                                -0.5\n",
       "event_points                                              0\n",
       "first_name                                           Victor\n",
       "form                                                    0.0\n",
       "goals_conceded                                            2\n",
       "goals_scored                                              0\n",
       "ict_index                                               0.2\n",
       "in_dreamteam                                          False\n",
       "influence                                               1.2\n",
       "minutes                                                  24\n",
       "news                                                       \n",
       "news_added                      2019-07-31T00:00:11.516279Z\n",
       "now_cost                                                 48\n",
       "own_goals                                                 0\n",
       "penalties_missed                                          0\n",
       "penalties_saved                                           0\n",
       "photo                                             54756.jpg\n",
       "points_per_game                                         0.5\n",
       "red_cards                                                 0\n",
       "saves                                                     0\n",
       "second_name                                         Wanyama\n",
       "selected_by_percent                                     0.1\n",
       "special                                               False\n",
       "squad_number                                           None\n",
       "status                                                    a\n",
       "team                                                     17\n",
       "team_code                                                 6\n",
       "threat                                                  0.0\n",
       "total_points                                              1\n",
       "transfers_in                                           4936\n",
       "transfers_in_event                                       97\n",
       "transfers_out                                          7683\n",
       "transfers_out_event                                     123\n",
       "value_form                                              0.0\n",
       "value_season                                            0.2\n",
       "web_name                                            Wanyama\n",
       "yellow_cards                                              1\n",
       "Name: 348, dtype: object"
      ]
     },
     "execution_count": 17,
     "metadata": {},
     "output_type": "execute_result"
    }
   ],
   "source": [
    "top500.iloc[449]"
   ]
  },
  {
   "cell_type": "code",
   "execution_count": null,
   "metadata": {},
   "outputs": [],
   "source": []
  }
 ],
 "metadata": {
  "kernelspec": {
   "display_name": "Python 3",
   "language": "python",
   "name": "python3"
  },
  "language_info": {
   "codemirror_mode": {
    "name": "ipython",
    "version": 3
   },
   "file_extension": ".py",
   "mimetype": "text/x-python",
   "name": "python",
   "nbconvert_exporter": "python",
   "pygments_lexer": "ipython3",
   "version": "3.7.3"
  }
 },
 "nbformat": 4,
 "nbformat_minor": 2
}
