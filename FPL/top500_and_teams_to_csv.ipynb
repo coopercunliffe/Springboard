{
 "cells": [
  {
   "cell_type": "markdown",
   "metadata": {},
   "source": [
    "Takes the current top 500 players (elements) by total points, sorts by points, and saves them as a csv\n",
    "\n",
    "Update weekly"
   ]
  },
  {
   "cell_type": "code",
   "execution_count": 1,
   "metadata": {},
   "outputs": [],
   "source": [
    "import pandas as pd\n",
    "import numpy as np\n",
    "import requests"
   ]
  },
  {
   "cell_type": "code",
   "execution_count": 2,
   "metadata": {},
   "outputs": [],
   "source": [
    "# get the data_static dictionary\n",
    "url_static = 'https://fantasy.premierleague.com/api/bootstrap-static/'\n",
    "r_static = requests.get(url_static)\n",
    "data_static = r_static.json()\n",
    "elements = data_static['elements']\n",
    "df = pd.DataFrame(elements)\n",
    "df = df.set_index('id')"
   ]
  },
  {
   "cell_type": "code",
   "execution_count": 3,
   "metadata": {},
   "outputs": [],
   "source": [
    "top500 = df.sort_values(by='total_points', ascending=False).iloc[:450,:]\n",
    "top500 = top500.rename_axis('id_')\n",
    "top500.to_csv('top500.csv')"
   ]
  },
  {
   "cell_type": "code",
   "execution_count": 4,
   "metadata": {},
   "outputs": [],
   "source": [
    "teams = pd.DataFrame(data_static['teams'])\n",
    "teams.to_csv('teams')"
   ]
  },
  {
   "cell_type": "code",
   "execution_count": 5,
   "metadata": {},
   "outputs": [
    {
     "data": {
      "text/plain": [
       "assists                                 0\n",
       "bonus                                   0\n",
       "bps                                     3\n",
       "chance_of_playing_next_round          NaN\n",
       "chance_of_playing_this_round          NaN\n",
       "clean_sheets                            0\n",
       "code                                76306\n",
       "cost_change_event                       0\n",
       "cost_change_event_fall                  0\n",
       "cost_change_start                       0\n",
       "cost_change_start_fall                  0\n",
       "creativity                            0.0\n",
       "dreamteam_count                         0\n",
       "element_type                            3\n",
       "ep_next                               0.2\n",
       "ep_this                               0.7\n",
       "event_points                            1\n",
       "first_name                          Lukas\n",
       "form                                  1.0\n",
       "goals_conceded                          0\n",
       "goals_scored                            0\n",
       "ict_index                             0.0\n",
       "in_dreamteam                        False\n",
       "influence                             0.0\n",
       "minutes                                 1\n",
       "news                                     \n",
       "news_added                           None\n",
       "now_cost                               45\n",
       "own_goals                               0\n",
       "penalties_missed                        0\n",
       "penalties_saved                         0\n",
       "photo                           76306.jpg\n",
       "points_per_game                       1.0\n",
       "red_cards                               0\n",
       "saves                                   0\n",
       "second_name                          Rupp\n",
       "selected_by_percent                   0.0\n",
       "special                             False\n",
       "squad_number                         None\n",
       "status                                  a\n",
       "team                                   14\n",
       "team_code                              45\n",
       "threat                                0.0\n",
       "total_points                            1\n",
       "transfers_in                          116\n",
       "transfers_in_event                     10\n",
       "transfers_out                          35\n",
       "transfers_out_event                     8\n",
       "value_form                            0.2\n",
       "value_season                          0.2\n",
       "web_name                             Rupp\n",
       "yellow_cards                            0\n",
       "Name: 602, dtype: object"
      ]
     },
     "execution_count": 5,
     "metadata": {},
     "output_type": "execute_result"
    }
   ],
   "source": [
    "top500.iloc[449]"
   ]
  },
  {
   "cell_type": "code",
   "execution_count": null,
   "metadata": {},
   "outputs": [],
   "source": []
  }
 ],
 "metadata": {
  "kernelspec": {
   "display_name": "Python 3",
   "language": "python",
   "name": "python3"
  },
  "language_info": {
   "codemirror_mode": {
    "name": "ipython",
    "version": 3
   },
   "file_extension": ".py",
   "mimetype": "text/x-python",
   "name": "python",
   "nbconvert_exporter": "python",
   "pygments_lexer": "ipython3",
   "version": "3.7.3"
  }
 },
 "nbformat": 4,
 "nbformat_minor": 2
}
