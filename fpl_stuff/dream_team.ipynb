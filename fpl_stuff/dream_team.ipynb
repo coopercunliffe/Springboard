{
 "cells": [
  {
   "cell_type": "code",
   "execution_count": 1,
   "metadata": {},
   "outputs": [
    {
     "name": "stdout",
     "output_type": "stream",
     "text": [
      "Using Python-MIP package version 1.5.1\n"
     ]
    }
   ],
   "source": [
    "# NEED TO ADD MAX TEAM CAPACITY CONSTRAINT\n",
    "\n",
    "import pandas as pd\n",
    "import numpy as np\n",
    "\n",
    "# import the required classes and definitions from Python-MIP\n",
    "from mip import Model, xsum, maximize, BINARY, INTEGER"
   ]
  },
  {
   "cell_type": "code",
   "execution_count": 2,
   "metadata": {},
   "outputs": [],
   "source": [
    "#sort the top500 by element_type so model can fill correct number of each type\n",
    "\n",
    "top500 = pd.read_csv('top500.csv')\n",
    "top500sorted = top500.sort_values('element_type')\n",
    "\n",
    "\n",
    "#lists for the dream team model, sorted by position\n",
    "eltype = list(top500sorted['element_type'])\n",
    "form = list(top500sorted['form'])\n",
    "score = list(top500sorted['total_points'])\n",
    "price = list(top500sorted['now_cost'])\n",
    "form_score = list(pd.Series(form) * pd.Series(score))\n"
   ]
  },
  {
   "cell_type": "code",
   "execution_count": 3,
   "metadata": {},
   "outputs": [
    {
     "data": {
      "text/plain": [
       "(500, 53)"
      ]
     },
     "execution_count": 3,
     "metadata": {},
     "output_type": "execute_result"
    }
   ],
   "source": [
    "top500sorted.shape"
   ]
  },
  {
   "cell_type": "code",
   "execution_count": 4,
   "metadata": {},
   "outputs": [
    {
     "data": {
      "text/plain": [
       "(500, 10)"
      ]
     },
     "execution_count": 4,
     "metadata": {},
     "output_type": "execute_result"
    }
   ],
   "source": [
    "#make a list of our main columns of interest\n",
    "simple_columns = ['web_name', 'element_type', 'total_points','now_cost', 'form',\n",
    "                 'goals_scored', 'assists', 'clean_sheets', 'team', 'selected_by_percent']\n",
    "\n",
    "#make a smaller df for easy viewing of dream_team\n",
    "top500simple = top500sorted[simple_columns]\n",
    "top500simple.shape"
   ]
  },
  {
   "cell_type": "code",
   "execution_count": 5,
   "metadata": {},
   "outputs": [
    {
     "name": "stdout",
     "output_type": "stream",
     "text": [
      "50 222 430 500\n"
     ]
    },
    {
     "data": {
      "text/plain": [
       "1     50\n",
       "2    172\n",
       "3    208\n",
       "4     70\n",
       "Name: element_type, dtype: int64"
      ]
     },
     "execution_count": 5,
     "metadata": {},
     "output_type": "execute_result"
    }
   ],
   "source": [
    "#find cutoffs for the element_types\n",
    "\n",
    "eltype_counts = top500sorted['element_type'].value_counts().sort_index()\n",
    "\n",
    "cutoff1 = eltype_counts[1]\n",
    "cutoff2 = cutoff1 + eltype_counts[2]\n",
    "cutoff3 = cutoff2 + eltype_counts[3]\n",
    "cutoff4 = cutoff3 + eltype_counts[4]\n",
    "\n",
    "print(cutoff1, cutoff2, cutoff3, cutoff4)\n",
    "eltype_counts"
   ]
  },
  {
   "cell_type": "code",
   "execution_count": 13,
   "metadata": {},
   "outputs": [
    {
     "name": "stdout",
     "output_type": "stream",
     "text": [
      "selected items: [36, 174, 177, 183, 374, 376, 390, 393, 430, 448, 499]\n"
     ]
    }
   ],
   "source": [
    "# The model\n",
    "\n",
    "# define the problem data, change the profit list here\n",
    "profit = score\n",
    "weight = price\n",
    "c = 830\n",
    "n = len(weight)\n",
    "\n",
    "#create an empty maximization\n",
    "m = Model('team_select')\n",
    "\n",
    "#add the binary decision variables to model m and store their references in a list x\n",
    "x = [m.add_var(var_type=BINARY) for i in range(n)]\n",
    "\n",
    "#define the objective function of this model \n",
    "m.objective = maximize(xsum(profit[i] * x[i] for i in range(n)))\n",
    "\n",
    "#add the capacity constraints\n",
    "m += xsum(weight[i] * x[i] for i in range(n)) <= c\n",
    "\n",
    "m += xsum(x) <= 11\n",
    "\n",
    "m += xsum(eltype[i] * x[i] for i in range(cutoff1)) >= 1\n",
    "m += xsum(eltype[i] * x[i] for i in range(cutoff1)) <= 1\n",
    "\n",
    "m += xsum(eltype[i] * x[i] for i in range(cutoff1,cutoff2)) >= 6\n",
    "m += xsum(eltype[i] * x[i] for i in range(cutoff1,cutoff2)) <= 10\n",
    "\n",
    "m += xsum(eltype[i] * x[i] for i in range(cutoff2,cutoff3)) >= 6\n",
    "m += xsum(eltype[i] * x[i] for i in range(cutoff2,cutoff3)) <= 15\n",
    "\n",
    "m += xsum(eltype[i] * x[i] for i in range(cutoff3,cutoff4)) >= 4\n",
    "m += xsum(eltype[i] * x[i] for i in range(cutoff3,cutoff4)) <= 12\n",
    "\n",
    "#Optimize the model\n",
    "m.optimize()\n",
    "\n",
    "# Compute the solution, a list of the selected items\n",
    "selected = [i for i in range(n) if x[i].x >= 0.99]\n",
    "print('selected items: {}'.format(selected))"
   ]
  },
  {
   "cell_type": "code",
   "execution_count": 14,
   "metadata": {},
   "outputs": [
    {
     "data": {
      "text/html": [
       "<div>\n",
       "<style scoped>\n",
       "    .dataframe tbody tr th:only-of-type {\n",
       "        vertical-align: middle;\n",
       "    }\n",
       "\n",
       "    .dataframe tbody tr th {\n",
       "        vertical-align: top;\n",
       "    }\n",
       "\n",
       "    .dataframe thead th {\n",
       "        text-align: right;\n",
       "    }\n",
       "</style>\n",
       "<table border=\"1\" class=\"dataframe\">\n",
       "  <thead>\n",
       "    <tr style=\"text-align: right;\">\n",
       "      <th></th>\n",
       "      <th>web_name</th>\n",
       "      <th>element_type</th>\n",
       "      <th>total_points</th>\n",
       "      <th>now_cost</th>\n",
       "      <th>form</th>\n",
       "      <th>goals_scored</th>\n",
       "      <th>assists</th>\n",
       "      <th>clean_sheets</th>\n",
       "      <th>team</th>\n",
       "      <th>selected_by_percent</th>\n",
       "    </tr>\n",
       "  </thead>\n",
       "  <tbody>\n",
       "    <tr>\n",
       "      <th>22</th>\n",
       "      <td>Ryan</td>\n",
       "      <td>1</td>\n",
       "      <td>55</td>\n",
       "      <td>47</td>\n",
       "      <td>5.0</td>\n",
       "      <td>0</td>\n",
       "      <td>0</td>\n",
       "      <td>4</td>\n",
       "      <td>4</td>\n",
       "      <td>15.7</td>\n",
       "    </tr>\n",
       "    <tr>\n",
       "      <th>6</th>\n",
       "      <td>Lundstram</td>\n",
       "      <td>2</td>\n",
       "      <td>70</td>\n",
       "      <td>48</td>\n",
       "      <td>7.8</td>\n",
       "      <td>3</td>\n",
       "      <td>1</td>\n",
       "      <td>5</td>\n",
       "      <td>15</td>\n",
       "      <td>41.1</td>\n",
       "    </tr>\n",
       "    <tr>\n",
       "      <th>14</th>\n",
       "      <td>Pereira</td>\n",
       "      <td>2</td>\n",
       "      <td>61</td>\n",
       "      <td>63</td>\n",
       "      <td>5.2</td>\n",
       "      <td>2</td>\n",
       "      <td>0</td>\n",
       "      <td>5</td>\n",
       "      <td>9</td>\n",
       "      <td>14.6</td>\n",
       "    </tr>\n",
       "    <tr>\n",
       "      <th>23</th>\n",
       "      <td>Söyüncü</td>\n",
       "      <td>2</td>\n",
       "      <td>55</td>\n",
       "      <td>48</td>\n",
       "      <td>7.5</td>\n",
       "      <td>1</td>\n",
       "      <td>1</td>\n",
       "      <td>5</td>\n",
       "      <td>9</td>\n",
       "      <td>11.7</td>\n",
       "    </tr>\n",
       "    <tr>\n",
       "      <th>11</th>\n",
       "      <td>David Silva</td>\n",
       "      <td>3</td>\n",
       "      <td>61</td>\n",
       "      <td>76</td>\n",
       "      <td>5.2</td>\n",
       "      <td>3</td>\n",
       "      <td>5</td>\n",
       "      <td>6</td>\n",
       "      <td>11</td>\n",
       "      <td>8.6</td>\n",
       "    </tr>\n",
       "    <tr>\n",
       "      <th>10</th>\n",
       "      <td>Maddison</td>\n",
       "      <td>3</td>\n",
       "      <td>62</td>\n",
       "      <td>74</td>\n",
       "      <td>7.0</td>\n",
       "      <td>4</td>\n",
       "      <td>3</td>\n",
       "      <td>4</td>\n",
       "      <td>9</td>\n",
       "      <td>19.9</td>\n",
       "    </tr>\n",
       "    <tr>\n",
       "      <th>1</th>\n",
       "      <td>Mané</td>\n",
       "      <td>3</td>\n",
       "      <td>83</td>\n",
       "      <td>120</td>\n",
       "      <td>6.5</td>\n",
       "      <td>7</td>\n",
       "      <td>4</td>\n",
       "      <td>3</td>\n",
       "      <td>10</td>\n",
       "      <td>34.5</td>\n",
       "    </tr>\n",
       "    <tr>\n",
       "      <th>3</th>\n",
       "      <td>De Bruyne</td>\n",
       "      <td>3</td>\n",
       "      <td>76</td>\n",
       "      <td>102</td>\n",
       "      <td>3.2</td>\n",
       "      <td>2</td>\n",
       "      <td>10</td>\n",
       "      <td>5</td>\n",
       "      <td>11</td>\n",
       "      <td>40.2</td>\n",
       "    </tr>\n",
       "    <tr>\n",
       "      <th>2</th>\n",
       "      <td>Abraham</td>\n",
       "      <td>4</td>\n",
       "      <td>81</td>\n",
       "      <td>79</td>\n",
       "      <td>6.8</td>\n",
       "      <td>10</td>\n",
       "      <td>2</td>\n",
       "      <td>4</td>\n",
       "      <td>6</td>\n",
       "      <td>50.0</td>\n",
       "    </tr>\n",
       "    <tr>\n",
       "      <th>12</th>\n",
       "      <td>Pukki</td>\n",
       "      <td>4</td>\n",
       "      <td>61</td>\n",
       "      <td>67</td>\n",
       "      <td>1.8</td>\n",
       "      <td>6</td>\n",
       "      <td>2</td>\n",
       "      <td>1</td>\n",
       "      <td>14</td>\n",
       "      <td>22.0</td>\n",
       "    </tr>\n",
       "    <tr>\n",
       "      <th>0</th>\n",
       "      <td>Vardy</td>\n",
       "      <td>4</td>\n",
       "      <td>92</td>\n",
       "      <td>95</td>\n",
       "      <td>11.5</td>\n",
       "      <td>11</td>\n",
       "      <td>3</td>\n",
       "      <td>5</td>\n",
       "      <td>9</td>\n",
       "      <td>32.7</td>\n",
       "    </tr>\n",
       "  </tbody>\n",
       "</table>\n",
       "</div>"
      ],
      "text/plain": [
       "       web_name  element_type  total_points  now_cost  form  goals_scored  \\\n",
       "22         Ryan             1            55        47   5.0             0   \n",
       "6     Lundstram             2            70        48   7.8             3   \n",
       "14      Pereira             2            61        63   5.2             2   \n",
       "23      Söyüncü             2            55        48   7.5             1   \n",
       "11  David Silva             3            61        76   5.2             3   \n",
       "10     Maddison             3            62        74   7.0             4   \n",
       "1          Mané             3            83       120   6.5             7   \n",
       "3     De Bruyne             3            76       102   3.2             2   \n",
       "2       Abraham             4            81        79   6.8            10   \n",
       "12        Pukki             4            61        67   1.8             6   \n",
       "0         Vardy             4            92        95  11.5            11   \n",
       "\n",
       "    assists  clean_sheets  team  selected_by_percent  \n",
       "22        0             4     4                 15.7  \n",
       "6         1             5    15                 41.1  \n",
       "14        0             5     9                 14.6  \n",
       "23        1             5     9                 11.7  \n",
       "11        5             6    11                  8.6  \n",
       "10        3             4     9                 19.9  \n",
       "1         4             3    10                 34.5  \n",
       "3        10             5    11                 40.2  \n",
       "2         2             4     6                 50.0  \n",
       "12        2             1    14                 22.0  \n",
       "0         3             5     9                 32.7  "
      ]
     },
     "execution_count": 14,
     "metadata": {},
     "output_type": "execute_result"
    }
   ],
   "source": [
    "dream_team = top500simple.iloc[selected,:]\n",
    "dream_team"
   ]
  },
  {
   "cell_type": "code",
   "execution_count": null,
   "metadata": {},
   "outputs": [],
   "source": []
  },
  {
   "cell_type": "code",
   "execution_count": 15,
   "metadata": {},
   "outputs": [
    {
     "data": {
      "text/plain": [
       "31"
      ]
     },
     "execution_count": 15,
     "metadata": {},
     "output_type": "execute_result"
    }
   ],
   "source": [
    "sum(dream_team['element_type'])"
   ]
  },
  {
   "cell_type": "code",
   "execution_count": 16,
   "metadata": {},
   "outputs": [
    {
     "data": {
      "text/plain": [
       "819"
      ]
     },
     "execution_count": 16,
     "metadata": {},
     "output_type": "execute_result"
    }
   ],
   "source": [
    "sum(dream_team['now_cost'])"
   ]
  },
  {
   "cell_type": "code",
   "execution_count": 17,
   "metadata": {},
   "outputs": [
    {
     "data": {
      "text/plain": [
       "757"
      ]
     },
     "execution_count": 17,
     "metadata": {},
     "output_type": "execute_result"
    }
   ],
   "source": [
    "sum(dream_team['total_points'])"
   ]
  },
  {
   "cell_type": "code",
   "execution_count": null,
   "metadata": {},
   "outputs": [],
   "source": []
  },
  {
   "cell_type": "code",
   "execution_count": null,
   "metadata": {},
   "outputs": [],
   "source": []
  }
 ],
 "metadata": {
  "kernelspec": {
   "display_name": "Python 3",
   "language": "python",
   "name": "python3"
  },
  "language_info": {
   "codemirror_mode": {
    "name": "ipython",
    "version": 3
   },
   "file_extension": ".py",
   "mimetype": "text/x-python",
   "name": "python",
   "nbconvert_exporter": "python",
   "pygments_lexer": "ipython3",
   "version": "3.7.3"
  }
 },
 "nbformat": 4,
 "nbformat_minor": 2
}
