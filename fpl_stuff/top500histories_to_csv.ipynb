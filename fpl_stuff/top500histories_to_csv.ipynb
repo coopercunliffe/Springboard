{
 "cells": [
  {
   "cell_type": "markdown",
   "metadata": {},
   "source": [
    "This notebook will pull from the FPL API the weekly results for each player and store it in a dictionary\n",
    "\n",
    "Update weekly"
   ]
  },
  {
   "cell_type": "code",
   "execution_count": 1,
   "metadata": {},
   "outputs": [],
   "source": [
    "import pandas as pd\n",
    "import numpy as np\n",
    "import requests"
   ]
  },
  {
   "cell_type": "code",
   "execution_count": 2,
   "metadata": {},
   "outputs": [
    {
     "data": {
      "text/html": [
       "<div>\n",
       "<style scoped>\n",
       "    .dataframe tbody tr th:only-of-type {\n",
       "        vertical-align: middle;\n",
       "    }\n",
       "\n",
       "    .dataframe tbody tr th {\n",
       "        vertical-align: top;\n",
       "    }\n",
       "\n",
       "    .dataframe thead th {\n",
       "        text-align: right;\n",
       "    }\n",
       "</style>\n",
       "<table border=\"1\" class=\"dataframe\">\n",
       "  <thead>\n",
       "    <tr style=\"text-align: right;\">\n",
       "      <th></th>\n",
       "      <th>id_</th>\n",
       "      <th>assists</th>\n",
       "      <th>bonus</th>\n",
       "      <th>bps</th>\n",
       "      <th>chance_of_playing_next_round</th>\n",
       "      <th>chance_of_playing_this_round</th>\n",
       "      <th>clean_sheets</th>\n",
       "      <th>code</th>\n",
       "      <th>cost_change_event</th>\n",
       "      <th>cost_change_event_fall</th>\n",
       "      <th>...</th>\n",
       "      <th>threat</th>\n",
       "      <th>total_points</th>\n",
       "      <th>transfers_in</th>\n",
       "      <th>transfers_in_event</th>\n",
       "      <th>transfers_out</th>\n",
       "      <th>transfers_out_event</th>\n",
       "      <th>value_form</th>\n",
       "      <th>value_season</th>\n",
       "      <th>web_name</th>\n",
       "      <th>yellow_cards</th>\n",
       "    </tr>\n",
       "  </thead>\n",
       "  <tbody>\n",
       "    <tr>\n",
       "      <th>0</th>\n",
       "      <td>166</td>\n",
       "      <td>2</td>\n",
       "      <td>13</td>\n",
       "      <td>262</td>\n",
       "      <td>NaN</td>\n",
       "      <td>NaN</td>\n",
       "      <td>3</td>\n",
       "      <td>101668</td>\n",
       "      <td>1</td>\n",
       "      <td>-1</td>\n",
       "      <td>...</td>\n",
       "      <td>323.0</td>\n",
       "      <td>74</td>\n",
       "      <td>1236628</td>\n",
       "      <td>361992</td>\n",
       "      <td>540734</td>\n",
       "      <td>3203</td>\n",
       "      <td>1.1</td>\n",
       "      <td>8.0</td>\n",
       "      <td>Vardy</td>\n",
       "      <td>1</td>\n",
       "    </tr>\n",
       "    <tr>\n",
       "      <th>1</th>\n",
       "      <td>215</td>\n",
       "      <td>10</td>\n",
       "      <td>10</td>\n",
       "      <td>278</td>\n",
       "      <td>100.0</td>\n",
       "      <td>100.0</td>\n",
       "      <td>5</td>\n",
       "      <td>61366</td>\n",
       "      <td>1</td>\n",
       "      <td>-1</td>\n",
       "      <td>...</td>\n",
       "      <td>199.0</td>\n",
       "      <td>72</td>\n",
       "      <td>2759819</td>\n",
       "      <td>85655</td>\n",
       "      <td>1365443</td>\n",
       "      <td>11279</td>\n",
       "      <td>0.4</td>\n",
       "      <td>7.1</td>\n",
       "      <td>De Bruyne</td>\n",
       "      <td>0</td>\n",
       "    </tr>\n",
       "    <tr>\n",
       "      <th>2</th>\n",
       "      <td>192</td>\n",
       "      <td>3</td>\n",
       "      <td>8</td>\n",
       "      <td>185</td>\n",
       "      <td>100.0</td>\n",
       "      <td>100.0</td>\n",
       "      <td>3</td>\n",
       "      <td>110979</td>\n",
       "      <td>0</td>\n",
       "      <td>0</td>\n",
       "      <td>...</td>\n",
       "      <td>286.0</td>\n",
       "      <td>64</td>\n",
       "      <td>1738940</td>\n",
       "      <td>44324</td>\n",
       "      <td>710292</td>\n",
       "      <td>23502</td>\n",
       "      <td>0.5</td>\n",
       "      <td>5.4</td>\n",
       "      <td>Mané</td>\n",
       "      <td>0</td>\n",
       "    </tr>\n",
       "    <tr>\n",
       "      <th>3</th>\n",
       "      <td>214</td>\n",
       "      <td>1</td>\n",
       "      <td>7</td>\n",
       "      <td>223</td>\n",
       "      <td>NaN</td>\n",
       "      <td>NaN</td>\n",
       "      <td>4</td>\n",
       "      <td>103955</td>\n",
       "      <td>0</td>\n",
       "      <td>0</td>\n",
       "      <td>...</td>\n",
       "      <td>610.0</td>\n",
       "      <td>64</td>\n",
       "      <td>1472286</td>\n",
       "      <td>55954</td>\n",
       "      <td>1093035</td>\n",
       "      <td>15064</td>\n",
       "      <td>0.5</td>\n",
       "      <td>5.3</td>\n",
       "      <td>Sterling</td>\n",
       "      <td>3</td>\n",
       "    </tr>\n",
       "    <tr>\n",
       "      <th>4</th>\n",
       "      <td>210</td>\n",
       "      <td>3</td>\n",
       "      <td>6</td>\n",
       "      <td>258</td>\n",
       "      <td>NaN</td>\n",
       "      <td>NaN</td>\n",
       "      <td>2</td>\n",
       "      <td>37572</td>\n",
       "      <td>-1</td>\n",
       "      <td>1</td>\n",
       "      <td>...</td>\n",
       "      <td>392.0</td>\n",
       "      <td>62</td>\n",
       "      <td>1274982</td>\n",
       "      <td>12188</td>\n",
       "      <td>815242</td>\n",
       "      <td>164106</td>\n",
       "      <td>0.1</td>\n",
       "      <td>5.1</td>\n",
       "      <td>Agüero</td>\n",
       "      <td>0</td>\n",
       "    </tr>\n",
       "  </tbody>\n",
       "</table>\n",
       "<p>5 rows × 53 columns</p>\n",
       "</div>"
      ],
      "text/plain": [
       "   id_  assists  bonus  bps  chance_of_playing_next_round  \\\n",
       "0  166        2     13  262                           NaN   \n",
       "1  215       10     10  278                         100.0   \n",
       "2  192        3      8  185                         100.0   \n",
       "3  214        1      7  223                           NaN   \n",
       "4  210        3      6  258                           NaN   \n",
       "\n",
       "   chance_of_playing_this_round  clean_sheets    code  cost_change_event  \\\n",
       "0                           NaN             3  101668                  1   \n",
       "1                         100.0             5   61366                  1   \n",
       "2                         100.0             3  110979                  0   \n",
       "3                           NaN             4  103955                  0   \n",
       "4                           NaN             2   37572                 -1   \n",
       "\n",
       "   cost_change_event_fall  ...  threat  total_points  transfers_in  \\\n",
       "0                      -1  ...   323.0            74       1236628   \n",
       "1                      -1  ...   199.0            72       2759819   \n",
       "2                       0  ...   286.0            64       1738940   \n",
       "3                       0  ...   610.0            64       1472286   \n",
       "4                       1  ...   392.0            62       1274982   \n",
       "\n",
       "   transfers_in_event  transfers_out  transfers_out_event  value_form  \\\n",
       "0              361992         540734                 3203         1.1   \n",
       "1               85655        1365443                11279         0.4   \n",
       "2               44324         710292                23502         0.5   \n",
       "3               55954        1093035                15064         0.5   \n",
       "4               12188         815242               164106         0.1   \n",
       "\n",
       "   value_season   web_name  yellow_cards  \n",
       "0           8.0      Vardy             1  \n",
       "1           7.1  De Bruyne             0  \n",
       "2           5.4       Mané             0  \n",
       "3           5.3   Sterling             3  \n",
       "4           5.1     Agüero             0  \n",
       "\n",
       "[5 rows x 53 columns]"
      ]
     },
     "execution_count": 2,
     "metadata": {},
     "output_type": "execute_result"
    }
   ],
   "source": [
    "top500 = pd.read_csv('top500.csv')\n",
    "top500.head()"
   ]
  },
  {
   "cell_type": "code",
   "execution_count": 3,
   "metadata": {},
   "outputs": [],
   "source": [
    "histories = {}\n",
    "\n",
    "ids = top500['id_']\n",
    "\n",
    "for id_ in ids:\n",
    "    url = 'https://fantasy.premierleague.com/api/element-summary/' + str(id_) + '/'\n",
    "    r = requests.get(url)\n",
    "    player_data = r.json()\n",
    "    player_history = player_data['history']\n",
    "    \n",
    "    histories[id_] = player_history   "
   ]
  },
  {
   "cell_type": "code",
   "execution_count": null,
   "metadata": {},
   "outputs": [],
   "source": []
  },
  {
   "cell_type": "code",
   "execution_count": 20,
   "metadata": {},
   "outputs": [],
   "source": [
    "history_dfs = {}\n",
    "\n",
    "for key in histories:\n",
    "    df = pd.DataFrame(histories[key])\n",
    "    df['gameweek'] = [i+1 for i in range((len(df.index)))]\n",
    "    df['sum_points'] = [sum(df['total_points'].iloc[:i+1]) for i in range(len(df.index))]\n",
    "    history_dfs[key] = df\n",
    "    \n",
    "    \n",
    "    "
   ]
  },
  {
   "cell_type": "code",
   "execution_count": 21,
   "metadata": {},
   "outputs": [
    {
     "data": {
      "text/plain": [
       "dict"
      ]
     },
     "execution_count": 21,
     "metadata": {},
     "output_type": "execute_result"
    }
   ],
   "source": [
    "type(history_dfs)"
   ]
  },
  {
   "cell_type": "code",
   "execution_count": 22,
   "metadata": {},
   "outputs": [
    {
     "data": {
      "text/plain": [
       "(4880, 33)"
      ]
     },
     "execution_count": 22,
     "metadata": {},
     "output_type": "execute_result"
    }
   ],
   "source": [
    "top500histories = pd.concat(history_dfs.values(), ignore_index=True)\n",
    "top500histories.shape"
   ]
  },
  {
   "cell_type": "code",
   "execution_count": 23,
   "metadata": {},
   "outputs": [],
   "source": [
    "top500histories.to_csv('top500histories.csv')"
   ]
  },
  {
   "cell_type": "code",
   "execution_count": null,
   "metadata": {},
   "outputs": [],
   "source": []
  },
  {
   "cell_type": "code",
   "execution_count": null,
   "metadata": {},
   "outputs": [],
   "source": []
  },
  {
   "cell_type": "code",
   "execution_count": null,
   "metadata": {},
   "outputs": [],
   "source": []
  },
  {
   "cell_type": "code",
   "execution_count": null,
   "metadata": {},
   "outputs": [],
   "source": []
  },
  {
   "cell_type": "code",
   "execution_count": null,
   "metadata": {},
   "outputs": [],
   "source": []
  }
 ],
 "metadata": {
  "kernelspec": {
   "display_name": "Python 3",
   "language": "python",
   "name": "python3"
  },
  "language_info": {
   "codemirror_mode": {
    "name": "ipython",
    "version": 3
   },
   "file_extension": ".py",
   "mimetype": "text/x-python",
   "name": "python",
   "nbconvert_exporter": "python",
   "pygments_lexer": "ipython3",
   "version": "3.7.3"
  }
 },
 "nbformat": 4,
 "nbformat_minor": 2
}
