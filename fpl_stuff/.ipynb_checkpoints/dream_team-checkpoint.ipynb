{
 "cells": [
  {
   "cell_type": "code",
   "execution_count": 3,
   "metadata": {},
   "outputs": [],
   "source": [
    "import pandas as pd\n",
    "import numpy as np\n",
    "\n",
    "# import the required classes and definitions from Python-MIP\n",
    "from mip import Model, xsum, maximize, BINARY, INTEGER"
   ]
  },
  {
   "cell_type": "code",
   "execution_count": 4,
   "metadata": {},
   "outputs": [],
   "source": [
    "#sort the top200 by element_type so model can fill correct number of each type\n",
    "\n",
    "top200 = pd.read_csv('top200.csv')\n",
    "top200sorted = top200.sort_values('element_type')\n",
    "\n",
    "\n",
    "#lists for the knapsack model, sorted by position\n",
    "eltype = list(top200sorted['element_type'])\n",
    "form = list(top200sorted['form'])\n",
    "score = list(top200sorted['total_points'])\n",
    "price = list(top200sorted['now_cost'])\n",
    "form_score = list(pd.Series(form) * pd.Series(score))\n"
   ]
  },
  {
   "cell_type": "code",
   "execution_count": 5,
   "metadata": {},
   "outputs": [
    {
     "data": {
      "text/plain": [
       "(200, 53)"
      ]
     },
     "execution_count": 5,
     "metadata": {},
     "output_type": "execute_result"
    }
   ],
   "source": [
    "top200sorted.shape"
   ]
  },
  {
   "cell_type": "code",
   "execution_count": 6,
   "metadata": {},
   "outputs": [
    {
     "data": {
      "text/plain": [
       "(200, 10)"
      ]
     },
     "execution_count": 6,
     "metadata": {},
     "output_type": "execute_result"
    }
   ],
   "source": [
    "#make a list of our main columns of interest\n",
    "simple_columns = ['web_name', 'element_type', 'total_points','now_cost', 'form',\n",
    "                 'goals_scored', 'assists', 'clean_sheets', 'team', 'selected_by_percent']\n",
    "\n",
    "#make a smaller df for easy viewing of dream_team\n",
    "top200simple = top200sorted[simple_columns]\n",
    "top200simple.shape"
   ]
  },
  {
   "cell_type": "code",
   "execution_count": 7,
   "metadata": {},
   "outputs": [
    {
     "name": "stdout",
     "output_type": "stream",
     "text": [
      "19 85 172 200\n"
     ]
    }
   ],
   "source": [
    "#find cutoffs for the element_types\n",
    "\n",
    "eltype_counts = top200sorted['element_type'].value_counts().sort_index()\n",
    "\n",
    "cutoff1 = eltype_counts[1]\n",
    "cutoff2 = cutoff1 + eltype_counts[2]\n",
    "cutoff3 = cutoff2 + eltype_counts[3]\n",
    "cutoff4 = cutoff3 + eltype_counts[4]\n",
    "\n",
    "print(cutoff1, cutoff2, cutoff3, cutoff4)\n"
   ]
  },
  {
   "cell_type": "code",
   "execution_count": 8,
   "metadata": {},
   "outputs": [
    {
     "name": "stdout",
     "output_type": "stream",
     "text": [
      "selected items: [6, 63, 70, 82, 125, 140, 142, 146, 177, 178, 181]\n"
     ]
    }
   ],
   "source": [
    "# The model\n",
    "\n",
    "# define the problem data, change the profit and weight lists here\n",
    "profit = score\n",
    "weight = price\n",
    "c = 830\n",
    "n = len(weight)\n",
    "\n",
    "#create an empty maximization\n",
    "m = Model('team_select')\n",
    "\n",
    "#add the binary decision variables to model m and store their references in a list x\n",
    "x = [m.add_var(var_type=BINARY) for i in range(n)]\n",
    "\n",
    "#define the objective function of this model \n",
    "m.objective = maximize(xsum(profit[i] * x[i] for i in range(n)))\n",
    "\n",
    "#add the capacity constraints\n",
    "m += xsum(weight[i] * x[i] for i in range(n)) <= c\n",
    "\n",
    "m += xsum(x) <= 11\n",
    "\n",
    "m += xsum(eltype[i] * x[i] for i in range(cutoff1)) >= 1\n",
    "m += xsum(eltype[i] * x[i] for i in range(cutoff1)) <= 1\n",
    "\n",
    "m += xsum(eltype[i] * x[i] for i in range(cutoff1,cutoff2)) >= 6\n",
    "m += xsum(eltype[i] * x[i] for i in range(cutoff1,cutoff2)) <= 10\n",
    "\n",
    "m += xsum(eltype[i] * x[i] for i in range(cutoff2,cutoff3)) >= 6\n",
    "m += xsum(eltype[i] * x[i] for i in range(cutoff2,cutoff3)) <= 15\n",
    "\n",
    "m += xsum(eltype[i] * x[i] for i in range(cutoff3,cutoff4)) >= 4\n",
    "m += xsum(eltype[i] * x[i] for i in range(cutoff3,cutoff4)) <= 12\n",
    "\n",
    "#Optimize the model\n",
    "m.optimize()\n",
    "\n",
    "# Compute the solution, a list of the selected items\n",
    "selected = [i for i in range(n) if x[i].x >= 0.99]\n",
    "print('selected items: {}'.format(selected))"
   ]
  },
  {
   "cell_type": "code",
   "execution_count": 9,
   "metadata": {},
   "outputs": [
    {
     "data": {
      "text/html": [
       "<div>\n",
       "<style scoped>\n",
       "    .dataframe tbody tr th:only-of-type {\n",
       "        vertical-align: middle;\n",
       "    }\n",
       "\n",
       "    .dataframe tbody tr th {\n",
       "        vertical-align: top;\n",
       "    }\n",
       "\n",
       "    .dataframe thead th {\n",
       "        text-align: right;\n",
       "    }\n",
       "</style>\n",
       "<table border=\"1\" class=\"dataframe\">\n",
       "  <thead>\n",
       "    <tr style=\"text-align: right;\">\n",
       "      <th></th>\n",
       "      <th>web_name</th>\n",
       "      <th>element_type</th>\n",
       "      <th>total_points</th>\n",
       "      <th>now_cost</th>\n",
       "      <th>form</th>\n",
       "      <th>goals_scored</th>\n",
       "      <th>assists</th>\n",
       "      <th>clean_sheets</th>\n",
       "      <th>team</th>\n",
       "      <th>selected_by_percent</th>\n",
       "    </tr>\n",
       "  </thead>\n",
       "  <tbody>\n",
       "    <tr>\n",
       "      <th>21</th>\n",
       "      <td>Patrício</td>\n",
       "      <td>1</td>\n",
       "      <td>38</td>\n",
       "      <td>51</td>\n",
       "      <td>4.5</td>\n",
       "      <td>0</td>\n",
       "      <td>0</td>\n",
       "      <td>3</td>\n",
       "      <td>20</td>\n",
       "      <td>10.3</td>\n",
       "    </tr>\n",
       "    <tr>\n",
       "      <th>15</th>\n",
       "      <td>Pereira</td>\n",
       "      <td>2</td>\n",
       "      <td>40</td>\n",
       "      <td>62</td>\n",
       "      <td>6.2</td>\n",
       "      <td>2</td>\n",
       "      <td>0</td>\n",
       "      <td>2</td>\n",
       "      <td>9</td>\n",
       "      <td>10.0</td>\n",
       "    </tr>\n",
       "    <tr>\n",
       "      <th>18</th>\n",
       "      <td>van Aanholt</td>\n",
       "      <td>2</td>\n",
       "      <td>39</td>\n",
       "      <td>56</td>\n",
       "      <td>3.8</td>\n",
       "      <td>2</td>\n",
       "      <td>0</td>\n",
       "      <td>3</td>\n",
       "      <td>7</td>\n",
       "      <td>11.9</td>\n",
       "    </tr>\n",
       "    <tr>\n",
       "      <th>19</th>\n",
       "      <td>Lundstram</td>\n",
       "      <td>2</td>\n",
       "      <td>39</td>\n",
       "      <td>45</td>\n",
       "      <td>5.2</td>\n",
       "      <td>1</td>\n",
       "      <td>1</td>\n",
       "      <td>3</td>\n",
       "      <td>15</td>\n",
       "      <td>31.5</td>\n",
       "    </tr>\n",
       "    <tr>\n",
       "      <th>0</th>\n",
       "      <td>De Bruyne</td>\n",
       "      <td>3</td>\n",
       "      <td>63</td>\n",
       "      <td>100</td>\n",
       "      <td>6.8</td>\n",
       "      <td>2</td>\n",
       "      <td>9</td>\n",
       "      <td>3</td>\n",
       "      <td>11</td>\n",
       "      <td>31.2</td>\n",
       "    </tr>\n",
       "    <tr>\n",
       "      <th>20</th>\n",
       "      <td>McGinn</td>\n",
       "      <td>3</td>\n",
       "      <td>39</td>\n",
       "      <td>58</td>\n",
       "      <td>5.5</td>\n",
       "      <td>3</td>\n",
       "      <td>1</td>\n",
       "      <td>2</td>\n",
       "      <td>2</td>\n",
       "      <td>12.0</td>\n",
       "    </tr>\n",
       "    <tr>\n",
       "      <th>13</th>\n",
       "      <td>Mount</td>\n",
       "      <td>3</td>\n",
       "      <td>46</td>\n",
       "      <td>68</td>\n",
       "      <td>6.0</td>\n",
       "      <td>4</td>\n",
       "      <td>1</td>\n",
       "      <td>1</td>\n",
       "      <td>6</td>\n",
       "      <td>34.3</td>\n",
       "    </tr>\n",
       "    <tr>\n",
       "      <th>2</th>\n",
       "      <td>Mané</td>\n",
       "      <td>3</td>\n",
       "      <td>57</td>\n",
       "      <td>117</td>\n",
       "      <td>8.0</td>\n",
       "      <td>5</td>\n",
       "      <td>2</td>\n",
       "      <td>3</td>\n",
       "      <td>10</td>\n",
       "      <td>25.9</td>\n",
       "    </tr>\n",
       "    <tr>\n",
       "      <th>6</th>\n",
       "      <td>Abraham</td>\n",
       "      <td>4</td>\n",
       "      <td>54</td>\n",
       "      <td>77</td>\n",
       "      <td>6.5</td>\n",
       "      <td>8</td>\n",
       "      <td>0</td>\n",
       "      <td>1</td>\n",
       "      <td>6</td>\n",
       "      <td>41.6</td>\n",
       "    </tr>\n",
       "    <tr>\n",
       "      <th>5</th>\n",
       "      <td>Pukki</td>\n",
       "      <td>4</td>\n",
       "      <td>54</td>\n",
       "      <td>71</td>\n",
       "      <td>4.2</td>\n",
       "      <td>6</td>\n",
       "      <td>2</td>\n",
       "      <td>0</td>\n",
       "      <td>14</td>\n",
       "      <td>40.2</td>\n",
       "    </tr>\n",
       "    <tr>\n",
       "      <th>1</th>\n",
       "      <td>Agüero</td>\n",
       "      <td>4</td>\n",
       "      <td>61</td>\n",
       "      <td>122</td>\n",
       "      <td>5.2</td>\n",
       "      <td>8</td>\n",
       "      <td>3</td>\n",
       "      <td>2</td>\n",
       "      <td>11</td>\n",
       "      <td>29.7</td>\n",
       "    </tr>\n",
       "  </tbody>\n",
       "</table>\n",
       "</div>"
      ],
      "text/plain": [
       "       web_name  element_type  total_points  now_cost  form  goals_scored  \\\n",
       "21     Patrício             1            38        51   4.5             0   \n",
       "15      Pereira             2            40        62   6.2             2   \n",
       "18  van Aanholt             2            39        56   3.8             2   \n",
       "19    Lundstram             2            39        45   5.2             1   \n",
       "0     De Bruyne             3            63       100   6.8             2   \n",
       "20       McGinn             3            39        58   5.5             3   \n",
       "13        Mount             3            46        68   6.0             4   \n",
       "2          Mané             3            57       117   8.0             5   \n",
       "6       Abraham             4            54        77   6.5             8   \n",
       "5         Pukki             4            54        71   4.2             6   \n",
       "1        Agüero             4            61       122   5.2             8   \n",
       "\n",
       "    assists  clean_sheets  team  selected_by_percent  \n",
       "21        0             3    20                 10.3  \n",
       "15        0             2     9                 10.0  \n",
       "18        0             3     7                 11.9  \n",
       "19        1             3    15                 31.5  \n",
       "0         9             3    11                 31.2  \n",
       "20        1             2     2                 12.0  \n",
       "13        1             1     6                 34.3  \n",
       "2         2             3    10                 25.9  \n",
       "6         0             1     6                 41.6  \n",
       "5         2             0    14                 40.2  \n",
       "1         3             2    11                 29.7  "
      ]
     },
     "execution_count": 9,
     "metadata": {},
     "output_type": "execute_result"
    }
   ],
   "source": [
    "dream_team = top200simple.iloc[selected,:]\n",
    "dream_team"
   ]
  },
  {
   "cell_type": "code",
   "execution_count": 10,
   "metadata": {},
   "outputs": [
    {
     "data": {
      "text/plain": [
       "31"
      ]
     },
     "execution_count": 10,
     "metadata": {},
     "output_type": "execute_result"
    }
   ],
   "source": [
    "sum(dream_team['element_type'])"
   ]
  },
  {
   "cell_type": "code",
   "execution_count": 11,
   "metadata": {},
   "outputs": [
    {
     "data": {
      "text/plain": [
       "827"
      ]
     },
     "execution_count": 11,
     "metadata": {},
     "output_type": "execute_result"
    }
   ],
   "source": [
    "sum(dream_team['now_cost'])"
   ]
  },
  {
   "cell_type": "code",
   "execution_count": 12,
   "metadata": {},
   "outputs": [
    {
     "data": {
      "text/plain": [
       "530"
      ]
     },
     "execution_count": 12,
     "metadata": {},
     "output_type": "execute_result"
    }
   ],
   "source": [
    "sum(dream_team['total_points'])"
   ]
  },
  {
   "cell_type": "code",
   "execution_count": null,
   "metadata": {},
   "outputs": [],
   "source": []
  },
  {
   "cell_type": "code",
   "execution_count": null,
   "metadata": {},
   "outputs": [],
   "source": []
  }
 ],
 "metadata": {
  "kernelspec": {
   "display_name": "Python 3",
   "language": "python",
   "name": "python3"
  },
  "language_info": {
   "codemirror_mode": {
    "name": "ipython",
    "version": 3
   },
   "file_extension": ".py",
   "mimetype": "text/x-python",
   "name": "python",
   "nbconvert_exporter": "python",
   "pygments_lexer": "ipython3",
   "version": "3.7.3"
  }
 },
 "nbformat": 4,
 "nbformat_minor": 2
}
