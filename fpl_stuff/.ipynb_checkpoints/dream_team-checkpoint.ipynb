{
 "cells": [
  {
   "cell_type": "code",
   "execution_count": 1,
   "metadata": {},
   "outputs": [
    {
     "name": "stdout",
     "output_type": "stream",
     "text": [
      "Using Python-MIP package version 1.5.1\n"
     ]
    }
   ],
   "source": [
    "# NEED TO ADD MAX TEAM CAPACITY CONSTRAINT\n",
    "\n",
    "import pandas as pd\n",
    "import numpy as np\n",
    "\n",
    "# import the required classes and definitions from Python-MIP\n",
    "from mip import Model, xsum, maximize, BINARY, INTEGER"
   ]
  },
  {
   "cell_type": "code",
   "execution_count": 2,
   "metadata": {},
   "outputs": [],
   "source": [
    "#sort the top500 by element_type so model can fill correct number of each type\n",
    "\n",
    "top500 = pd.read_csv('top500.csv')\n",
    "top500sorted = top500.sort_values('element_type')\n",
    "\n",
    "\n",
    "#lists for the dream team model, sorted by position\n",
    "eltype = list(top500sorted['element_type'])\n",
    "form = list(top500sorted['form'])\n",
    "score = list(top500sorted['total_points'])\n",
    "price = list(top500sorted['now_cost'])\n",
    "form_score = list(pd.Series(form) * pd.Series(score))\n"
   ]
  },
  {
   "cell_type": "code",
   "execution_count": 3,
   "metadata": {},
   "outputs": [
    {
     "data": {
      "text/plain": [
       "(500, 53)"
      ]
     },
     "execution_count": 3,
     "metadata": {},
     "output_type": "execute_result"
    }
   ],
   "source": [
    "top500sorted.shape"
   ]
  },
  {
   "cell_type": "code",
   "execution_count": 4,
   "metadata": {},
   "outputs": [
    {
     "data": {
      "text/plain": [
       "(500, 10)"
      ]
     },
     "execution_count": 4,
     "metadata": {},
     "output_type": "execute_result"
    }
   ],
   "source": [
    "#make a list of our main columns of interest\n",
    "simple_columns = ['web_name', 'element_type', 'total_points','now_cost', 'form',\n",
    "                 'goals_scored', 'assists', 'clean_sheets', 'team', 'selected_by_percent']\n",
    "\n",
    "#make a smaller df for easy viewing of dream_team\n",
    "top500simple = top500sorted[simple_columns]\n",
    "top500simple.shape"
   ]
  },
  {
   "cell_type": "code",
   "execution_count": 5,
   "metadata": {},
   "outputs": [
    {
     "name": "stdout",
     "output_type": "stream",
     "text": [
      "50 223 431 500\n"
     ]
    },
    {
     "data": {
      "text/plain": [
       "1     50\n",
       "2    173\n",
       "3    208\n",
       "4     69\n",
       "Name: element_type, dtype: int64"
      ]
     },
     "execution_count": 5,
     "metadata": {},
     "output_type": "execute_result"
    }
   ],
   "source": [
    "#find cutoffs for the element_types\n",
    "\n",
    "eltype_counts = top500sorted['element_type'].value_counts().sort_index()\n",
    "\n",
    "cutoff1 = eltype_counts[1]\n",
    "cutoff2 = cutoff1 + eltype_counts[2]\n",
    "cutoff3 = cutoff2 + eltype_counts[3]\n",
    "cutoff4 = cutoff3 + eltype_counts[4]\n",
    "\n",
    "print(cutoff1, cutoff2, cutoff3, cutoff4)\n",
    "eltype_counts"
   ]
  },
  {
   "cell_type": "code",
   "execution_count": 6,
   "metadata": {},
   "outputs": [
    {
     "name": "stdout",
     "output_type": "stream",
     "text": [
      "selected items: [45, 193, 201, 212, 372, 376, 380, 386, 432, 437, 499]\n"
     ]
    }
   ],
   "source": [
    "# The model\n",
    "\n",
    "# define the problem data, change the profit list here\n",
    "profit = score\n",
    "weight = price\n",
    "c = 830\n",
    "n = len(weight)\n",
    "\n",
    "#create an empty maximization\n",
    "m = Model('team_select')\n",
    "\n",
    "#add the binary decision variables to model m and store their references in a list x\n",
    "x = [m.add_var(var_type=BINARY) for i in range(n)]\n",
    "\n",
    "#define the objective function of this model \n",
    "m.objective = maximize(xsum(profit[i] * x[i] for i in range(n)))\n",
    "\n",
    "#add the capacity constraints\n",
    "m += xsum(weight[i] * x[i] for i in range(n)) <= c\n",
    "\n",
    "m += xsum(x) <= 11\n",
    "\n",
    "m += xsum(eltype[i] * x[i] for i in range(cutoff1)) >= 1\n",
    "m += xsum(eltype[i] * x[i] for i in range(cutoff1)) <= 1\n",
    "\n",
    "m += xsum(eltype[i] * x[i] for i in range(cutoff1,cutoff2)) >= 6\n",
    "m += xsum(eltype[i] * x[i] for i in range(cutoff1,cutoff2)) <= 10\n",
    "\n",
    "m += xsum(eltype[i] * x[i] for i in range(cutoff2,cutoff3)) >= 6\n",
    "m += xsum(eltype[i] * x[i] for i in range(cutoff2,cutoff3)) <= 15\n",
    "\n",
    "m += xsum(eltype[i] * x[i] for i in range(cutoff3,cutoff4)) >= 4\n",
    "m += xsum(eltype[i] * x[i] for i in range(cutoff3,cutoff4)) <= 12\n",
    "\n",
    "#Optimize the model\n",
    "m.optimize()\n",
    "\n",
    "# Compute the solution, a list of the selected items\n",
    "selected = [i for i in range(n) if x[i].x >= 0.99]\n",
    "print('selected items: {}'.format(selected))"
   ]
  },
  {
   "cell_type": "code",
   "execution_count": 7,
   "metadata": {},
   "outputs": [
    {
     "data": {
      "text/html": [
       "<div>\n",
       "<style scoped>\n",
       "    .dataframe tbody tr th:only-of-type {\n",
       "        vertical-align: middle;\n",
       "    }\n",
       "\n",
       "    .dataframe tbody tr th {\n",
       "        vertical-align: top;\n",
       "    }\n",
       "\n",
       "    .dataframe thead th {\n",
       "        text-align: right;\n",
       "    }\n",
       "</style>\n",
       "<table border=\"1\" class=\"dataframe\">\n",
       "  <thead>\n",
       "    <tr style=\"text-align: right;\">\n",
       "      <th></th>\n",
       "      <th>web_name</th>\n",
       "      <th>element_type</th>\n",
       "      <th>total_points</th>\n",
       "      <th>now_cost</th>\n",
       "      <th>form</th>\n",
       "      <th>goals_scored</th>\n",
       "      <th>assists</th>\n",
       "      <th>clean_sheets</th>\n",
       "      <th>team</th>\n",
       "      <th>selected_by_percent</th>\n",
       "    </tr>\n",
       "  </thead>\n",
       "  <tbody>\n",
       "    <tr>\n",
       "      <th>24</th>\n",
       "      <td>Ramsdale</td>\n",
       "      <td>1</td>\n",
       "      <td>48</td>\n",
       "      <td>46</td>\n",
       "      <td>6.2</td>\n",
       "      <td>0</td>\n",
       "      <td>1</td>\n",
       "      <td>3</td>\n",
       "      <td>3</td>\n",
       "      <td>2.3</td>\n",
       "    </tr>\n",
       "    <tr>\n",
       "      <th>15</th>\n",
       "      <td>Pereira</td>\n",
       "      <td>2</td>\n",
       "      <td>54</td>\n",
       "      <td>63</td>\n",
       "      <td>3.8</td>\n",
       "      <td>2</td>\n",
       "      <td>0</td>\n",
       "      <td>4</td>\n",
       "      <td>9</td>\n",
       "      <td>14.3</td>\n",
       "    </tr>\n",
       "    <tr>\n",
       "      <th>5</th>\n",
       "      <td>Lundstram</td>\n",
       "      <td>2</td>\n",
       "      <td>68</td>\n",
       "      <td>48</td>\n",
       "      <td>8.5</td>\n",
       "      <td>3</td>\n",
       "      <td>1</td>\n",
       "      <td>5</td>\n",
       "      <td>15</td>\n",
       "      <td>38.8</td>\n",
       "    </tr>\n",
       "    <tr>\n",
       "      <th>22</th>\n",
       "      <td>Stevens</td>\n",
       "      <td>2</td>\n",
       "      <td>49</td>\n",
       "      <td>51</td>\n",
       "      <td>5.5</td>\n",
       "      <td>0</td>\n",
       "      <td>2</td>\n",
       "      <td>5</td>\n",
       "      <td>15</td>\n",
       "      <td>2.2</td>\n",
       "    </tr>\n",
       "    <tr>\n",
       "      <th>1</th>\n",
       "      <td>Mané</td>\n",
       "      <td>3</td>\n",
       "      <td>76</td>\n",
       "      <td>120</td>\n",
       "      <td>7.8</td>\n",
       "      <td>6</td>\n",
       "      <td>4</td>\n",
       "      <td>3</td>\n",
       "      <td>10</td>\n",
       "      <td>32.8</td>\n",
       "    </tr>\n",
       "    <tr>\n",
       "      <th>13</th>\n",
       "      <td>Mount</td>\n",
       "      <td>3</td>\n",
       "      <td>55</td>\n",
       "      <td>69</td>\n",
       "      <td>4.0</td>\n",
       "      <td>4</td>\n",
       "      <td>2</td>\n",
       "      <td>2</td>\n",
       "      <td>6</td>\n",
       "      <td>37.3</td>\n",
       "    </tr>\n",
       "    <tr>\n",
       "      <th>2</th>\n",
       "      <td>De Bruyne</td>\n",
       "      <td>3</td>\n",
       "      <td>74</td>\n",
       "      <td>102</td>\n",
       "      <td>2.8</td>\n",
       "      <td>2</td>\n",
       "      <td>10</td>\n",
       "      <td>5</td>\n",
       "      <td>11</td>\n",
       "      <td>40.4</td>\n",
       "    </tr>\n",
       "    <tr>\n",
       "      <th>9</th>\n",
       "      <td>David Silva</td>\n",
       "      <td>3</td>\n",
       "      <td>61</td>\n",
       "      <td>77</td>\n",
       "      <td>6.0</td>\n",
       "      <td>3</td>\n",
       "      <td>5</td>\n",
       "      <td>6</td>\n",
       "      <td>11</td>\n",
       "      <td>12.4</td>\n",
       "    </tr>\n",
       "    <tr>\n",
       "      <th>3</th>\n",
       "      <td>Abraham</td>\n",
       "      <td>4</td>\n",
       "      <td>73</td>\n",
       "      <td>79</td>\n",
       "      <td>6.8</td>\n",
       "      <td>9</td>\n",
       "      <td>2</td>\n",
       "      <td>3</td>\n",
       "      <td>6</td>\n",
       "      <td>48.2</td>\n",
       "    </tr>\n",
       "    <tr>\n",
       "      <th>10</th>\n",
       "      <td>Pukki</td>\n",
       "      <td>4</td>\n",
       "      <td>59</td>\n",
       "      <td>68</td>\n",
       "      <td>1.5</td>\n",
       "      <td>6</td>\n",
       "      <td>2</td>\n",
       "      <td>1</td>\n",
       "      <td>14</td>\n",
       "      <td>24.7</td>\n",
       "    </tr>\n",
       "    <tr>\n",
       "      <th>0</th>\n",
       "      <td>Vardy</td>\n",
       "      <td>4</td>\n",
       "      <td>80</td>\n",
       "      <td>94</td>\n",
       "      <td>9.0</td>\n",
       "      <td>10</td>\n",
       "      <td>2</td>\n",
       "      <td>4</td>\n",
       "      <td>9</td>\n",
       "      <td>27.6</td>\n",
       "    </tr>\n",
       "  </tbody>\n",
       "</table>\n",
       "</div>"
      ],
      "text/plain": [
       "       web_name  element_type  total_points  now_cost  form  goals_scored  \\\n",
       "24     Ramsdale             1            48        46   6.2             0   \n",
       "15      Pereira             2            54        63   3.8             2   \n",
       "5     Lundstram             2            68        48   8.5             3   \n",
       "22      Stevens             2            49        51   5.5             0   \n",
       "1          Mané             3            76       120   7.8             6   \n",
       "13        Mount             3            55        69   4.0             4   \n",
       "2     De Bruyne             3            74       102   2.8             2   \n",
       "9   David Silva             3            61        77   6.0             3   \n",
       "3       Abraham             4            73        79   6.8             9   \n",
       "10        Pukki             4            59        68   1.5             6   \n",
       "0         Vardy             4            80        94   9.0            10   \n",
       "\n",
       "    assists  clean_sheets  team  selected_by_percent  \n",
       "24        1             3     3                  2.3  \n",
       "15        0             4     9                 14.3  \n",
       "5         1             5    15                 38.8  \n",
       "22        2             5    15                  2.2  \n",
       "1         4             3    10                 32.8  \n",
       "13        2             2     6                 37.3  \n",
       "2        10             5    11                 40.4  \n",
       "9         5             6    11                 12.4  \n",
       "3         2             3     6                 48.2  \n",
       "10        2             1    14                 24.7  \n",
       "0         2             4     9                 27.6  "
      ]
     },
     "execution_count": 7,
     "metadata": {},
     "output_type": "execute_result"
    }
   ],
   "source": [
    "dream_team = top500simple.iloc[selected,:]\n",
    "dream_team"
   ]
  },
  {
   "cell_type": "code",
   "execution_count": null,
   "metadata": {},
   "outputs": [],
   "source": []
  },
  {
   "cell_type": "code",
   "execution_count": 8,
   "metadata": {},
   "outputs": [
    {
     "data": {
      "text/plain": [
       "31"
      ]
     },
     "execution_count": 8,
     "metadata": {},
     "output_type": "execute_result"
    }
   ],
   "source": [
    "sum(dream_team['element_type'])"
   ]
  },
  {
   "cell_type": "code",
   "execution_count": 9,
   "metadata": {},
   "outputs": [
    {
     "data": {
      "text/plain": [
       "817"
      ]
     },
     "execution_count": 9,
     "metadata": {},
     "output_type": "execute_result"
    }
   ],
   "source": [
    "sum(dream_team['now_cost'])"
   ]
  },
  {
   "cell_type": "code",
   "execution_count": 10,
   "metadata": {},
   "outputs": [
    {
     "data": {
      "text/plain": [
       "697"
      ]
     },
     "execution_count": 10,
     "metadata": {},
     "output_type": "execute_result"
    }
   ],
   "source": [
    "sum(dream_team['total_points'])"
   ]
  },
  {
   "cell_type": "code",
   "execution_count": null,
   "metadata": {},
   "outputs": [],
   "source": []
  },
  {
   "cell_type": "code",
   "execution_count": null,
   "metadata": {},
   "outputs": [],
   "source": []
  }
 ],
 "metadata": {
  "kernelspec": {
   "display_name": "Python 3",
   "language": "python",
   "name": "python3"
  },
  "language_info": {
   "codemirror_mode": {
    "name": "ipython",
    "version": 3
   },
   "file_extension": ".py",
   "mimetype": "text/x-python",
   "name": "python",
   "nbconvert_exporter": "python",
   "pygments_lexer": "ipython3",
   "version": "3.7.3"
  }
 },
 "nbformat": 4,
 "nbformat_minor": 2
}
