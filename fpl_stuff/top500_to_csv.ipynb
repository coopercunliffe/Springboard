{
 "cells": [
  {
   "cell_type": "markdown",
   "metadata": {},
   "source": [
    "Takes the current top 500 players (elements) by total points, sorts by points, and saves them as a csv\n",
    "\n",
    "Should be updated weekly"
   ]
  },
  {
   "cell_type": "code",
   "execution_count": 60,
   "metadata": {},
   "outputs": [],
   "source": [
    "import pandas as pd\n",
    "import numpy as np\n",
    "import requests\n",
    "import pprint"
   ]
  },
  {
   "cell_type": "code",
   "execution_count": 62,
   "metadata": {},
   "outputs": [
    {
     "name": "stdout",
     "output_type": "stream",
     "text": [
      "events\n",
      "game_settings\n",
      "phases\n",
      "teams\n",
      "total_players\n",
      "elements\n",
      "element_stats\n",
      "element_types\n"
     ]
    }
   ],
   "source": [
    "# get the data_static dictionary\n",
    "url_static = 'https://fantasy.premierleague.com/api/bootstrap-static/'\n",
    "r_static = requests.get(url_static)\n",
    "data_static = r_static.json()\n",
    "\n",
    "for key in data_static:\n",
    "    print(key)\n"
   ]
  },
  {
   "cell_type": "code",
   "execution_count": null,
   "metadata": {},
   "outputs": [],
   "source": []
  },
  {
   "cell_type": "code",
   "execution_count": 36,
   "metadata": {},
   "outputs": [
    {
     "name": "stdout",
     "output_type": "stream",
     "text": [
      "events\n",
      "game_settings\n",
      "phases\n",
      "teams\n",
      "total_players\n",
      "elements\n",
      "element_stats\n",
      "element_types\n",
      "\n",
      "{'chance_of_playing_next_round': None, 'chance_of_playing_this_round': None, 'code': 69140, 'cost_change_event': -1, 'cost_change_event_fall': 1, 'cost_change_start': -3, 'cost_change_start_fall': 3, 'dreamteam_count': 0, 'element_type': 2, 'ep_next': '0.5', 'ep_this': '1.0', 'event_points': 0, 'first_name': 'Shkodran', 'form': '0.0', 'id': 1, 'in_dreamteam': False, 'news': '', 'news_added': None, 'now_cost': 52, 'photo': '69140.jpg', 'points_per_game': '0.0', 'second_name': 'Mustafi', 'selected_by_percent': '0.4', 'special': False, 'squad_number': None, 'status': 'a', 'team': 1, 'team_code': 3, 'total_points': 0, 'transfers_in': 5979, 'transfers_in_event': 91, 'transfers_out': 27629, 'transfers_out_event': 267, 'value_form': '0.0', 'value_season': '0.0', 'web_name': 'Mustafi', 'minutes': 0, 'goals_scored': 0, 'assists': 0, 'clean_sheets': 0, 'goals_conceded': 0, 'own_goals': 0, 'penalties_saved': 0, 'penalties_missed': 0, 'yellow_cards': 0, 'red_cards': 0, 'saves': 0, 'bonus': 0, 'bps': 0, 'influence': '0.0', 'creativity': '0.0', 'threat': '0.0', 'ict_index': '0.0'}\n"
     ]
    }
   ],
   "source": [
    "for key in data_static:\n",
    "    print(key)\n",
    "print('')\n",
    "print(data_static['elements'][0])"
   ]
  },
  {
   "cell_type": "code",
   "execution_count": 37,
   "metadata": {},
   "outputs": [
    {
     "data": {
      "text/plain": [
       "list"
      ]
     },
     "execution_count": 37,
     "metadata": {},
     "output_type": "execute_result"
    }
   ],
   "source": [
    "# make a list of all the elements (players) \n",
    "elements = data_static['elements']\n",
    "type(elements)"
   ]
  },
  {
   "cell_type": "code",
   "execution_count": 38,
   "metadata": {},
   "outputs": [
    {
     "data": {
      "text/plain": [
       "Index(['assists', 'bonus', 'bps', 'chance_of_playing_next_round',\n",
       "       'chance_of_playing_this_round', 'clean_sheets', 'code',\n",
       "       'cost_change_event', 'cost_change_event_fall', 'cost_change_start',\n",
       "       'cost_change_start_fall', 'creativity', 'dreamteam_count',\n",
       "       'element_type', 'ep_next', 'ep_this', 'event_points', 'first_name',\n",
       "       'form', 'goals_conceded', 'goals_scored', 'ict_index', 'in_dreamteam',\n",
       "       'influence', 'minutes', 'news', 'news_added', 'now_cost', 'own_goals',\n",
       "       'penalties_missed', 'penalties_saved', 'photo', 'points_per_game',\n",
       "       'red_cards', 'saves', 'second_name', 'selected_by_percent', 'special',\n",
       "       'squad_number', 'status', 'team', 'team_code', 'threat', 'total_points',\n",
       "       'transfers_in', 'transfers_in_event', 'transfers_out',\n",
       "       'transfers_out_event', 'value_form', 'value_season', 'web_name',\n",
       "       'yellow_cards'],\n",
       "      dtype='object')"
      ]
     },
     "execution_count": 38,
     "metadata": {},
     "output_type": "execute_result"
    }
   ],
   "source": [
    "df = pd.DataFrame(elements)\n",
    "df = df.set_index('id')\n",
    "df.columns"
   ]
  },
  {
   "cell_type": "code",
   "execution_count": 58,
   "metadata": {},
   "outputs": [
    {
     "data": {
      "text/plain": [
       "(500, 52)"
      ]
     },
     "execution_count": 58,
     "metadata": {},
     "output_type": "execute_result"
    }
   ],
   "source": [
    "top500 = df.sort_values(by='total_points', ascending=False).iloc[:500,:]\n",
    "\n",
    "top500 = top500.rename_axis('id_')\n",
    "\n",
    "\n",
    "top500.to_csv('top500.csv')\n",
    "\n",
    "top500.shape"
   ]
  },
  {
   "cell_type": "code",
   "execution_count": 68,
   "metadata": {},
   "outputs": [],
   "source": [
    "teams = pd.DataFrame(data_static['teams'])\n",
    "teams.to_csv('teams')"
   ]
  }
 ],
 "metadata": {
  "kernelspec": {
   "display_name": "Python 3",
   "language": "python",
   "name": "python3"
  },
  "language_info": {
   "codemirror_mode": {
    "name": "ipython",
    "version": 3
   },
   "file_extension": ".py",
   "mimetype": "text/x-python",
   "name": "python",
   "nbconvert_exporter": "python",
   "pygments_lexer": "ipython3",
   "version": "3.7.3"
  }
 },
 "nbformat": 4,
 "nbformat_minor": 2
}
