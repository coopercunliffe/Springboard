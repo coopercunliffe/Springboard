{
 "cells": [
  {
   "cell_type": "markdown",
   "metadata": {},
   "source": [
    "# What is the True Normal Human Body Temperature? \n",
    "\n",
    "#### Background\n",
    "\n",
    "The mean normal body temperature was held to be 37$^{\\circ}$C or 98.6$^{\\circ}$F for more than 120 years since it was first conceptualized and reported by Carl Wunderlich in a famous 1868 book. But, is this value statistically correct?"
   ]
  },
  {
   "cell_type": "markdown",
   "metadata": {},
   "source": [
    "<h3>Exercises</h3>\n",
    "\n",
    "<p>In this exercise, you will analyze a dataset of human body temperatures and employ the concepts of hypothesis testing, confidence intervals, and statistical significance.</p>\n",
    "\n",
    "<p>Answer the following questions <b>in this notebook below and submit to your Github account</b>.</p> \n",
    "\n",
    "<ol>\n",
    "<li>  Is the distribution of body temperatures normal? \n",
    "    <ul>\n",
    "    <li> Although this is not a requirement for the Central Limit Theorem to hold (read the introduction on Wikipedia's page about the CLT carefully: https://en.wikipedia.org/wiki/Central_limit_theorem), it gives us some peace of mind that the population may also be normally distributed if we assume that this sample is representative of the population.\n",
    "    <li> Think about the way you're going to check for the normality of the distribution. Graphical methods are usually used first, but there are also other ways: https://en.wikipedia.org/wiki/Normality_test\n",
    "    </ul>\n",
    "<li>  Is the sample size large? Are the observations independent?\n",
    "    <ul>\n",
    "    <li> Remember that this is a condition for the Central Limit Theorem, and hence the statistical tests we are using, to apply.\n",
    "    </ul>\n",
    "<li>  Is the true population mean really 98.6 degrees F?\n",
    "    <ul>\n",
    "    <li> First, try a bootstrap hypothesis test.\n",
    "    <li> Now, let's try frequentist statistical testing. Would you use a one-sample or two-sample test? Why?\n",
    "    <li> In this situation, is it appropriate to use the $t$ or $z$ statistic? \n",
    "    <li> Now try using the other test. How is the result be different? Why?\n",
    "    </ul>\n",
    "<li>  Draw a small sample of size 10 from the data and repeat both frequentist tests. \n",
    "    <ul>\n",
    "    <li> Which one is the correct one to use? \n",
    "    <li> What do you notice? What does this tell you about the difference in application of the $t$ and $z$ statistic?\n",
    "    </ul>\n",
    "<li>  At what temperature should we consider someone's temperature to be \"abnormal\"?\n",
    "    <ul>\n",
    "    <li> As in the previous example, try calculating everything using the boostrap approach, as well as the frequentist approach.\n",
    "    <li> Start by computing the margin of error and confidence interval. When calculating the confidence interval, keep in mind that you should use the appropriate formula for one draw, and not N draws.\n",
    "    </ul>\n",
    "<li>  Is there a significant difference between males and females in normal temperature?\n",
    "    <ul>\n",
    "    <li> What testing approach did you use and why?\n",
    "    <li> Write a story with your conclusion in the context of the original problem.\n",
    "    </ul>\n",
    "</ol>\n",
    "\n",
    "You can include written notes in notebook cells using Markdown: \n",
    "   - In the control panel at the top, choose Cell > Cell Type > Markdown\n",
    "   - Markdown syntax: http://nestacms.com/docs/creating-content/markdown-cheat-sheet\n",
    "\n",
    "#### Resources\n",
    "\n",
    "+ Information and data sources: http://www.amstat.org/publications/jse/datasets/normtemp.txt, http://www.amstat.org/publications/jse/jse_data_archive.htm\n",
    "+ Markdown syntax: http://nestacms.com/docs/creating-content/markdown-cheat-sheet\n",
    "\n",
    "****"
   ]
  },
  {
   "cell_type": "code",
   "execution_count": 90,
   "metadata": {},
   "outputs": [],
   "source": [
    "import pandas as pd\n",
    "import seaborn as sns\n",
    "import matplotlib.pyplot as plt\n",
    "import numpy as np\n",
    "\n",
    "df = pd.read_csv('data/human_body_temperature.csv')"
   ]
  },
  {
   "cell_type": "code",
   "execution_count": 91,
   "metadata": {
    "scrolled": true
   },
   "outputs": [
    {
     "data": {
      "image/png": "[encoded data removed]",
      "text/plain": [
       "<Figure size 432x288 with 1 Axes>"
      ]
     },
     "metadata": {
      "needs_background": "light"
     },
     "output_type": "display_data"
    },
    {
     "name": "stdout",
     "output_type": "stream",
     "text": [
      "98.24923076923078 0.7303577789050377\n"
     ]
    }
   ],
   "source": [
    "# Your work here.\n",
    "\n",
    "# 1 - temperatures appear to be normally distributed\n",
    "#     Histogram of data with a normal PDF taken with samples having same mean and std\n",
    "#     Wilks Shapiro test also shows normality\n",
    "np.random.seed(42)\n",
    "\n",
    "temps_mean = np.mean(df['temperature'])\n",
    "\n",
    "temps_std = np.std(df['temperature'])\n",
    "\n",
    "temp_samples = np.random.normal(temps_mean, temps_std, 10000)\n",
    "\n",
    "plt.hist(df['temperature'], bins=11, density=True)\n",
    "\n",
    "plt.hist(temp_samples, bins=100, density=True, histtype='step')\n",
    "\n",
    "plt.show()\n",
    "print(temps_mean, temps_std)"
   ]
  },
  {
   "cell_type": "code",
   "execution_count": 92,
   "metadata": {},
   "outputs": [
    {
     "data": {
      "text/plain": [
       "(0.9865769743919373, 0.2331680953502655)"
      ]
     },
     "execution_count": 92,
     "metadata": {},
     "output_type": "execute_result"
    }
   ],
   "source": [
    "from scipy import stats\n",
    "\n",
    "stats.shapiro(df['temperature'])\n"
   ]
  },
  {
   "cell_type": "code",
   "execution_count": 93,
   "metadata": {},
   "outputs": [],
   "source": [
    "# 2 Sample size is small enough so that 10% rule applies to assume independence."
   ]
  },
  {
   "cell_type": "code",
   "execution_count": 94,
   "metadata": {},
   "outputs": [
    {
     "data": {
      "image/png": "[encoded data removed]",
      "text/plain": [
       "<Figure size 432x288 with 1 Axes>"
      ]
     },
     "metadata": {
      "needs_background": "light"
     },
     "output_type": "display_data"
    }
   ],
   "source": [
    "# 3 Is the true population mean really 98.6 degrees F?\n",
    "#    First, try a bootstrap hypothesis test.\n",
    "#    Now, let's try frequentist statistical testing. Would you use a one-sample or two-sample test? Why?\n",
    "#    In this situation, is it appropriate to use the  𝑡  or  𝑧  statistic?\n",
    "#    Now try using the other test. How is the result be different? Why?\n",
    "\n",
    "# Clearly state hypothesis\n",
    "# Define test statistic\n",
    "# Generate many sets of simulated data assuming null hyp is true\n",
    "# compute the test statistic for each simulated data set\n",
    "# The p-value is the fraction of your simulated data sets for which \n",
    "#  the test statistic is at least as extreme as for the real data\n",
    "\n",
    "# Nul Hypothesis statement:\n",
    "# The true mean temp of the population is 98.6\n",
    "\n",
    "# first we shift the data to be the same shape but have a mean of 98.6\n",
    "temps = df['temperature']\n",
    "\n",
    "carl_value = 98.6\n",
    "\n",
    "temps_shifted = temps - temps_mean + carl_value\n",
    "\n",
    "# make an ECDF with the original and shifted temp data\n",
    "\n",
    "x1 = np.sort(temps)\n",
    "x2 = np.sort(temps_shifted)\n",
    "\n",
    "y = np.arange(1, len(x1)+1) / len(x1)\n",
    "\n",
    "plt.plot(x1, y, marker='.', color='blue', linestyle='none')\n",
    "plt.plot(x2, y, marker='.', color='green', linestyle='none')\n",
    "plt.xlabel('temps')\n",
    "plt.ylabel('ECDF')\n",
    "plt.margins(0.02)\n",
    "plt.show()\n"
   ]
  },
  {
   "cell_type": "code",
   "execution_count": 95,
   "metadata": {},
   "outputs": [],
   "source": [
    "# The test statistic is mean of sample minus carl's value\n",
    "def bootstrap_replicate_1d(data, func):\n",
    "    \"\"\"generate bootstrap replicate of 1D data\"\"\"\n",
    "    bs_sample = np.random.choice(data, len(data))\n",
    "    return func(bs_sample)\n",
    "\n",
    "def draw_bs_reps(data, func, size=1):\n",
    "    \"\"\"Draw bootstrap replicates.\"\"\"\n",
    "\n",
    "    # Initialize array of replicates: bs_replicates\n",
    "    bs_replicates = np.empty(size)\n",
    "\n",
    "    # Generate replicates\n",
    "    for i in range(size):\n",
    "        bs_replicates[i] = bootstrap_replicate_1d(data, func)\n",
    "\n",
    "    return bs_replicates\n",
    "\n",
    "def diff_from_carl(data, carl_value=98.6):\n",
    "    return np.mean(data) - carl_value"
   ]
  },
  {
   "cell_type": "code",
   "execution_count": 96,
   "metadata": {},
   "outputs": [
    {
     "data": {
      "image/png": "[encoded data removed]",
      "text/plain": [
       "<Figure size 432x288 with 1 Axes>"
      ]
     },
     "metadata": {
      "needs_background": "light"
     },
     "output_type": "display_data"
    }
   ],
   "source": [
    "bs_replicates = draw_bs_reps(temps_shifted, diff_from_carl, size=10000)\n",
    "\n",
    "plt.hist(bs_replicates, density=True, bins=21, histtype='step')\n",
    "plt.show()"
   ]
  },
  {
   "cell_type": "code",
   "execution_count": 97,
   "metadata": {},
   "outputs": [
    {
     "name": "stdout",
     "output_type": "stream",
     "text": [
      "-0.35076923076921673\n",
      "0.0\n"
     ]
    }
   ],
   "source": [
    "diff_observed = diff_from_carl(temps)\n",
    "\n",
    "p_value = np.sum(bs_replicates <= diff_observed) / 10000\n",
    "\n",
    "print(diff_observed)\n",
    "print(p_value)"
   ]
  },
  {
   "cell_type": "code",
   "execution_count": 98,
   "metadata": {},
   "outputs": [],
   "source": [
    "# Extremely unlikely that our sample mean differed from carls value\n",
    "# by 0.35, so we can easily reject null hypothesis\n",
    "\n"
   ]
  },
  {
   "cell_type": "code",
   "execution_count": 99,
   "metadata": {},
   "outputs": [
    {
     "name": "stdout",
     "output_type": "stream",
     "text": [
      "temps_mean = 98.24923076923078\n",
      "temps_std = 0.7303577789050377\n"
     ]
    }
   ],
   "source": [
    "# Now, let's try frequentist statistical testing. Would you use a one-sample or two-sample test? Why?\n",
    "# ANSWER: One sample test, because we only have carl's mean and not his data, so we only have one sample to work with\n",
    "\n",
    "# In this situation, is it appropriate to use the  𝑡  or  𝑧  statistic?\n",
    "# ANSWER t statistic because we do not know the population std, however, n=130 implies the t and z values will be similar \n",
    "print(\"temps_mean = \" + str(temps_mean))\n",
    "print(\"temps_std = \" + str(temps_std))\n",
    "\n"
   ]
  },
  {
   "cell_type": "code",
   "execution_count": 100,
   "metadata": {},
   "outputs": [
    {
     "name": "stdout",
     "output_type": "stream",
     "text": [
      "t value for sample temps = -5.475925202078116\n",
      "degrees of freedom = 129\n"
     ]
    }
   ],
   "source": [
    "# Null Hypothosis: True mean is 98.6, carls value\n",
    "\n",
    "def t_stat(sample_mean, sample_std, n, hyp_mean):\n",
    "    return (sample_mean - hyp_mean) / (sample_std / np.sqrt(n))\n",
    "\n",
    "print(\"t value for sample temps = \" + str(t_stat(temps_mean, temps_std, 130, 98.6)))\n",
    "\n",
    "print(\"degrees of freedom = 129\")\n",
    "\n"
   ]
  },
  {
   "cell_type": "code",
   "execution_count": 101,
   "metadata": {},
   "outputs": [],
   "source": [
    "# The corresponding p-value for t = -5.476 and df = 129\n",
    "# is off the chart so < .0005\n",
    "\n",
    "# Therefore we reject the null hypothesis and conclude that\n",
    "# carls value is not the true mean\n",
    "\n"
   ]
  },
  {
   "cell_type": "code",
   "execution_count": 102,
   "metadata": {},
   "outputs": [],
   "source": [
    "# Now try using the other test. How is the result be different? Why?\n",
    "\n",
    "# Using the other test simply means looking up the critical value\n",
    "# on a z table vs a t table, and we still get a p < .0002.\n",
    "# The differecne is small due to large sample size of 130.\n"
   ]
  },
  {
   "cell_type": "code",
   "execution_count": 103,
   "metadata": {},
   "outputs": [],
   "source": [
    "# Draw a small sample of size 10 from the data and \n",
    "# repeat both frequentist tests.\n",
    "# Which one is the correct one to use?\n",
    "# What do you notice? What does this tell you about the \n",
    "# difference in application of the  𝑡  and  𝑧  statistic?"
   ]
  },
  {
   "cell_type": "code",
   "execution_count": 104,
   "metadata": {},
   "outputs": [
    {
     "data": {
      "text/plain": [
       "array([98.8, 98.8, 98.8, 98.7, 98.8, 98.5, 97.1, 98.2, 97.1, 98.3])"
      ]
     },
     "execution_count": 104,
     "metadata": {},
     "output_type": "execute_result"
    }
   ],
   "source": [
    "rand_10_temps = np.random.choice(temps, 10)\n",
    "rand_10_temps"
   ]
  },
  {
   "cell_type": "code",
   "execution_count": 105,
   "metadata": {},
   "outputs": [
    {
     "name": "stdout",
     "output_type": "stream",
     "text": [
      "t value for rand_10_temps = -1.4341330442648481\n"
     ]
    }
   ],
   "source": [
    "rand_10_mean = np.mean(rand_10_temps)\n",
    "rand_10_std = np.std(rand_10_temps)\n",
    "\n",
    "print(\"t value for rand_10_temps = \" + (\n",
    "    str(t_stat(rand_10_mean, rand_10_std, 10, 98.6))))"
   ]
  },
  {
   "cell_type": "code",
   "execution_count": 106,
   "metadata": {},
   "outputs": [],
   "source": [
    "# t = 2.457 and df = 9 corresponds to a p-value \n",
    "# between .02 and .01 so we can still reject null hypothosis,\n",
    "# although with less gusto\n",
    "# a z table tells us that p is between .0069 and .0071\n",
    "# clearly a z score gives more confidence but both seem to show\n",
    "# enough confidence in this case that we can reject the null with both z and t\n",
    "\n",
    "# QUESTION: to calculate the z score from the small sample of\n",
    "# the the original sample, should I use the small sample std,\n",
    "# or the larger sample one?? to calculate z, we are supposed \n",
    "# to use the pop std, so does the larger sample count as the \n",
    "# 'population' in this case?"
   ]
  },
  {
   "cell_type": "code",
   "execution_count": 107,
   "metadata": {},
   "outputs": [],
   "source": [
    "# At what temperature should we consider someone's temperature to be \"abnormal\"?\n",
    "# As in the previous example, try calculating everything using the boostrap approach, \n",
    "# as well as the frequentist approach.\n",
    "# Start by computing the margin of error and confidence interval. \n",
    "# When calculating the confidence interval, keep in mind that you should use the \n",
    "# appropriate formula for one draw, and not N draws."
   ]
  },
  {
   "cell_type": "code",
   "execution_count": 108,
   "metadata": {},
   "outputs": [
    {
     "data": {
      "image/png": "[encoded data removed]",
      "text/plain": [
       "<Figure size 432x288 with 1 Axes>"
      ]
     },
     "metadata": {
      "needs_background": "light"
     },
     "output_type": "display_data"
    }
   ],
   "source": [
    "# Bootstrap 95% confidence interval of temp data\n",
    "temps_replicates = draw_bs_reps(temps, np.mean, size=10000)\n",
    "\n",
    "plt.hist(temps_replicates, density=True, bins=21, histtype='step')\n",
    "plt.show()\n"
   ]
  },
  {
   "cell_type": "code",
   "execution_count": 109,
   "metadata": {},
   "outputs": [
    {
     "data": {
      "text/plain": [
       "array([98.12151923, 98.37076923])"
      ]
     },
     "execution_count": 109,
     "metadata": {},
     "output_type": "execute_result"
    }
   ],
   "source": [
    "# 95% bootstrap Confidence interval for mean of temps\n",
    "\n",
    "temps_replicates_sorted = np.sort(temps_replicates)\n",
    "\n",
    "interval = np.percentile(temps_replicates_sorted, [2.5, 97.5])\n",
    "\n",
    "interval"
   ]
  },
  {
   "cell_type": "code",
   "execution_count": 110,
   "metadata": {},
   "outputs": [
    {
     "data": {
      "text/plain": [
       "0.9562"
      ]
     },
     "execution_count": 110,
     "metadata": {},
     "output_type": "execute_result"
    }
   ],
   "source": [
    "t_star = 2 #t value corresponding to 95% ci on table, also reprisents 2 standard deviations away from the mean 67 95 99 rule\n",
    "\n",
    "p_value = np.sum(np.absolute(temps_replicates - temps_mean) <= t_star*temps_std/np.sqrt(130)) / 10000\n",
    "\n",
    "p_value"
   ]
  },
  {
   "cell_type": "code",
   "execution_count": 111,
   "metadata": {},
   "outputs": [
    {
     "data": {
      "text/plain": [
       "[98.12111753984038, 98.37734399862117]"
      ]
     },
     "execution_count": 111,
     "metadata": {},
     "output_type": "execute_result"
    }
   ],
   "source": [
    "# 95% confidence interval frequentist approach\n",
    "t_interval_95 = [temps_mean - t_star*temps_std/np.sqrt(130), temps_mean + t_star*temps_std/np.sqrt(130)]\n",
    "t_interval_95\n",
    "\n",
    "# QUESTION: what is the difference between formula for 1 draw vs N draws?"
   ]
  },
  {
   "cell_type": "code",
   "execution_count": 112,
   "metadata": {},
   "outputs": [],
   "source": [
    "#Is there a significant difference between males and females in normal temperature?\n",
    "#What testing approach did you use and why?\n",
    "#Write a story with your conclusion in the context of the original problem."
   ]
  },
  {
   "cell_type": "code",
   "execution_count": 113,
   "metadata": {},
   "outputs": [
    {
     "name": "stdout",
     "output_type": "stream",
     "text": [
      "98.1046153846154 98.39384615384613 98.24923076923078\n"
     ]
    }
   ],
   "source": [
    "mens_temps = df[df['gender'] == 'M']['temperature'].reset_index(drop=True)\n",
    "womens_temps = df[df['gender'] == 'F']['temperature'].reset_index(drop=True)\n",
    "\n",
    "mens_mean = np.mean(mens_temps)\n",
    "womens_mean = np.mean(womens_temps)\n",
    "\n",
    "print(mens_mean, womens_mean, temps_mean)"
   ]
  },
  {
   "cell_type": "code",
   "execution_count": 114,
   "metadata": {},
   "outputs": [],
   "source": [
    "def permutation_sample(data1, data2):\n",
    "    \"\"\"Generate a permutation sample from two data sets.\"\"\"\n",
    "\n",
    "    # Concatenate the data sets: data\n",
    "    data = np.concatenate((data1, data2))\n",
    "\n",
    "    # Permute the concatenated array: permuted_data\n",
    "    permuted_data = np.random.permutation(data)\n",
    "\n",
    "    # Split the permuted array into two: perm_sample_1, perm_sample_2\n",
    "    perm_sample_1 = permuted_data[:len(data1)]\n",
    "    perm_sample_2 = permuted_data[len(data1):]\n",
    "\n",
    "    return perm_sample_1, perm_sample_2\n",
    "\n",
    "def draw_perm_reps(data_1, data_2, func, size=1):\n",
    "    \"\"\"Generate multiple permutation replicates.\"\"\"\n",
    "\n",
    "    # Initialize array of replicates: perm_replicates\n",
    "    perm_replicates = np.empty(size)\n",
    "\n",
    "    for i in range(size):\n",
    "        # Generate permutation sample\n",
    "        perm_sample_1, perm_sample_2 = permutation_sample(data_1, data_2)\n",
    "\n",
    "        # Compute the test statistic\n",
    "        perm_replicates[i] = func(perm_sample_1, perm_sample_2)\n",
    "\n",
    "    return perm_replicates\n",
    "\n",
    "def diff_of_means(data_1, data_2):\n",
    "    \"\"\"Difference in means of two arrays.\"\"\"\n",
    "\n",
    "    # The difference of means of data_1, data_2: diff\n",
    "    diff = np.mean(data_1) - np.mean(data_2)\n",
    "\n",
    "    return diff"
   ]
  },
  {
   "cell_type": "code",
   "execution_count": 115,
   "metadata": {},
   "outputs": [],
   "source": [
    "empirical_diff = diff_of_means(mens_temps, womens_temps)\n",
    "\n",
    "perm_replicates = draw_perm_reps(mens_temps, womens_temps, diff_of_means, size=10000)\n"
   ]
  },
  {
   "cell_type": "code",
   "execution_count": 116,
   "metadata": {},
   "outputs": [
    {
     "data": {
      "text/plain": [
       "0.0133"
      ]
     },
     "execution_count": 116,
     "metadata": {},
     "output_type": "execute_result"
    }
   ],
   "source": [
    "p = np.sum(perm_replicates <= empirical_diff) / len(perm_replicates)\n",
    "p"
   ]
  },
  {
   "cell_type": "markdown",
   "metadata": {},
   "source": [
    "When we randomly shuffled and grouped a bunch of times, we saw a difference in means as great as the measured difference only 1.3% of the time so we reject the null hypothosis that they are the same mean temps and can confidently state that women and men have different average temps"
   ]
  },
  {
   "cell_type": "code",
   "execution_count": null,
   "metadata": {},
   "outputs": [],
   "source": []
  },
  {
   "cell_type": "code",
   "execution_count": null,
   "metadata": {},
   "outputs": [],
   "source": []
  },
  {
   "cell_type": "code",
   "execution_count": null,
   "metadata": {},
   "outputs": [],
   "source": []
  },
  {
   "cell_type": "code",
   "execution_count": null,
   "metadata": {},
   "outputs": [],
   "source": []
  },
  {
   "cell_type": "code",
   "execution_count": null,
   "metadata": {},
   "outputs": [],
   "source": []
  },
  {
   "cell_type": "code",
   "execution_count": null,
   "metadata": {},
   "outputs": [],
   "source": []
  },
  {
   "cell_type": "code",
   "execution_count": null,
   "metadata": {},
   "outputs": [],
   "source": []
  },
  {
   "cell_type": "code",
   "execution_count": null,
   "metadata": {},
   "outputs": [],
   "source": []
  },
  {
   "cell_type": "code",
   "execution_count": null,
   "metadata": {},
   "outputs": [],
   "source": []
  },
  {
   "cell_type": "code",
   "execution_count": null,
   "metadata": {},
   "outputs": [],
   "source": []
  }
 ],
 "metadata": {
  "kernelspec": {
   "display_name": "Python 3",
   "language": "python",
   "name": "python3"
  },
  "language_info": {
   "codemirror_mode": {
    "name": "ipython",
    "version": 3
   },
   "file_extension": ".py",
   "mimetype": "text/x-python",
   "name": "python",
   "nbconvert_exporter": "python",
   "pygments_lexer": "ipython3",
   "version": "3.7.3"
  }
 },
 "nbformat": 4,
 "nbformat_minor": 1
}
